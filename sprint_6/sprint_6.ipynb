{
 "cells": [
  {
   "cell_type": "markdown",
   "metadata": {},
   "source": [
    "# Сбор и хранение данных"
   ]
  },
  {
   "cell_type": "markdown",
   "metadata": {},
   "source": [
    "# Что такое Web Mining\n",
    "Аналитики обогащают имеющуюся информацию в интернете.   \n",
    "Сперва находят ценные для исследования веб-ресурсы, а затем извлекают из них нужные данные.  \n",
    "Этот процесс называют **Web Mining** (от англ. web — «сеть»; mining — «добыча, разработка полезных ископаемых»)  \n",
    "Что добывают в процессе Web Mining? Всё:  \n",
    "1. Контент сайтов. Текст, картинки, файлы, таблицы.\n",
    "- Структуры сайтов. Ссылки и взаимосвязи веб-страниц — всё, что даёт представление об устройстве сайта.\n",
    "- Сведения о пользователях. Характеристики взаимодействия пользователя с сайтом. Например, данные о посетителях из знакомой вам Яндекс.Метрики. \n",
    "*По-другому Web Mining называют парсинг (от англ. parse — «проводить разбор, анализ»). Аналитики на профессиональном жаргоне говорят, что «парсят» сайты.*"
   ]
  },
  {
   "cell_type": "markdown",
   "metadata": {},
   "source": [
    "# Ваш первый get-запрос"
   ]
  },
  {
   "cell_type": "markdown",
   "metadata": {},
   "source": [
    "Чтобы получить данные с сервера, вам понадобится метод **get()**. Для отправления HTTP-запросов подключают библиотеку **requests** (англ. «запросы»). Импортируем библиотеку:"
   ]
  },
  {
   "cell_type": "code",
   "execution_count": 2,
   "metadata": {},
   "outputs": [
    {
     "name": "stdout",
     "output_type": "stream",
     "text": [
      "<html>\n",
      "<head>\n",
      "    <meta charset=\"utf-8\" />\n",
      "\n",
      "    <link rel=\"stylesheet\" href=\"https://praktikum.yandex.ru/static/fonts/landings/suisse.css\">\n",
      "    <link rel=\"stylesheet\" href=\"https://praktikum.yandex.ru/static/fonts/ys/ys.css\">\n",
      "\n",
      "    <style>\n",
      "        @font-face {\n",
      "            font-family: 'Suisse';\n",
      "            font-weight: 500;\n",
      "            src: url('https://pictures.s3.yandex.net/fonts/landings/SuisseIntl-Book.woff'),\n",
      "            url('https://pictures.s3.yandex.net/fonts/landings/SuisseIntl-Book.woff2');\n",
      "        }\n",
      "\n",
      "        @font-face {\n",
      "            font-family: 'Suisse';\n",
      "            font-weight: 400;\n",
      "            src: url('https://pictures.s3.yandex.net/fonts/landings/SuisseIntl-Regular.woff'),\n",
      "            url('https://pictures.s3.yandex.net/fonts/landings/SuisseIntl-Regular.woff2');\n",
      "        }\n",
      "\n",
      "        @font-face {\n",
      "            font-family: 'Suisse';\n",
      "            font-weight: 600;\n",
      "            src: url('https://pictures.s3.yandex.net/fonts/landings/SuisseIntl-SemiBold.woff'),\n",
      "            url('https://pictures.s3.yandex.net/fonts/landings/SuisseIntl-SemiBold.woff2');\n",
      "        }\n",
      "\n",
      "        @font-face {\n",
      "            font-family: 'Yandex Sans';\n",
      "            font-weight: 300;\n",
      "            font-style: normal;\n",
      "            font-stretch: normal;\n",
      "\n",
      "            src: url('https://pictures.s3.yandex.net/fonts/landings/YSText-Light-Web.woff2') format('woff2'),\n",
      "            url('https://pictures.s3.yandex.net/fonts/landings/YSText-Light-Web.woff') format('woff');\n",
      "        }\n",
      "\n",
      "        @font-face {\n",
      "            font-family: 'Yandex Sans';\n",
      "            font-weight: 400;\n",
      "            font-style: normal;\n",
      "            font-stretch: normal;\n",
      "\n",
      "            src: url('https://pictures.s3.yandex.net/fonts/landings/YSText-Regular-Web.woff2') format('woff2'),\n",
      "            url('https://pictures.s3.yandex.net/fonts/landings/YSText-Regular-Web.woff') format('woff');\n",
      "        }\n",
      "\n",
      "        @font-face {\n",
      "            font-family: 'Yandex Sans';\n",
      "            font-weight: 400;\n",
      "            font-style: italic;\n",
      "            font-stretch: normal;\n",
      "\n",
      "            src: url('https://pictures.s3.yandex.net/fonts/landings/YSText-RegularItalic-Web.woff2') format('woff2'),\n",
      "            url('https://pictures.s3.yandex.net/fonts/landings/YSText-RegularItalic-Web.woff') format('woff');\n",
      "        }\n",
      "\n",
      "        @font-face {\n",
      "            font-family: 'Yandex Sans';\n",
      "            font-weight: 700;\n",
      "            font-style: normal;\n",
      "            font-stretch: normal;\n",
      "\n",
      "            src: url('https://pictures.s3.yandex.net/fonts/landings/YSText-Bold-Web.woff2') format('woff2'),\n",
      "            url('https://pictures.s3.yandex.net/fonts/landings/YSText-Bold-Web.woff') format('woff');\n",
      "        }\n",
      "\n",
      "        @font-face {\n",
      "            font-family: 'Yandex Sans';\n",
      "            font-weight: 500;\n",
      "            font-style: normal;\n",
      "            font-stretch: normal;\n",
      "\n",
      "            src: url('https://pictures.s3.yandex.net/fonts/landings/YSText-Medium-Web.woff2') format('woff2'),\n",
      "            url('https://pictures.s3.yandex.net/fonts/landings/YSText-Medium-Web.woff') format('woff');\n",
      "        }\n",
      "\n",
      "        @font-face {\n",
      "            font-family: 'YSDisplay';\n",
      "            font-weight: 300;\n",
      "            font-style: normal;\n",
      "            font-stretch: normal;\n",
      "\n",
      "            src: url('https://pictures.s3.yandex.net/fonts/landings/YSDisplay-Light.woff2') format('woff2'),\n",
      "            url('https://pictures.s3.yandex.net/fonts/landings/YSDisplay-Light.woff') format('woff');\n",
      "        }\n",
      "\n",
      "        @font-face {\n",
      "            font-family: 'YSDisplay';\n",
      "            font-weight: 400;\n",
      "            font-style: normal;\n",
      "            font-stretch: normal;\n",
      "\n",
      "            src: url('https://pictures.s3.yandex.net/fonts/landings/YSDisplay-Regular.woff2') format('woff2'),\n",
      "            url('https://pictures.s3.yandex.net/fonts/landings/YSDisplay-Regular.woff') format('woff');\n",
      "        }\n",
      "\n",
      "        @font-face {\n",
      "            font-family: 'YSDisplay';\n",
      "            font-weight: 700;\n",
      "            font-style: normal;\n",
      "            font-stretch: normal;\n",
      "\n",
      "            src: url('https://pictures.s3.yandex.net/fonts/landings/YSDisplay-Bold.woff2') format('woff2'),\n",
      "            url('https://pictures.s3.yandex.net/fonts/landings/YSDisplay-Bold.woff') format('woff');\n",
      "        }\n",
      "\n",
      "        @font-face {\n",
      "            font-family: 'YSDisplay';\n",
      "            font-weight: 500;\n",
      "            font-style: normal;\n",
      "            font-stretch: normal;\n",
      "\n",
      "            src: url('https://pictures.s3.yandex.net/fonts/landings/YSDisplay-Medium.woff2') format('woff2'),\n",
      "            url('https://pictures.s3.yandex.net/fonts/landings/YSDisplay-Medium.woff') format('woff');\n",
      "        }\n",
      "\n",
      "\n",
      "        h2 {\n",
      "            font-family: 'Suisse', sans-serif;\n",
      "            font-size: 30pt;\n",
      "            width: 90%;\n",
      "            margin-right: auto;\n",
      "            margin-left: auto;\n",
      "            margin-top: 2vh;\n",
      "            text-transform: uppercase;\n",
      "        }\n",
      "        p, table {\n",
      "            font-family: 'YS Text', sans-serif;\n",
      "            font-size: 15pt;\n",
      "        }\n",
      "        p {\n",
      "            width: 90%;\n",
      "            margin: 3vh auto;\n",
      "        }\n",
      "\n",
      "        table {\n",
      "            border: 1px solid #edeff1;\n",
      "            border-spacing: 0px;\n",
      "            width: 90%;\n",
      "            margin: 0 auto;\n",
      "        }\n",
      "        tr {\n",
      "            height: 5vh;\n",
      "        }\n",
      "        tr:nth-child(2n) {\n",
      "            background: #f0eff4;\n",
      "        }\n",
      "        tr.header th {\n",
      "            border-bottom: none;\n",
      "            border-top: none;\n",
      "            border-left: none;\n",
      "            border-right: none;\n",
      "        }\n",
      "        tr,td,th {\n",
      "            border: none;\n",
      "\n",
      "        }\n",
      "        td {\n",
      "            text-align: center;\n",
      "        }\n",
      "    </style>\n",
      "\n",
      "    <title>Крупнейшие морские катастрофы XX века</title>\n",
      "</head>\n",
      "<body>\n",
      "<h2>Крупнейшие морские катастрофы XX века</h2>\n",
      "<p>Благодаря массовой культуре морские катастрофы чаще всего ассоциируются с «Титаником». Однако в начале XX века\n",
      "    столкновение парохода «Титаник» с айсбергом было не единственным кораблекрушением.</p>\n",
      "<table border=\"1\" width=\"100%\" cellpadding=\"5\" id=\"ten_years_first\">\n",
      "    <tr>\n",
      "        <th>Название корабля</th>\n",
      "        <th>Дата катастрофы</th>\n",
      "        <th>Место катастрофы</th>\n",
      "        <th>Причина катастрофы</th>\n",
      "    </tr>\n",
      "    <tr>\n",
      "        <td>«Генерал Слокам»</td>\n",
      "        <td>15 июня 1904 года</td>\n",
      "        <td>Ист-Ривер</td>\n",
      "        <td>Человеческий фактор</td>\n",
      "    </tr>\n",
      "    <tr>\n",
      "        <td>«Каморта»</td>\n",
      "        <td>6 мая 1902 года</td>\n",
      "        <td>Бенгальский залив</td>\n",
      "        <td>Природная стихия</td>\n",
      "    </tr>\n",
      "    <tr>\n",
      "        <td>«Норье»</td>\n",
      "        <td>28 июня 1904 года</td>\n",
      "        <td>Атлантический океан</td>\n",
      "        <td>Человеческий фактор</td>\n",
      "    </tr>\n",
      "</table>\n",
      "<p>Теперь посмотрим на тех, кто был рядом с «Титаником»:</p>\n",
      "<table border=\"1\" width=\"100%\" cellpadding=\"5\" id=\"ten_years_second\">\n",
      "    <tr>\n",
      "        <th>Название корабля</th>\n",
      "        <th>Дата катастрофы</th>\n",
      "        <th>Место катастрофы</th>\n",
      "        <th>Причина катастрофы</th>\n",
      "    </tr>\n",
      "    <tr>\n",
      "        <td>«Монблан»</td>\n",
      "        <td>6 декабря 1917 года</td>\n",
      "        <td>Галифакс (Канада)</td>\n",
      "        <td>Человеческий фактор</td>\n",
      "    </tr>\n",
      "    <tr>\n",
      "        <td>«Титаник»</td>\n",
      "        <td>15 апреля 1912 года</td>\n",
      "        <td>Атлантический океан</td>\n",
      "        <td>Человеческий фактор</td>\n",
      "    </tr>\n",
      "    <tr>\n",
      "        <td>«Императрица Ирландии»</td>\n",
      "        <td>29 мая 1914 года</td>\n",
      "        <td>Река Святого Лаврентия</td>\n",
      "        <td>Человеческий фактор</td>\n",
      "    </tr>\n",
      "</table>\n",
      "</body>\n",
      "</html>\n",
      "\n"
     ]
    }
   ],
   "source": [
    "import requests\n",
    "URL = 'https://code.s3.yandex.net/learning-materials/data-analyst/most_famous_shipwrecks.html'\n",
    "req = requests.get(URL) # сохраняем объект Response в переменную req\n",
    "print(req.text) # название атрибута пишут после объекта Response, разделяя точкой"
   ]
  },
  {
   "cell_type": "code",
   "execution_count": 3,
   "metadata": {},
   "outputs": [
    {
     "name": "stdout",
     "output_type": "stream",
     "text": [
      "200\n"
     ]
    }
   ],
   "source": [
    "print(req.status_code) "
   ]
  },
  {
   "cell_type": "markdown",
   "metadata": {},
   "source": [
    "1.\n",
    "Напишите get-запрос к странице https://store.data-analyst.praktikum-services.ru/. Сохраните результат в переменной req.\n",
    "2.\n",
    "Напечатайте текстовое содержание запроса. "
   ]
  },
  {
   "cell_type": "code",
   "execution_count": 4,
   "metadata": {},
   "outputs": [],
   "source": [
    "URL = 'https://store.data-analyst.praktikum-services.ru/'\n",
    "req = requests.get(URL)"
   ]
  },
  {
   "cell_type": "code",
   "execution_count": 5,
   "metadata": {},
   "outputs": [
    {
     "name": "stdout",
     "output_type": "stream",
     "text": [
      "<!DOCTYPE html><html> <head><meta charset=\"utf-8\" /><meta http-equiv=\"Content-Type\" content=\"text/html; charset=utf-8\" /><meta name=\"viewport\" content=\"width=device-width, initial-scale=1.0\" /> <!--metatextblock--><title>Магазин Prostokvashkino</title><meta property=\"og:url\" content=\"http://project1535676.tilda.ws\" /><meta property=\"og:title\" content=\"Магазин Prostokvashkino\" /><meta property=\"og:description\" content=\"\" /><meta property=\"og:type\" content=\"website\" /><meta property=\"og:image\" content=\"images/tild3666-3634-4532-b666-636363343030__-__resize__504x__Chez_Isabella.png\" /> <link rel=\"canonical\" href=\"\"><!--/metatextblock--><meta property=\"fb:app_id\" content=\"257953674358265\" /><meta name=\"format-detection\" content=\"telephone=no\" /><meta http-equiv=\"x-dns-prefetch-control\" content=\"on\"><meta name=\"robots\" content=\"nofollow\" /><link rel=\"shortcut icon\" href=\"images/tildafavicon.ico\" type=\"image/x-icon\" /><!-- Assets --><link rel=\"stylesheet\" href=\"css/tilda-grid-3.0.min.css\" type=\"text/css\" media=\"all\" /><link rel=\"stylesheet\" href=\"css/tilda-blocks-2.12.css?t=1564990437\" type=\"text/css\" media=\"all\" /><link rel=\"stylesheet\" href=\"css/tilda-animation-1.0.min.css\" type=\"text/css\" media=\"all\" /><link rel=\"stylesheet\" href=\"css/tilda-menusub-1.0.min.css\" type=\"text/css\" media=\"all\" /><link rel=\"stylesheet\" href=\"css/tilda-popup-1.1.min.css\" type=\"text/css\" media=\"all\" /><link rel=\"stylesheet\" href=\"css/tilda-slds-1.4.min.css\" type=\"text/css\" media=\"all\" /><link rel=\"stylesheet\" href=\"css/tilda-zoom-2.0.min.css\" type=\"text/css\" media=\"all\" /><link rel=\"stylesheet\" href=\"css/tilda-catalog-1.0.min.css\" type=\"text/css\" media=\"all\" /><script src=\"js/jquery-1.10.2.min.js\"></script><script src=\"js/tilda-scripts-2.8.min.js\"></script><script src=\"js/tilda-blocks-2.7.js?t=1564990437\"></script><script src=\"js/lazyload-1.3.min.js\" charset=\"utf-8\"></script><script src=\"js/tilda-animation-1.0.min.js\" charset=\"utf-8\"></script><script src=\"js/tilda-menusub-1.0.min.js\" charset=\"utf-8\"></script><script src=\"js/hammer.min.js\" charset=\"utf-8\"></script><script src=\"js/tilda-slds-1.4.min.js\" charset=\"utf-8\"></script><script src=\"js/tilda-products-1.0.min.js\" charset=\"utf-8\"></script><script src=\"js/tilda-zoom-2.0.min.js\" charset=\"utf-8\"></script><script src=\"js/tilda-catalog-1.0.min.js\" charset=\"utf-8\"></script><script src=\"js/tilda-forms-1.0.min.js\" charset=\"utf-8\"></script><script src=\"js/tilda-cart-1.0.min.js\" charset=\"utf-8\"></script><script type=\"text/javascript\">window.dataLayer = window.dataLayer || [];</script><script type=\"text/javascript\">if((/bot|google|yandex|baidu|bing|msn|duckduckbot|teoma|slurp|crawler|spider|robot|crawling|facebook/i.test(navigator.userAgent))===false && typeof(sessionStorage)!='undefined' && sessionStorage.getItem('visited')!=='y'){\tvar style=document.createElement('style');\tstyle.type='text/css';\tstyle.innerHTML='@media screen and (min-width: 980px) {.t-records {opacity: 0;}.t-records_animated {-webkit-transition: opacity ease-in-out .2s;-moz-transition: opacity ease-in-out .2s;-o-transition: opacity ease-in-out .2s;transition: opacity ease-in-out .2s;}.t-records.t-records_visible {opacity: 1;}}';\tdocument.getElementsByTagName('head')[0].appendChild(style);\t$(document).ready(function() { $('.t-records').addClass('t-records_animated'); setTimeout(function(){ $('.t-records').addClass('t-records_visible'); sessionStorage.setItem('visited','y'); },400);\t});\n",
      "}</script></head><body class=\"t-body\" style=\"margin:0;\"><!--allrecords--><div id=\"allrecords\" class=\"t-records\" data-hook=\"blocks-collection-content-node\" data-tilda-project-id=\"1535676\" data-tilda-page-id=\"6803319\" data-tilda-formskey=\"a83152e8825a1e103380d6a670aebc1f\" ><div id=\"rec119942642\" class=\"r t-rec t-rec_pt_0 t-rec_pb_0\" style=\"padding-top:0px;padding-bottom:0px;background-color:#ffffff; \" data-animationappear=\"off\" data-record-type=\"454\" data-bg-color=\"#ffffff\"><!-- T454 --><div id=\"nav119942642marker\"></div><div id=\"nav119942642\" class=\"t454 t454__positionstatic \" style=\"background-color: rgba(255,255,255,1); height:200px; \" data-bgcolor-hex=\"#ffffff\" data-bgcolor-rgba=\"rgba(255,255,255,1)\" data-navmarker=\"nav119942642marker\" data-appearoffset=\"\" data-bgopacity-two=\"\" data-menushadow=\"\" data-bgopacity=\"1\" data-menu-items-align=\"\" data-menu=\"yes\"> <div class=\"t454__maincontainer t454__c12collumns\" style=\"height:200px;\"> <div class=\"t454__logowrapper\"> <div class=\"t454__logowrapper2\"> <div style=\"display: block;\"> <a href=\"/\" target=\"_blank\" style=\"color:#000000;font-size:48px;font-weight:700;\"> <img src=\"images/tild3666-3634-4532-b666-636363343030__chez_isabella.png\" class=\"t454__imglogo t454__imglogomobile\" imgfield=\"img\" style=\"max-width: 150px; width: 150px;\" alt=\"Простоквашкино\"> </a> </div> </div> </div> <div class=\"t454__leftwrapper\" style=\"padding-left:20px; padding-right:125px; text-align: left;\"> <div class=\"t454__leftmenuwrapper\"> <ul class=\"t454__list\"> </ul> </div> </div> <div class=\"t454__rightwrapper\" style=\"padding-right:20px; padding-left:125px; text-align: right;\"> <div class=\"t454__rightmenuwrapper\"> <ul class=\"t454__list\"> </ul> </div> </div> </div></div><style>@media screen and (max-width: 980px) { #rec119942642 .t454__leftcontainer{ padding: 20px; }\n",
      "}\n",
      "@media screen and (max-width: 980px) { #rec119942642 .t454__imglogo{ padding: 20px 0; }\n",
      "}</style><script type=\"text/javascript\"> $(document).ready(function() { t454_highlight(); });\n",
      "$(window).resize(function() { t454_setBg('119942642');\n",
      "});\n",
      "$(document).ready(function() { t454_setBg('119942642');\n",
      "});</script><script type=\"text/javascript\"> $(document).ready(function() { setTimeout(function(){ t_menusub_init('119942642'); }, 500); });</script><style>@media screen and (max-width: 980px) { #rec119942642 .t-menusub__menu .t-menusub__link-item { color:#ffffff !important; }\n",
      "}</style><!--[if IE 8]><style>#rec119942642 .t454 { filter: progid:DXImageTransform.Microsoft.gradient(startColorStr='#D9ffffff', endColorstr='#D9ffffff');\n",
      "}</style><![endif]--></div><div id=\"rec119942643\" class=\"r t-rec t-rec_pt_30 t-rec_pb_30\" style=\"padding-top:30px;padding-bottom:30px; \" data-record-type=\"127\" ><!-- T119 --><div class=\"t119\"><div class=\"t-container t-align_center\"> <div class=\"t-col t-col_8 t-prefix_2\"><div class=\"t119__preface t-descr t-opacity_70\" style=\"font-size:28px;opacity:1;\" field=\"text\">Высокое качество от отечественных производителей</div></div></div></div></div><div id=\"rec119942644\" class=\"r t-rec t-rec_pt_0 t-rec_pb_180\" style=\"padding-top:0px;padding-bottom:180px; \" data-animationappear=\"off\" data-record-type=\"754\" ><!-- t754 --><div class=\"t754\"><div class=\"t-container t754__container_mobile-grid\"> <div class=\"t754__col t-col t-col_4 t-align_center t-item t754__col_mobile-grid js-product\" data-product-lid=\"1500469909554\"> <a href=\"#order\" > <div class=\"t754__content\"> <div class=\"t754__imgwrapper \" style=\"padding-bottom:111.11111111111%;\"> <div class=\"t754__bgimg t-bgimg js-product-img\" data-original=\"images/tild3335-3763-4334-a634-353066326538__HTB1NWeENVXXXXa4XpXX.jpg\" style=\"background-image:url('images/tild3335-3763-4334-a634-353066326538__-__resizeb__20x__HTB1NWeENVXXXXa4XpXX.jpg');\" bgimgfield=\"li_gallery__1500469909554:::0\"></div> </div> <div class=\"t754__textwrapper\"> <div class=\"t754__title t-name t-name_md js-product-name\" field=\"li_title__1500469909554\" style=\"font-size:20px;font-weight:400;\" >Молоко пастеризованное Му-му отборное 3,4-6,0%, 900 г</div> <div class=\"t754__price-wrapper\"> <div class=\"t754__price t754__price-item t-name t-name_xs\" style=\"font-weight:400;\"> <div class=\"t754__price-value js-product-price\" field=\"li_price__1500469909554\" >59</div> <div class=\"t754__price-currency\">р.</div> </div> </div> </div> </div> </a> </div> <div class=\"t754__col t-col t-col_4 t-align_center t-item t754__col_mobile-grid js-product\" data-product-lid=\"1498486363994\"> <a href=\"#order\" > <div class=\"t754__content\"> <div class=\"t754__imgwrapper \" style=\"padding-bottom:111.11111111111%;\"> <div class=\"t754__bgimg t-bgimg js-product-img\" data-original=\"images/tild6534-6637-4138-b638-323862653265__HTB1NWeENVXXXXa4XpXX.jpg\" style=\"background-image:url('images/tild6534-6637-4138-b638-323862653265__-__resizeb__20x__HTB1NWeENVXXXXa4XpXX.jpg');\" bgimgfield=\"li_gallery__1498486363994:::0\"></div> </div> <div class=\"t754__textwrapper\"> <div class=\"t754__title t-name t-name_md js-product-name\" field=\"li_title__1498486363994\" style=\"font-size:20px;font-weight:400;\" >Молоко цельное пастеризованное Ваша Ферма 3,4-6,0%, 1 л</div> <div class=\"t754__price-wrapper\"> <div class=\"t754__price t754__price-item t-name t-name_xs\" style=\"font-weight:400;\"> <div class=\"t754__price-value js-product-price\" field=\"li_price__1498486363994\" >71</div> <div class=\"t754__price-currency\">р.</div> </div> </div> </div> </div> </a> </div> <div class=\"t754__col t-col t-col_4 t-align_center t-item t754__col_mobile-grid js-product\" data-product-lid=\"1500469907722\"> <a href=\"#order\" > <div class=\"t754__content\"> <div class=\"t754__imgwrapper \" style=\"padding-bottom:111.11111111111%;\"> <div class=\"t754__markwrapper\"><div class=\"t754__mark\" field=\"li_mark__1500469907722\" style=\"color:#ffffff;background-color:#ff4a4a;\" >NEW</div></div> <div class=\"t754__bgimg t-bgimg js-product-img\" data-original=\"images/tild3564-6334-4930-b639-323763376263__HTB1NWeENVXXXXa4XpXX.jpg\" style=\"background-image:url('images/tild3564-6334-4930-b639-323763376263__-__resizeb__20x__HTB1NWeENVXXXXa4XpXX.jpg');\" bgimgfield=\"li_gallery__1500469907722:::0\"></div> </div> <div class=\"t754__textwrapper\"> <div class=\"t754__title t-name t-name_md js-product-name\" field=\"li_title__1500469907722\" style=\"font-size:20px;font-weight:400;\" >Молоко цельное Асеньевская ферма 3,4-6%, 900 мл</div> <div class=\"t754__price-wrapper\"> <div class=\"t754__price t754__price-item t-name t-name_xs\" style=\"font-weight:400;\"> <div class=\"t754__price-value js-product-price\" field=\"li_price__1500469907722\" >74</div> <div class=\"t754__price-currency\">р.</div> </div> </div> </div> </div> </a> </div> <div class=\"t-clear t754__separator\" ></div> <div class=\"t754__col t-col t-col_4 t-align_center t-item t754__col_mobile-grid js-product\" data-product-lid=\"1500469911302\"> <a href=\"#order\" > <div class=\"t754__content\"> <div class=\"t754__imgwrapper \" style=\"padding-bottom:111.11111111111%;\"> <div class=\"t754__bgimg t-bgimg js-product-img\" data-original=\"images/tild6132-6337-4863-a530-643333373464__HTB1NWeENVXXXXa4XpXX.jpg\" style=\"background-image:url('images/tild6132-6337-4863-a530-643333373464__-__resizeb__20x__HTB1NWeENVXXXXa4XpXX.jpg');\" bgimgfield=\"li_gallery__1500469911302:::0\"></div> </div> <div class=\"t754__textwrapper\"> <div class=\"t754__title t-name t-name_md js-product-name\" field=\"li_title__1500469911302\" style=\"font-size:20px;font-weight:400;\" >Молоко пастеризованное Искренне Ваш отборное 3,4-6,0%, 900 мл</div> <div class=\"t754__price-wrapper\"> <div class=\"t754__price t754__price-item t-name t-name_xs\" style=\"font-weight:400;\"> <div class=\"t754__price-value js-product-price\" field=\"li_price__1500469911302\" >84</div> <div class=\"t754__price-currency\">р.</div> </div> </div> </div> </div> </a> </div> <div class=\"t754__col t-col t-col_4 t-align_center t-item t754__col_mobile-grid js-product\" data-product-lid=\"1498486301712\"> <a href=\"#order\" > <div class=\"t754__content\"> <div class=\"t754__imgwrapper \" style=\"padding-bottom:111.11111111111%;\"> <div class=\"t754__bgimg t-bgimg js-product-img\" data-original=\"images/tild6662-6461-4539-b233-313735393434__HTB1NWeENVXXXXa4XpXX.jpg\" style=\"background-image:url('images/tild6662-6461-4539-b233-313735393434__-__resizeb__20x__HTB1NWeENVXXXXa4XpXX.jpg');\" bgimgfield=\"li_gallery__1498486301712:::0\"></div> </div> <div class=\"t754__textwrapper\"> <div class=\"t754__title t-name t-name_md js-product-name\" field=\"li_title__1498486301712\" style=\"font-size:20px;font-weight:400;\" >Молоко козье пастеризованное Му-му Вита 2,8-5,6%, 500 мл</div> <div class=\"t754__price-wrapper\"> <div class=\"t754__price t754__price-item t-name t-name_xs\" style=\"font-weight:400;\"> <div class=\"t754__price-value js-product-price\" field=\"li_price__1498486301712\" >139</div> <div class=\"t754__price-currency\">р.</div> </div> </div> </div> </div> </a> </div> <div class=\"t754__col t-col t-col_4 t-align_center t-item t754__col_mobile-grid js-product\" data-product-lid=\"1500470241687\"> <a href=\"#order\" > <div class=\"t754__content\"> <div class=\"t754__imgwrapper \" style=\"padding-bottom:111.11111111111%;\"> <div class=\"t754__bgimg t-bgimg js-product-img\" data-original=\"images/tild3566-3133-4564-a535-396133353262__HTB1NWeENVXXXXa4XpXX.jpg\" style=\"background-image:url('images/tild3566-3133-4564-a535-396133353262__-__resizeb__20x__HTB1NWeENVXXXXa4XpXX.jpg');\" bgimgfield=\"li_gallery__1500470241687:::0\"></div> </div> <div class=\"t754__textwrapper\"> <div class=\"t754__title t-name t-name_md js-product-name\" field=\"li_title__1500470241687\" style=\"font-size:20px;font-weight:400;\" >Молоко ультрапастеризованное Простоквашино 2,5%, 950 мл</div> <div class=\"t754__price-wrapper\"> <div class=\"t754__price t754__price-item t-name t-name_xs\" style=\"font-weight:400;\"> <div class=\"t754__price-value js-product-price\" field=\"li_price__1500470241687\" >75</div> <div class=\"t754__price-currency\">р.</div> </div> </div> </div> </div> </a> </div> <div class=\"t-clear t754__separator\" ></div> <div class=\"t754__col t-col t-col_4 t-align_center t-item t754__col_mobile-grid js-product\" data-product-lid=\"1500470243820\"> <a href=\"#order\" > <div class=\"t754__content\"> <div class=\"t754__imgwrapper \" style=\"padding-bottom:111.11111111111%;\"> <div class=\"t754__bgimg t-bgimg js-product-img\" data-original=\"images/tild3337-3035-4032-a566-636136643832__HTB1NWeENVXXXXa4XpXX.jpg\" style=\"background-image:url('images/tild3337-3035-4032-a566-636136643832__-__resizeb__20x__HTB1NWeENVXXXXa4XpXX.jpg');\" bgimgfield=\"li_gallery__1500470243820:::0\"></div> </div> <div class=\"t754__textwrapper\"> <div class=\"t754__title t-name t-name_md js-product-name\" field=\"li_title__1500470243820\" style=\"font-size:20px;font-weight:400;\" >Молоко ультрапастеризованное Му-му 2,5%, 950 мл</div> <div class=\"t754__price-wrapper\"> <div class=\"t754__price t754__price-item t-name t-name_xs\" style=\"font-weight:400;\"> <div class=\"t754__price-value js-product-price\" field=\"li_price__1500470243820\" >64</div> <div class=\"t754__price-currency\">р.</div> </div> </div> </div> </div> </a> </div> <div class=\"t754__col t-col t-col_4 t-align_center t-item t754__col_mobile-grid js-product\" data-product-lid=\"1497456130776\"> <a href=\"#order\" > <div class=\"t754__content\"> <div class=\"t754__imgwrapper \" style=\"padding-bottom:111.11111111111%;\"> <div class=\"t754__bgimg t-bgimg js-product-img\" data-original=\"images/tild3466-3435-4663-b933-623837656264__HTB1NWeENVXXXXa4XpXX.jpg\" style=\"background-image:url('images/tild3466-3435-4663-b933-623837656264__-__resizeb__20x__HTB1NWeENVXXXXa4XpXX.jpg');\" bgimgfield=\"li_gallery__1497456130776:::0\"></div> </div> <div class=\"t754__textwrapper\"> <div class=\"t754__title t-name t-name_md js-product-name\" field=\"li_title__1497456130776\" style=\"font-size:20px;font-weight:400;\" >Молоко ультрапастеризованное Му-му 3,2%, 950 мл<br /></div> <div class=\"t754__price-wrapper\"> <div class=\"t754__price t754__price-item t-name t-name_xs\" style=\"font-weight:400;\"> <div class=\"t754__price-value js-product-price\" field=\"li_price__1497456130776\" >72</div> <div class=\"t754__price-currency\">р.</div> </div> </div> </div> </div> </a> </div> <div class=\"t754__col t-col t-col_4 t-align_center t-item t754__col_mobile-grid js-product\" data-product-lid=\"1500470245901\"> <a href=\"#order\" > <div class=\"t754__content\"> <div class=\"t754__imgwrapper \" style=\"padding-bottom:111.11111111111%;\"> <div class=\"t754__bgimg t-bgimg js-product-img\" data-original=\"images/tild3532-6466-4638-b930-346664633761__HTB1NWeENVXXXXa4XpXX.jpg\" style=\"background-image:url('images/tild3532-6466-4638-b930-346664633761__-__resizeb__20x__HTB1NWeENVXXXXa4XpXX.jpg');\" bgimgfield=\"li_gallery__1500470245901:::0\"></div> </div> <div class=\"t754__textwrapper\"> <div class=\"t754__title t-name t-name_md js-product-name\" field=\"li_title__1500470245901\" style=\"font-size:20px;font-weight:400;\" >Молоко ультрапастеризованное Савушкин 3,1%, 1 л</div> <div class=\"t754__price-wrapper\"> <div class=\"t754__price t754__price-item t-name t-name_xs\" style=\"font-weight:400;\"> <div class=\"t754__price-value js-product-price\" field=\"li_price__1500470245901\" >85</div> <div class=\"t754__price-currency\">р.</div> </div> </div> </div> </div> </a> </div> <div class=\"t-clear t754__separator\" ></div> <div class=\"t754__col t-col t-col_4 t-align_center t-item t754__col_mobile-grid js-product\" data-product-lid=\"1564953618764\"> <a href=\"#order\" > <div class=\"t754__content\"> <div class=\"t754__imgwrapper \" style=\"padding-bottom:111.11111111111%;\"> <div class=\"t754__bgimg t-bgimg js-product-img\" data-original=\"images/tild6565-3333-4662-a135-383666343962__HTB1NWeENVXXXXa4XpXX.jpg\" style=\"background-image:url('images/tild6565-3333-4662-a135-383666343962__-__resizeb__20x__HTB1NWeENVXXXXa4XpXX.jpg');\" bgimgfield=\"li_gallery__1564953618764:::0\"></div> </div> <div class=\"t754__textwrapper\"> <div class=\"t754__title t-name t-name_md js-product-name\" field=\"li_title__1564953618764\" style=\"font-size:20px;font-weight:400;\" >Молоко топленое ультрапастеризованное Му-му 3,2%, 950 мл</div> <div class=\"t754__price-wrapper\"> <div class=\"t754__price t754__price-item t-name t-name_xs\" style=\"font-weight:400;\"> <div class=\"t754__price-value js-product-price\" field=\"li_price__1564953618764\" >57</div> <div class=\"t754__price-currency\">р.</div> </div> </div> </div> </div> </a> </div> <div class=\"t754__col t-col t-col_4 t-align_center t-item t754__col_mobile-grid js-product\" data-product-lid=\"1564953633175\"> <a href=\"#order\" > <div class=\"t754__content\"> <div class=\"t754__imgwrapper \" style=\"padding-bottom:111.11111111111%;\"> <div class=\"t754__bgimg t-bgimg js-product-img\" data-original=\"images/tild3566-3163-4437-b661-363366336430__HTB1NWeENVXXXXa4XpXX.jpg\" style=\"background-image:url('images/tild3566-3163-4437-b661-363366336430__-__resizeb__20x__HTB1NWeENVXXXXa4XpXX.jpg');\" bgimgfield=\"li_gallery__1564953633175:::0\"></div> </div> <div class=\"t754__textwrapper\"> <div class=\"t754__title t-name t-name_md js-product-name\" field=\"li_title__1564953633175\" style=\"font-size:20px;font-weight:400;\" >Молоко топленое пастеризованное Асеньевская ферма 4%, 0,9 л</div> <div class=\"t754__price-wrapper\"> <div class=\"t754__price t754__price-item t-name t-name_xs\" style=\"font-weight:400;\"> <div class=\"t754__price-value js-product-price\" field=\"li_price__1564953633175\" >95</div> <div class=\"t754__price-currency\">р.</div> </div> </div> </div> </div> </a> </div> <div class=\"t754__col t-col t-col_4 t-align_center t-item t754__col_mobile-grid js-product\" data-product-lid=\"1564953646913\"> <a href=\"#order\" > <div class=\"t754__content\"> <div class=\"t754__imgwrapper \" style=\"padding-bottom:111.11111111111%;\"> <div class=\"t754__bgimg t-bgimg js-product-img\" data-original=\"images/tild3466-6264-4263-b061-636539363964__HTB1NWeENVXXXXa4XpXX.jpg\" style=\"background-image:url('images/tild3466-6264-4263-b061-636539363964__-__resizeb__20x__HTB1NWeENVXXXXa4XpXX.jpg');\" bgimgfield=\"li_gallery__1564953646913:::0\"></div> </div> <div class=\"t754__textwrapper\"> <div class=\"t754__title t-name t-name_md js-product-name\" field=\"li_title__1564953646913\" style=\"font-size:20px;font-weight:400;\" >Молоко топленое Ваша Ферма, 0,5 л</div> <div class=\"t754__price-wrapper\"> <div class=\"t754__price t754__price-item t-name t-name_xs\" style=\"font-weight:400;\"> <div class=\"t754__price-value js-product-price\" field=\"li_price__1564953646913\" >90</div> <div class=\"t754__price-currency\">р.</div> </div> </div> </div> </div> </a> </div> <div class=\"t-clear t754__separator\" ></div> <div class=\"t754__col t-col t-col_4 t-align_center t-item t754__col_mobile-grid js-product\" data-product-lid=\"1564953755195\"> <a href=\"#order\" > <div class=\"t754__content\"> <div class=\"t754__imgwrapper \" style=\"padding-bottom:111.11111111111%;\"> <div class=\"t754__bgimg t-bgimg js-product-img\" data-original=\"images/tild3634-3230-4566-a136-326462396564__HTB1NWeENVXXXXa4XpXX.jpg\" style=\"background-image:url('images/tild3634-3230-4566-a136-326462396564__-__resizeb__20x__HTB1NWeENVXXXXa4XpXX.jpg');\" bgimgfield=\"li_gallery__1564953755195:::0\"></div> </div> <div class=\"t754__textwrapper\"> <div class=\"t754__title t-name t-name_md js-product-name\" field=\"li_title__1564953755195\" style=\"font-size:20px;font-weight:400;\" >Молоко пастеризованное Му-му Вита Organic цельное топленое 3,6-4,2%, 500 г</div> <div class=\"t754__price-wrapper\"> <div class=\"t754__price t754__price-item t-name t-name_xs\" style=\"font-weight:400;\"> <div class=\"t754__price-value js-product-price\" field=\"li_price__1564953755195\" >75</div> <div class=\"t754__price-currency\">р.</div> </div> </div> </div> </div> </a> </div> <div class=\"t754__col t-col t-col_4 t-align_center t-item t754__col_mobile-grid js-product\" data-product-lid=\"1564953773056\"> <div class=\"t754__content\"> <div class=\"t754__imgwrapper \" style=\"padding-bottom:111.11111111111%;\"> <div class=\"t754__bgimg t-bgimg js-product-img\" data-original=\"images/tild6262-3465-4132-b431-663237333761__HTB1NWeENVXXXXa4XpXX.jpg\" style=\"background-image:url('images/tild6262-3465-4132-b431-663237333761__-__resizeb__20x__HTB1NWeENVXXXXa4XpXX.jpg');\" bgimgfield=\"li_gallery__1564953773056:::0\"></div> </div> <div class=\"t754__textwrapper\"> <div class=\"t754__title t-name t-name_md js-product-name\" field=\"li_title__1564953773056\" style=\"font-size:20px;font-weight:400;\" >Молоко топленое Му 3,6-5,5%, 0,95 л</div> <div class=\"t754__price-wrapper\"> <div class=\"t754__price t754__price-item t-name t-name_xs\" style=\"font-weight:400;\"> <div class=\"t754__price-value js-product-price\" field=\"li_price__1564953773056\" >114</div> <div class=\"t754__price-currency\">р.</div> </div> </div> </div> </div> </div> <div class=\"t754__col t-col t-col_4 t-align_center t-item t754__col_mobile-grid js-product\" data-product-lid=\"1564953783763\"> <a href=\"#order\" > <div class=\"t754__content\"> <div class=\"t754__imgwrapper \" style=\"padding-bottom:111.11111111111%;\"> <div class=\"t754__bgimg t-bgimg js-product-img\" data-original=\"images/tild3836-3533-4438-a363-353866313166__HTB1NWeENVXXXXa4XpXX.jpg\" style=\"background-image:url('images/tild3836-3533-4438-a363-353866313166__-__resizeb__20x__HTB1NWeENVXXXXa4XpXX.jpg');\" bgimgfield=\"li_gallery__1564953783763:::0\"></div> </div> <div class=\"t754__textwrapper\"> <div class=\"t754__title t-name t-name_md js-product-name\" field=\"li_title__1564953783763\" style=\"font-size:20px;font-weight:400;\" >Молоко пастеризованное Простоквашино отборное 3,4-4,5%, 930 мл</div> <div class=\"t754__price-wrapper\"> <div class=\"t754__price t754__price-item t-name t-name_xs\" style=\"font-weight:400;\"> <div class=\"t754__price-value js-product-price\" field=\"li_price__1564953783763\" >72</div> <div class=\"t754__price-currency\">р.</div> </div> </div> </div> </div> </a> </div> <div class=\"t-clear t754__separator\" ></div> <div class=\"t754__col t-col t-col_4 t-align_center t-item t754__col_mobile-grid js-product\" data-product-lid=\"1564953794916\"> <a href=\"#order\" > <div class=\"t754__content\"> <div class=\"t754__imgwrapper \" style=\"padding-bottom:111.11111111111%;\"> <div class=\"t754__bgimg t-bgimg js-product-img\" data-original=\"images/tild3139-3235-4064-b735-613837616333__HTB1NWeENVXXXXa4XpXX.jpg\" style=\"background-image:url('images/tild3139-3235-4064-b735-613837616333__-__resizeb__20x__HTB1NWeENVXXXXa4XpXX.jpg');\" bgimgfield=\"li_gallery__1564953794916:::0\"></div> </div> <div class=\"t754__textwrapper\"> <div class=\"t754__title t-name t-name_md js-product-name\" field=\"li_title__1564953794916\" style=\"font-size:20px;font-weight:400;\" >Молоко пастеризованное Му-му деревенское отборное 3,4-6,0%, 900 г</div> <div class=\"t754__price-wrapper\"> <div class=\"t754__price t754__price-item t-name t-name_xs\" style=\"font-weight:400;\"> <div class=\"t754__price-value js-product-price\" field=\"li_price__1564953794916\" >62</div> <div class=\"t754__price-currency\">р.</div> </div> </div> </div> </div> </a> </div> <div class=\"t754__col t-col t-col_4 t-align_center t-item t754__col_mobile-grid js-product\" data-product-lid=\"1564953805255\"> <a href=\"#order\" > <div class=\"t754__content\"> <div class=\"t754__imgwrapper \" style=\"padding-bottom:111.11111111111%;\"> <div class=\"t754__bgimg t-bgimg js-product-img\" data-original=\"images/tild6365-3662-4539-b933-343161336562__HTB1NWeENVXXXXa4XpXX.jpg\" style=\"background-image:url('images/tild6365-3662-4539-b933-343161336562__-__resizeb__20x__HTB1NWeENVXXXXa4XpXX.jpg');\" bgimgfield=\"li_gallery__1564953805255:::0\"></div> </div> <div class=\"t754__textwrapper\"> <div class=\"t754__title t-name t-name_md js-product-name\" field=\"li_title__1564953805255\" style=\"font-size:20px;font-weight:400;\" >Молоко пастеризованное Му-му питьевое 3,2%, 930 мл</div> <div class=\"t754__price-wrapper\"> <div class=\"t754__price t754__price-item t-name t-name_xs\" style=\"font-weight:400;\"> <div class=\"t754__price-value js-product-price\" field=\"li_price__1564953805255\" >56</div> <div class=\"t754__price-currency\">р.</div> </div> </div> </div> </div> </a> </div> <div class=\"t754__col t-col t-col_4 t-align_center t-item t754__col_mobile-grid js-product\" data-product-lid=\"1564953814868\"> <a href=\"#order\" > <div class=\"t754__content\"> <div class=\"t754__imgwrapper \" style=\"padding-bottom:111.11111111111%;\"> <div class=\"t754__bgimg t-bgimg js-product-img\" data-original=\"images/tild6663-3039-4864-b562-306338376566__HTB1NWeENVXXXXa4XpXX.jpg\" style=\"background-image:url('images/tild6663-3039-4864-b562-306338376566__-__resizeb__20x__HTB1NWeENVXXXXa4XpXX.jpg');\" bgimgfield=\"li_gallery__1564953814868:::0\"></div> </div> <div class=\"t754__textwrapper\"> <div class=\"t754__title t-name t-name_md js-product-name\" field=\"li_title__1564953814868\" style=\"font-size:20px;font-weight:400;\" >Молоко цельное пастеризованное Му 3,6-5,5%, 1,25 л</div> <div class=\"t754__price-wrapper\"> <div class=\"t754__price t754__price-item t-name t-name_xs\" style=\"font-weight:400;\"> <div class=\"t754__price-value js-product-price\" field=\"li_price__1564953814868\" >126</div> <div class=\"t754__price-currency\">р.</div> </div> </div> </div> </div> </a> </div> <div class=\"t-clear t754__separator\" ></div> <div class=\"t754__col t-col t-col_4 t-align_center t-item t754__col_mobile-grid js-product\" data-product-lid=\"1564953825617\"> <a href=\"#order\" > <div class=\"t754__content\"> <div class=\"t754__imgwrapper \" style=\"padding-bottom:111.11111111111%;\"> <div class=\"t754__bgimg t-bgimg js-product-img\" data-original=\"images/tild3161-3733-4366-b363-363233666332__HTB1NWeENVXXXXa4XpXX.jpg\" style=\"background-image:url('images/tild3161-3733-4366-b363-363233666332__-__resizeb__20x__HTB1NWeENVXXXXa4XpXX.jpg');\" bgimgfield=\"li_gallery__1564953825617:::0\"></div> </div> <div class=\"t754__textwrapper\"> <div class=\"t754__title t-name t-name_md js-product-name\" field=\"li_title__1564953825617\" style=\"font-size:20px;font-weight:400;\" >Молоко пастеризованное питьевое Му-му цельное 3,0-6,0%, 930 мл</div> <div class=\"t754__price-wrapper\"> <div class=\"t754__price t754__price-item t-name t-name_xs\" style=\"font-weight:400;\"> <div class=\"t754__price-value js-product-price\" field=\"li_price__1564953825617\" >60</div> <div class=\"t754__price-currency\">р.</div> </div> </div> </div> </div> </a> </div> <div class=\"t754__col t-col t-col_4 t-align_center t-item t754__col_mobile-grid js-product\" data-product-lid=\"1564953837577\"> <a href=\"#order\" > <div class=\"t754__content\"> <div class=\"t754__imgwrapper \" style=\"padding-bottom:111.11111111111%;\"> <div class=\"t754__bgimg t-bgimg js-product-img\" data-original=\"images/tild3637-6563-4536-b762-316532393464__HTB1NWeENVXXXXa4XpXX.jpg\" style=\"background-image:url('images/tild3637-6563-4536-b762-316532393464__-__resizeb__20x__HTB1NWeENVXXXXa4XpXX.jpg');\" bgimgfield=\"li_gallery__1564953837577:::0\"></div> </div> <div class=\"t754__textwrapper\"> <div class=\"t754__title t-name t-name_md js-product-name\" field=\"li_title__1564953837577\" style=\"font-size:20px;font-weight:400;\" >Молоко пастеризованное Му-му Вита Organic цельное отборное 3,5-5,2%, 1 л</div> <div class=\"t754__price-wrapper\"> <div class=\"t754__price t754__price-item t-name t-name_xs\" style=\"font-weight:400;\"> <div class=\"t754__price-value js-product-price\" field=\"li_price__1564953837577\" >88</div> <div class=\"t754__price-currency\">р.</div> </div> </div> </div> </div> </a> </div> <div class=\"t754__col t-col t-col_4 t-align_center t-item t754__col_mobile-grid js-product\" data-product-lid=\"1564953847153\"> <a href=\"#order\" > <div class=\"t754__content\"> <div class=\"t754__imgwrapper \" style=\"padding-bottom:111.11111111111%;\"> <div class=\"t754__bgimg t-bgimg js-product-img\" data-original=\"images/tild3136-6365-4436-b435-386137326333__HTB1NWeENVXXXXa4XpXX.jpg\" style=\"background-image:url('images/tild3136-6365-4436-b435-386137326333__-__resizeb__20x__HTB1NWeENVXXXXa4XpXX.jpg');\" bgimgfield=\"li_gallery__1564953847153:::0\"></div> </div> <div class=\"t754__textwrapper\"> <div class=\"t754__title t-name t-name_md js-product-name\" field=\"li_title__1564953847153\" style=\"font-size:20px;font-weight:400;\" >Молоко ультрапастеризованное Простоквашино 1,5%, 950 мл</div> <div class=\"t754__price-wrapper\"> <div class=\"t754__price t754__price-item t-name t-name_xs\" style=\"font-weight:400;\"> <div class=\"t754__price-value js-product-price\" field=\"li_price__1564953847153\" >101</div> <div class=\"t754__price-currency\">р.</div> </div> </div> </div> </div> </a> </div> <div class=\"t-clear t754__separator\" ></div> <div class=\"t754__col t-col t-col_4 t-align_center t-item t754__col_mobile-grid js-product\" data-product-lid=\"1564953861446\"> <a href=\"#order\" > <div class=\"t754__content\"> <div class=\"t754__imgwrapper \" style=\"padding-bottom:111.11111111111%;\"> <div class=\"t754__bgimg t-bgimg js-product-img\" data-original=\"images/tild3163-6335-4963-a463-303537356231__HTB1NWeENVXXXXa4XpXX.jpg\" style=\"background-image:url('images/tild3163-6335-4963-a463-303537356231__-__resizeb__20x__HTB1NWeENVXXXXa4XpXX.jpg');\" bgimgfield=\"li_gallery__1564953861446:::0\"></div> </div> <div class=\"t754__textwrapper\"> <div class=\"t754__title t-name t-name_md js-product-name\" field=\"li_title__1564953861446\" style=\"font-size:20px;font-weight:400;\" >Молоко пастеризованное Простоквашино 2,5%, 930 мл</div> <div class=\"t754__price-wrapper\"> <div class=\"t754__price t754__price-item t-name t-name_xs\" style=\"font-weight:400;\"> <div class=\"t754__price-value js-product-price\" field=\"li_price__1564953861446\" >78</div> <div class=\"t754__price-currency\">р.</div> </div> </div> </div> </div> </a> </div> <div class=\"t754__col t-col t-col_4 t-align_center t-item t754__col_mobile-grid js-product\" data-product-lid=\"1564953871951\"> <a href=\"#order\" > <div class=\"t754__content\"> <div class=\"t754__imgwrapper \" style=\"padding-bottom:111.11111111111%;\"> <div class=\"t754__bgimg t-bgimg js-product-img\" data-original=\"images/tild6462-3536-4132-a138-653161396535__HTB1NWeENVXXXXa4XpXX.jpg\" style=\"background-image:url('images/tild6462-3536-4132-a138-653161396535__-__resizeb__20x__HTB1NWeENVXXXXa4XpXX.jpg');\" bgimgfield=\"li_gallery__1564953871951:::0\"></div> </div> <div class=\"t754__textwrapper\"> <div class=\"t754__title t-name t-name_md js-product-name\" field=\"li_title__1564953871951\" style=\"font-size:20px;font-weight:400;\" >Молоко ультрапастеризованное Му-му 1,5%, 950 мл</div> <div class=\"t754__price-wrapper\"> <div class=\"t754__price t754__price-item t-name t-name_xs\" style=\"font-weight:400;\"> <div class=\"t754__price-value js-product-price\" field=\"li_price__1564953871951\" >55</div> <div class=\"t754__price-currency\">р.</div> </div> </div> </div> </div> </a> </div> <div class=\"t754__col t-col t-col_4 t-align_center t-item t754__col_mobile-grid js-product\" data-product-lid=\"1564953885938\"> <a href=\"#order\" > <div class=\"t754__content\"> <div class=\"t754__imgwrapper \" style=\"padding-bottom:111.11111111111%;\"> <div class=\"t754__bgimg t-bgimg js-product-img\" data-original=\"images/tild6330-6631-4466-b137-613030386666__HTB1NWeENVXXXXa4XpXX.jpg\" style=\"background-image:url('images/tild6330-6631-4466-b137-613030386666__-__resizeb__20x__HTB1NWeENVXXXXa4XpXX.jpg');\" bgimgfield=\"li_gallery__1564953885938:::0\"></div> </div> <div class=\"t754__textwrapper\"> <div class=\"t754__title t-name t-name_md js-product-name\" field=\"li_title__1564953885938\" style=\"font-size:20px;font-weight:400;\" >Молоко пастеризованное Простоквашино 1,5%, 930 мл</div> <div class=\"t754__price-wrapper\"> <div class=\"t754__price t754__price-item t-name t-name_xs\" style=\"font-weight:400;\"> <div class=\"t754__price-value js-product-price\" field=\"li_price__1564953885938\" >73</div> <div class=\"t754__price-currency\">р.</div> </div> </div> </div> </div> </a> </div> <div class=\"t-clear t754__separator\" ></div> <div class=\"t754__col t-col t-col_4 t-align_center t-item t754__col_mobile-grid js-product\" data-product-lid=\"1564953897697\"> <a href=\"#order\" > <div class=\"t754__content\"> <div class=\"t754__imgwrapper \" style=\"padding-bottom:111.11111111111%;\"> <div class=\"t754__bgimg t-bgimg js-product-img\" data-original=\"images/tild3164-3139-4261-a134-646164333433__HTB1NWeENVXXXXa4XpXX.jpg\" style=\"background-image:url('images/tild3164-3139-4261-a134-646164333433__-__resizeb__20x__HTB1NWeENVXXXXa4XpXX.jpg');\" bgimgfield=\"li_gallery__1564953897697:::0\"></div> </div> <div class=\"t754__textwrapper\"> <div class=\"t754__title t-name t-name_md js-product-name\" field=\"li_title__1564953897697\" style=\"font-size:20px;font-weight:400;\" >Молоко пастеризованное Му-му Вита Organic питьевое 3,2%, 1000 г</div> <div class=\"t754__price-wrapper\"> <div class=\"t754__price t754__price-item t-name t-name_xs\" style=\"font-weight:400;\"> <div class=\"t754__price-value js-product-price\" field=\"li_price__1564953897697\" >107</div> <div class=\"t754__price-currency\">р.</div> </div> </div> </div> </div> </a> </div> <div class=\"t754__col t-col t-col_4 t-align_center t-item t754__col_mobile-grid js-product\" data-product-lid=\"1564953909173\"> <a href=\"#order\" > <div class=\"t754__content\"> <div class=\"t754__imgwrapper \" style=\"padding-bottom:111.11111111111%;\"> <div class=\"t754__bgimg t-bgimg js-product-img\" data-original=\"images/tild6234-6462-4139-a332-373363343134__HTB1NWeENVXXXXa4XpXX.jpg\" style=\"background-image:url('images/tild6234-6462-4139-a332-373363343134__-__resizeb__20x__HTB1NWeENVXXXXa4XpXX.jpg');\" bgimgfield=\"li_gallery__1564953909173:::0\"></div> </div> <div class=\"t754__textwrapper\"> <div class=\"t754__title t-name t-name_md js-product-name\" field=\"li_title__1564953909173\" style=\"font-size:20px;font-weight:400;\" >Молоко Петмол для капучино 3,2%, 950 мл</div> <div class=\"t754__price-wrapper\"> <div class=\"t754__price t754__price-item t-name t-name_xs\" style=\"font-weight:400;\"> <div class=\"t754__price-value js-product-price\" field=\"li_price__1564953909173\" >80</div> <div class=\"t754__price-currency\">р.</div> </div> </div> </div> </div> </a> </div> <div class=\"t754__col t-col t-col_4 t-align_center t-item t754__col_mobile-grid js-product\" data-product-lid=\"1564953922970\"> <a href=\"#order\" > <div class=\"t754__content\"> <div class=\"t754__imgwrapper \" style=\"padding-bottom:111.11111111111%;\"> <div class=\"t754__bgimg t-bgimg js-product-img\" data-original=\"images/tild3835-3035-4634-b166-383563373637__3w1280c0bild.jpg\" style=\"background-image:url('images/tild3835-3035-4634-b166-383563373637__-__resizeb__20x__3w1280c0bild.jpg');\" bgimgfield=\"li_gallery__1564953922970:::0\"></div> </div> <div class=\"t754__textwrapper\"> <div class=\"t754__title t-name t-name_md js-product-name\" field=\"li_title__1564953922970\" style=\"font-size:20px;font-weight:400;\" >Масло сливочное Простоквашино 72,5%, 180 г</div> <div class=\"t754__price-wrapper\"> <div class=\"t754__price t754__price-item t-name t-name_xs\" style=\"font-weight:400;\"> <div class=\"t754__price-value js-product-price\" field=\"li_price__1564953922970\" >109</div> <div class=\"t754__price-currency\">р.</div> </div> </div> </div> </div> </a> </div> <div class=\"t-clear t754__separator\" ></div> <div class=\"t754__col t-col t-col_4 t-align_center t-item t754__col_mobile-grid js-product\" data-product-lid=\"1564953937739\"> <a href=\"#order\" > <div class=\"t754__content\"> <div class=\"t754__imgwrapper \" style=\"padding-bottom:111.11111111111%;\"> <div class=\"t754__bgimg t-bgimg js-product-img\" data-original=\"images/tild3536-3339-4232-a530-653331623136__3w1280c0bild.jpg\" style=\"background-image:url('images/tild3536-3339-4232-a530-653331623136__-__resizeb__20x__3w1280c0bild.jpg');\" bgimgfield=\"li_gallery__1564953937739:::0\"></div> </div> <div class=\"t754__textwrapper\"> <div class=\"t754__title t-name t-name_md js-product-name\" field=\"li_title__1564953937739\" style=\"font-size:20px;font-weight:400;\" >Масло сладко-сливочное Му-му традиционное несоленое 82,5%, 450 г</div> <div class=\"t754__price-wrapper\"> <div class=\"t754__price t754__price-item t-name t-name_xs\" style=\"font-weight:400;\"> <div class=\"t754__price-value js-product-price\" field=\"li_price__1564953937739\" >234</div> <div class=\"t754__price-currency\">р.</div> </div> </div> </div> </div> </a> </div> <div class=\"t754__col t-col t-col_4 t-align_center t-item t754__col_mobile-grid js-product\" data-product-lid=\"1564953954683\"> <a href=\"#order\" > <div class=\"t754__content\"> <div class=\"t754__imgwrapper \" style=\"padding-bottom:111.11111111111%;\"> <div class=\"t754__bgimg t-bgimg js-product-img\" data-original=\"images/tild3064-6134-4631-b066-303965313734__3w1280c0bild.jpg\" style=\"background-image:url('images/tild3064-6134-4631-b066-303965313734__-__resizeb__20x__3w1280c0bild.jpg');\" bgimgfield=\"li_gallery__1564953954683:::0\"></div> </div> <div class=\"t754__textwrapper\"> <div class=\"t754__title t-name t-name_md js-product-name\" field=\"li_title__1564953954683\" style=\"font-size:20px;font-weight:400;\" >Масло сладко-сливочное Му-му Вита Organic несоленое традиционное 82,5%, 200 г</div> <div class=\"t754__price-wrapper\"> <div class=\"t754__price t754__price-item t-name t-name_xs\" style=\"font-weight:400;\"> <div class=\"t754__price-value js-product-price\" field=\"li_price__1564953954683\" >209</div> <div class=\"t754__price-currency\">р.</div> </div> </div> </div> </div> </a> </div> <div class=\"t754__col t-col t-col_4 t-align_center t-item t754__col_mobile-grid js-product\" data-product-lid=\"1564953966182\"> <a href=\"#order\" > <div class=\"t754__content\"> <div class=\"t754__imgwrapper \" style=\"padding-bottom:111.11111111111%;\"> <div class=\"t754__bgimg t-bgimg js-product-img\" data-original=\"images/tild3137-3032-4135-a639-306164643962__3w1280c0bild.jpg\" style=\"background-image:url('images/tild3137-3032-4135-a639-306164643962__-__resizeb__20x__3w1280c0bild.jpg');\" bgimgfield=\"li_gallery__1564953966182:::0\"></div> </div> <div class=\"t754__textwrapper\"> <div class=\"t754__title t-name t-name_md js-product-name\" field=\"li_title__1564953966182\" style=\"font-size:20px;font-weight:400;\" >Масло традиционное сладко-сливочное несоленое Асеньевская ферма 82,5%, 180 г</div> <div class=\"t754__price-wrapper\"> <div class=\"t754__price t754__price-item t-name t-name_xs\" style=\"font-weight:400;\"> <div class=\"t754__price-value js-product-price\" field=\"li_price__1564953966182\" >146</div> <div class=\"t754__price-currency\">р.</div> </div> </div> </div> </div> </a> </div> <div class=\"t-clear t754__separator\" ></div> <div class=\"t754__col t-col t-col_4 t-align_center t-item t754__col_mobile-grid js-product\" data-product-lid=\"1564953976534\"> <a href=\"#order\" > <div class=\"t754__content\"> <div class=\"t754__imgwrapper \" style=\"padding-bottom:111.11111111111%;\"> <div class=\"t754__bgimg t-bgimg js-product-img\" data-original=\"images/tild3564-3535-4837-a565-623835663432__3w1280c0bild.jpg\" style=\"background-image:url('images/tild3564-3535-4837-a565-623835663432__-__resizeb__20x__3w1280c0bild.jpg');\" bgimgfield=\"li_gallery__1564953976534:::0\"></div> </div> <div class=\"t754__textwrapper\"> <div class=\"t754__title t-name t-name_md js-product-name\" field=\"li_title__1564953976534\" style=\"font-size:20px;font-weight:400;\" >Масло сливочное Простоквашино 82%, 400 г</div> <div class=\"t754__price-wrapper\"> <div class=\"t754__price t754__price-item t-name t-name_xs\" style=\"font-weight:400;\"> <div class=\"t754__price-value js-product-price\" field=\"li_price__1564953976534\" >318</div> <div class=\"t754__price-currency\">р.</div> </div> </div> </div> </div> </a> </div> <div class=\"t754__col t-col t-col_4 t-align_center t-item t754__col_mobile-grid js-product\" data-product-lid=\"1564954000269\"> <a href=\"#order\" > <div class=\"t754__content\"> <div class=\"t754__imgwrapper \" style=\"padding-bottom:111.11111111111%;\"> <div class=\"t754__bgimg t-bgimg js-product-img\" data-original=\"images/tild3664-3765-4162-a362-333163316236__3w1280c0bild.jpg\" style=\"background-image:url('images/tild3664-3765-4162-a362-333163316236__-__resizeb__20x__3w1280c0bild.jpg');\" bgimgfield=\"li_gallery__1564954000269:::0\"></div> </div> <div class=\"t754__textwrapper\"> <div class=\"t754__title t-name t-name_md js-product-name\" field=\"li_title__1564954000269\" style=\"font-size:20px;font-weight:400;\" >Масло сладко-сливочное Му-му традиционное несоленое 82,5%, 180 г</div> <div class=\"t754__price-wrapper\"> <div class=\"t754__price t754__price-item t-name t-name_xs\" style=\"font-weight:400;\"> <div class=\"t754__price-value js-product-price\" field=\"li_price__1564954000269\" >124</div> <div class=\"t754__price-currency\">р.</div> </div> </div> </div> </div> </a> </div></div> </div><script type=\"text/javascript\">$(document).ready(function(){ setTimeout(function(){ t754__init('119942644'); }, 500);\n",
      "});</script><style type=\"text/css\"> #rec119942644 .t-slds__bullet_active .t-slds__bullet_body { background-color: #222 !important; } #rec119942644 .t-slds__bullet:hover .t-slds__bullet_body { background-color: #222 !important; }</style></div><div id=\"rec119942646\" class=\"r t-rec t-rec_pt_150 t-rec_pb_150\" style=\"padding-top:150px;padding-bottom:150px;background-color:#ffffff; \" data-record-type=\"560\" data-bg-color=\"#ffffff\"><!-- t560--><div class=\"t560\"> <div class=\"t-container\"> <div class=\"t-col t-col_6 t-prefix_3 t-align_center\"> <div class=\"t560__text t-text-impact t-text-impact_xs \" style=\"color:#000000;font-size:28px;font-weight:300;\" field=\"text\"><a href=\"tel:+1 123 456 78 90\" style=\"\">+1 123 456 78 90</a><br />prostokvashkino@store.com<br /></div> </div> </div></div></div><div id=\"rec119942647\" class=\"r t-rec\" style=\" \" data-animationappear=\"off\" data-record-type=\"706\" ><!--tcart--><script type=\"text/javascript\">$(document).ready(function(){\ttcart__init('119942647');\t/* hack for Android */ var ua = navigator.userAgent.toLowerCase(); var isAndroid = (ua.indexOf(\"android\") > -1); if(isAndroid) { $('.t-body').addClass('t-body_scrollable-hack-for-android'); $('head').append(\"<style>@media screen and (max-width: 560px) {\\n.t-body_scrollable-hack-for-android {\\noverflow: visible !important;\\n}\\n}\\n</style>\"); console.log('Android css hack was inited'); }\n",
      "});</script><div class=\"t706\" data-opencart-onorder=\"yes\" data-project-currency=\"р.\" data-project-currency-side=\"r\" data-project-currency-sep=\",\" data-project-currency-code=\"RUB\" > <div class=\"t706__carticon\" style=\"\"> <div class=\"t706__carticon-text t-name t-name_xs\">Click to order</div> <div class=\"t706__carticon-wrapper\"> <!--<div class=\"t706__carticon-imgwrap\"><img class=\"t706__carticon-img\" src=\"images/lib__linea__930cac0f-758b-b7ee-1eb0-b18fc6e10893__ecommerce_bag.svg\"></div>--> <div class=\"t706__carticon-imgwrap\" > <svg class=\"t706__carticon-img\" xmlns=\"http://www.w3.org/2000/svg\" viewBox=\"0 0 64 64\"><descr style=\"color:#bebebe;\">Cart</descr><path fill=\"none\" stroke-width=\"2\" stroke-miterlimit=\"10\" d=\"M44 18h10v45H10V18h10z\"/><path fill=\"none\" stroke-width=\"2\" stroke-miterlimit=\"10\" d=\"M22 24V11c0-5.523 4.477-10 10-10s10 4.477 10 10v13\"/></svg> </div> <div class=\"t706__carticon-counter\" style=\"background-color:#ff4a4a;\"></div> </div> </div> <div class=\"t706__cartwin\"> <div class=\"t706__cartwin-close\"> <div class=\"t706__cartwin-close-wrapper\"> <svg class=\"t706__cartwin-close-icon\" width=\"23px\" height=\"23px\" viewBox=\"0 0 23 23\" version=\"1.1\" xmlns=\"http://www.w3.org/2000/svg\" xmlns:xlink=\"http://www.w3.org/1999/xlink\"> <g stroke=\"none\" stroke-width=\"1\" fill=\"#fff\" fill-rule=\"evenodd\"> <rect transform=\"translate(11.313708, 11.313708) rotate(-45.000000) translate(-11.313708, -11.313708) \" x=\"10.3137085\" y=\"-3.6862915\" width=\"2\" height=\"30\"></rect> <rect transform=\"translate(11.313708, 11.313708) rotate(-315.000000) translate(-11.313708, -11.313708) \" x=\"10.3137085\" y=\"-3.6862915\" width=\"2\" height=\"30\"></rect> </g> </svg> </div> </div> <div class=\"t706__cartwin-content\"> <div class=\"t706__cartwin-top\"> <div class=\"t706__cartwin-heading t-name t-name_xl\"></div> </div> <div class=\"t706__cartwin-products\"></div> <div class=\"t706__cartwin-bottom\"> <div class=\"t706__cartwin-prodamount-wrap t-descr t-descr_sm\"> <span class=\"t706__cartwin-prodamount-label\">Total:&nbsp;</span><span class=\"t706__cartwin-prodamount\"></span> </div> </div> <div class=\"t706__orderform \"> <form id=\"form119942647\" name='form119942647' role=\"form\" action='' method='POST' data-formactiontype=\"0\" data-inputbox=\".t-input-group\" class=\"t-form js-form-proccess t-form_inputs-total_3 \" data-formsended-callback=\"t706_onSuccessCallback\" > <!-- NO ONE SERVICES CONNECTED --> <input type=\"hidden\" name=\"tildaspec-formname\" tabindex=\"-1\" value=\"Cart\"> <div class=\"js-successbox t-form__successbox t-text t-text_md\" style=\"display:none;\"></div> <div class=\"t-form__inputsbox\"> <div class=\"t-input-group t-input-group_nm\" data-input-lid=\"1496239431201\"> <div class=\"t-input-title t-descr t-descr_md\" data-redactor-toolbar=\"no\" field=\"li_title__1496239431201\" style=\"\">Ваше имя</div> <div class=\"t-input-block\"> <input type=\"text\" name=\"Name\" class=\"t-input js-tilda-rule \" value=\"\" data-tilda-req=\"1\" data-tilda-rule=\"name\" style=\"color:#000000; border:1px solid #000000; \"> <div class=\"t-input-error\"></div> </div> </div> <div class=\"t-input-group t-input-group_em\" data-input-lid=\"1496239459190\"> <div class=\"t-input-title t-descr t-descr_md\" data-redactor-toolbar=\"no\" field=\"li_title__1496239459190\" style=\"\">Ваш Email</div> <div class=\"t-input-block\"> <input type=\"text\" name=\"Email\" class=\"t-input js-tilda-rule \" value=\"\" data-tilda-req=\"1\" data-tilda-rule=\"email\" style=\"color:#000000; border:1px solid #000000; \"> <div class=\"t-input-error\"></div> </div> </div> <div class=\"t-input-group t-input-group_ph\" data-input-lid=\"1496239478607\"> <div class=\"t-input-title t-descr t-descr_md\" data-redactor-toolbar=\"no\" field=\"li_title__1496239478607\" style=\"\">Ваш телефон</div> <div class=\"t-input-block\"> <input type=\"tel\" name=\"Phone\" class=\"t-input js-tilda-rule \" value=\"\" data-tilda-req=\"1\" data-tilda-rule=\"phone\" pattern=\"[0-9]*\" style=\"color:#000000; border:1px solid #000000; \"> <div class=\"t-input-error\"></div> </div> </div><div class=\"t-form__errorbox-middle\"> <div class=\"js-errorbox-all t-form__errorbox-wrapper\" style=\"display:none;\"> <div class=\"t-form__errorbox-text t-text t-text_md\"> <p class=\"t-form__errorbox-item js-rule-error js-rule-error-all\"></p> <p class=\"t-form__errorbox-item js-rule-error js-rule-error-req\"></p> <p class=\"t-form__errorbox-item js-rule-error js-rule-error-email\"></p> <p class=\"t-form__errorbox-item js-rule-error js-rule-error-name\"></p> <p class=\"t-form__errorbox-item js-rule-error js-rule-error-phone\"></p> <p class=\"t-form__errorbox-item js-rule-error js-rule-error-minlength\"></p> <p class=\"t-form__errorbox-item js-rule-error js-rule-error-string\"></p> </div> </div></div> <div class=\"t-form__submit\"> <button type=\"submit\" class=\"t-submit\" style=\"color:#ffffff;background-color:#000000;\" >Оформить заказ</button> </div> </div> <div class=\"t-form__errorbox-bottom\"> <div class=\"js-errorbox-all t-form__errorbox-wrapper\" style=\"display:none;\"> <div class=\"t-form__errorbox-text t-text t-text_md\"> <p class=\"t-form__errorbox-item js-rule-error js-rule-error-all\"></p> <p class=\"t-form__errorbox-item js-rule-error js-rule-error-req\"></p> <p class=\"t-form__errorbox-item js-rule-error js-rule-error-email\"></p> <p class=\"t-form__errorbox-item js-rule-error js-rule-error-name\"></p> <p class=\"t-form__errorbox-item js-rule-error js-rule-error-phone\"></p> <p class=\"t-form__errorbox-item js-rule-error js-rule-error-minlength\"></p> <p class=\"t-form__errorbox-item js-rule-error js-rule-error-string\"></p> </div> </div> </div> </form><style>#rec119942647 input::-webkit-input-placeholder {color:#000000; opacity: 0.5;}\t#rec119942647 input::-moz-placeholder {color:#000000; opacity: 0.5;}\t#rec119942647 input:-moz-placeholder {color:#000000; opacity: 0.5;}\t#rec119942647 input:-ms-input-placeholder {color:#000000; opacity: 0.5;}\t#rec119942647 textarea::-webkit-input-placeholder {color:#000000; opacity: 0.5;}\t#rec119942647 textarea::-moz-placeholder {color:#000000; opacity: 0.5;}\t#rec119942647 textarea:-moz-placeholder {color:#000000; opacity: 0.5;}\t#rec119942647 textarea:-ms-input-placeholder {color:#000000; opacity: 0.5;}</style> </div> </div> </div> <div class=\"t706__cartdata\"> </div> </div><!--/tcart--></div></div><!--/allrecords--><!-- Tilda copyright. Don't remove this line --><div class=\"t-tildalabel t-tildalabel-free\" id=\"tildacopy\" data-tilda-sign=\"1535676#6803319\"><div class=\"t-tildalabel-free__main\"><a href=\"https://tilda.cc/?upm=1535676\" target=\"_blank\" style=\"padding-bottom:12px; display: block;\"><img style=\"width:40px;\" src=\"images/tildacopy.png\"></a><div style=\"padding-bottom: 15px;\">This site was made on <a href=\"https://tilda.cc/?upm=1535676\" target=\"_blank\" style=\"text-decoration: none; color:inherit;\">Tilda &mdash; a website builder</a> that helps to&nbsp;create a&nbsp;website without any code</div><a href=\"https://tilda.cc/registration/\" target=\"_blank\" style=\"display: inline-block; padding: 10px 20px; font-size: 13px; border-radius: 50px; background-color: #fff; color:#000; text-decoration: none;\">Create a website</a></div><div class=\"t-tildalabel-free__links-wr\"><a class=\"t-tildalabel-free__txt-link\" href=\"http://help.tilda.ws/white-label\" target=\"_blank\">How to remove this block?</a><a class=\"t-tildalabel-free__txt-link\" href=\"https://tilda.cc/?upm=1535676\" target=\"_blank\">About platform</a><a class=\"t-tildalabel-free__txt-link\" href=\"https://tilda.cc/abuse/\" target=\"_blank\">Submit a complaint</a></div></div><!-- Stat --><script type=\"text/javascript\">if (! window.mainTracker) { window.mainTracker = 'tilda'; }\t(function (d, w, k, o, g) { var n=d.getElementsByTagName(o)[0],s=d.createElement(o),f=function(){n.parentNode.insertBefore(s,n);}; s.type = \"text/javascript\"; s.async = true; s.key = k; s.id = \"tildastatscript\"; s.src=g; if (w.opera==\"[object Opera]\") {d.addEventListener(\"DOMContentLoaded\", f, false);} else { f(); } })(document, window, '5678b606294d0b775dec0d8af0d4167c','script','https://stat.tildacdn.com/js/tildasimplestat-0.1.min.js');</script>\n",
      "<script src=\"js/custom.js\"></script>\n",
      "</body></html>\n"
     ]
    }
   ],
   "source": [
    "print(req.text)"
   ]
  },
  {
   "cell_type": "markdown",
   "metadata": {},
   "source": [
    "# Регулярные выражения\n",
    "*Регулярное выражение — правило для поиска подстрок (фрагментов текста внутри строк).*\n"
   ]
  },
  {
   "cell_type": "code",
   "execution_count": 8,
   "metadata": {},
   "outputs": [
    {
     "name": "stdout",
     "output_type": "stream",
     "text": [
      "<re.Match object; span=(1, 8), match='Генерал'>\n"
     ]
    }
   ],
   "source": [
    "import re\n",
    "string = \"«Генерал Слокам» 15 июня 1904 года Ист-Ривер Человеческий фактор\"\n",
    "print(re.search('\\w+', string))"
   ]
  },
  {
   "cell_type": "code",
   "execution_count": 12,
   "metadata": {},
   "outputs": [
    {
     "name": "stdout",
     "output_type": "stream",
     "text": [
      "Генерал\n"
     ]
    }
   ],
   "source": [
    "import re\n",
    "string = \"«Генерал Слокам» 15 июня 1904 года Ист-Ривер Человеческий фактор\"\n",
    "print(re.search('\\w+', string).group())\n"
   ]
  },
  {
   "cell_type": "code",
   "execution_count": 13,
   "metadata": {},
   "outputs": [
    {
     "name": "stdout",
     "output_type": "stream",
     "text": [
      "«Генерал Слокам»\n"
     ]
    }
   ],
   "source": [
    "import re\n",
    "\n",
    "string = \"«Генерал Слокам» 15 июня 1904 года Ист-Ривер Человеческий фактор\"\n",
    "print(re.search('«[А-я ]+»', string).group())\n"
   ]
  },
  {
   "cell_type": "code",
   "execution_count": 14,
   "metadata": {},
   "outputs": [
    {
     "name": "stdout",
     "output_type": "stream",
     "text": [
      "['«Генерал Слокам» ', ' июня ', ' года Ист-Ривер Человеческий фактор']\n"
     ]
    }
   ],
   "source": [
    "import re\n",
    "string = \"«Генерал Слокам» 15 июня 1904 года Ист-Ривер Человеческий фактор\"\n",
    "print(re.split('\\d+', string))\n"
   ]
  },
  {
   "cell_type": "code",
   "execution_count": 16,
   "metadata": {},
   "outputs": [
    {
     "name": "stdout",
     "output_type": "stream",
     "text": [
      "['«Генерал Слокам» ', ' июня 1904 года Ист-Ривер Человеческий фактор']\n"
     ]
    }
   ],
   "source": [
    "import re\n",
    "string = \"«Генерал Слокам» 15 июня 1904 года Ист-Ривер Человеческий фактор\"\n",
    "print(re.split('\\d+', string, maxsplit = 1))"
   ]
  },
  {
   "cell_type": "markdown",
   "metadata": {},
   "source": [
    "1.\n",
    "Напишите регулярное выражение для поиска в начале строки данных, которые содержат только буквы — английские или русские. Сохраните строку с выражением в переменной pattern и выведите её на экран."
   ]
  },
  {
   "cell_type": "code",
   "execution_count": 17,
   "metadata": {},
   "outputs": [
    {
     "name": "stdout",
     "output_type": "stream",
     "text": [
      "[A-z] + [А-я]\n"
     ]
    }
   ],
   "source": [
    "pattern = '[A-z] + [А-я]' #напишите регулярное выражение\n",
    "print(pattern)"
   ]
  },
  {
   "cell_type": "markdown",
   "metadata": {},
   "source": [
    "2.\n",
    "Напишите get-запрос к странице https://store.data-analyst.praktikum-services.ru/. Сохраните текстовое содержание запроса в переменной req_text. Напишите регулярное выражение, которое получает информацию внутри тегов <title> </title>. Выведите результат в следующем виде : <title>Текст внутри тега</title>."
   ]
  },
  {
   "cell_type": "code",
   "execution_count": 18,
   "metadata": {},
   "outputs": [
    {
     "name": "stdout",
     "output_type": "stream",
     "text": [
      "<title>Магазин Prostokvashkino</title>\n"
     ]
    }
   ],
   "source": [
    "import requests\n",
    "URL = 'https://store.data-analyst.praktikum-services.ru/' # сохраните ссылку на сайт\n",
    "req_text = requests.get(URL).text # получите текстовое содержание запроса\n",
    "print(re.search('<title>[A-z А-я ]+</title>', req_text).group())"
   ]
  },
  {
   "cell_type": "markdown",
   "metadata": {},
   "source": [
    "3.\n",
    "Напишите регулярное выражение, которое выводит все названия продуктов, начинающихся со слова Масло. Не включайте в название жирность и массу продукта."
   ]
  },
  {
   "cell_type": "code",
   "execution_count": 19,
   "metadata": {},
   "outputs": [
    {
     "name": "stdout",
     "output_type": "stream",
     "text": [
      "['Масло сливочное Простоквашино ', 'Масло сладко-сливочное Му-му традиционное несоленое ', 'Масло сладко-сливочное Му-му Вита Organic несоленое традиционное ', 'Масло традиционное сладко-сливочное несоленое Асеньевская ферма ', 'Масло сливочное Простоквашино ', 'Масло сладко-сливочное Му-му традиционное несоленое ']\n"
     ]
    }
   ],
   "source": [
    "print(re.findall('Масло[A-z А-я -]+', req_text))"
   ]
  },
  {
   "cell_type": "markdown",
   "metadata": {},
   "source": [
    "4.\n",
    "Напишите регулярное выражение, которое найдет все названия, начинающиеся со слова Молоко. Не включайте в название жирность и массу продукта. Сохраните результат в переменной found_products.\n",
    "Выведите сначала количество таких продуктов, а на следующей строке — сами продукты."
   ]
  },
  {
   "cell_type": "code",
   "execution_count": 21,
   "metadata": {},
   "outputs": [
    {
     "name": "stdout",
     "output_type": "stream",
     "text": [
      "26\n",
      "Молоко пастеризованное Му-му отборное  Молоко цельное пастеризованное Ваша Ферма  Молоко цельное Асеньевская ферма  Молоко пастеризованное Искренне Ваш отборное  Молоко козье пастеризованное Му-му Вита  Молоко ультрапастеризованное Простоквашино  Молоко ультрапастеризованное Му-му  Молоко ультрапастеризованное Му-му  Молоко ультрапастеризованное Савушкин  Молоко топленое ультрапастеризованное Му-му  Молоко топленое пастеризованное Асеньевская ферма  Молоко топленое Ваша Ферма Молоко пастеризованное Му-му Вита Organic цельное топленое  Молоко топленое Му  Молоко пастеризованное Простоквашино отборное  Молоко пастеризованное Му-му деревенское отборное  Молоко пастеризованное Му-му питьевое  Молоко цельное пастеризованное Му  Молоко пастеризованное питьевое Му-му цельное  Молоко пастеризованное Му-му Вита Organic цельное отборное  Молоко ультрапастеризованное Простоквашино  Молоко пастеризованное Простоквашино  Молоко ультрапастеризованное Му-му  Молоко пастеризованное Простоквашино  Молоко пастеризованное Му-му Вита Organic питьевое  Молоко Петмол для капучино \n"
     ]
    }
   ],
   "source": [
    "found_products = re.findall('Молоко[A-z А-я -]+', req_text)\n",
    "print(len(found_products))\n",
    "print(*found_products)"
   ]
  },
  {
   "cell_type": "markdown",
   "metadata": {},
   "source": [
    "# Парсинг HTML\n",
    "\n",
    "Методы библиотеки BeautifulSoup превращают HTML-файл в древовидную структуру. После этого нужный контент можно отыскать по тегам и атрибутам."
   ]
  },
  {
   "cell_type": "markdown",
   "metadata": {},
   "source": [
    "1.\n",
    "Преобразуйте HTML-страницу в объект BeautifulSoup. Сохраните результат в переменной soup."
   ]
  },
  {
   "cell_type": "code",
   "execution_count": 23,
   "metadata": {},
   "outputs": [],
   "source": [
    "import requests  # Импорт библиотеки для запросов к серверу\n",
    "from bs4 import (\n",
    "    BeautifulSoup,\n",
    ")  # Импорт библиотеки для автоматического парсинга странички\n",
    "\n",
    "URL = 'https://store.data-analyst.praktikum-services.ru/'\n",
    "req = requests.get(URL) # GET-запрос\n",
    "soup = BeautifulSoup(req.text, 'lxml') "
   ]
  },
  {
   "cell_type": "markdown",
   "metadata": {},
   "source": [
    "2.\n",
    "Добавьте в список name_products названия товаров с сайта: https://store.data-analyst.praktikum-services.ru/.\n",
    "Определите названия тегов и их атрибуты в панели разработчика. Получите нужные теги методом find_all().\n",
    "Выведите список на экран."
   ]
  },
  {
   "cell_type": "code",
   "execution_count": 25,
   "metadata": {},
   "outputs": [
    {
     "name": "stdout",
     "output_type": "stream",
     "text": [
      "['Молоко пастеризованное Му-му отборное 3,4-6,0%, 900 г', 'Молоко цельное пастеризованное Ваша Ферма 3,4-6,0%, 1 л', 'Молоко цельное Асеньевская ферма 3,4-6%, 900 мл', 'Молоко пастеризованное Искренне Ваш отборное 3,4-6,0%, 900 мл', 'Молоко козье пастеризованное Му-му Вита 2,8-5,6%, 500 мл', 'Молоко ультрапастеризованное Простоквашино 2,5%, 950 мл', 'Молоко ультрапастеризованное Му-му 2,5%, 950 мл', 'Молоко ультрапастеризованное Му-му 3,2%, 950 мл', 'Молоко ультрапастеризованное Савушкин 3,1%, 1 л', 'Молоко топленое ультрапастеризованное Му-му 3,2%, 950 мл', 'Молоко топленое пастеризованное Асеньевская ферма 4%, 0,9 л', 'Молоко топленое Ваша Ферма, 0,5 л', 'Молоко пастеризованное Му-му Вита Organic цельное топленое 3,6-4,2%, 500 г', 'Молоко топленое Му 3,6-5,5%, 0,95 л', 'Молоко пастеризованное Простоквашино отборное 3,4-4,5%, 930 мл', 'Молоко пастеризованное Му-му деревенское отборное 3,4-6,0%, 900 г', 'Молоко пастеризованное Му-му питьевое 3,2%, 930 мл', 'Молоко цельное пастеризованное Му 3,6-5,5%, 1,25 л', 'Молоко пастеризованное питьевое Му-му цельное 3,0-6,0%, 930 мл', 'Молоко пастеризованное Му-му Вита Organic цельное отборное 3,5-5,2%, 1 л', 'Молоко ультрапастеризованное Простоквашино 1,5%, 950 мл', 'Молоко пастеризованное Простоквашино 2,5%, 930 мл', 'Молоко ультрапастеризованное Му-му 1,5%, 950 мл', 'Молоко пастеризованное Простоквашино 1,5%, 930 мл', 'Молоко пастеризованное Му-му Вита Organic питьевое 3,2%, 1000 г', 'Молоко Петмол для капучино 3,2%, 950 мл', 'Масло сливочное Простоквашино 72,5%, 180 г', 'Масло сладко-сливочное Му-му традиционное несоленое 82,5%, 450 г', 'Масло сладко-сливочное Му-му Вита Organic несоленое традиционное 82,5%, 200 г', 'Масло традиционное сладко-сливочное несоленое Асеньевская ферма 82,5%, 180 г', 'Масло сливочное Простоквашино 82%, 400 г', 'Масло сладко-сливочное Му-му традиционное несоленое 82,5%, 180 г']\n"
     ]
    }
   ],
   "source": [
    "name_products = [] # Список, в котором хранятся названия товаров\n",
    "for div in soup.find_all('div',attrs={'t754__title t-name t-name_md js-product-name'}):\n",
    "    name_products.append(div.text)\n",
    "print(name_products)"
   ]
  },
  {
   "cell_type": "markdown",
   "metadata": {},
   "source": [
    "3.\n",
    "Добавьте в список price цены товаров с сайта: https://store.data-analyst.praktikum-services.ru/.\n",
    "Определите имена тегов и их атрибуты в панели разработчика. Получите нужные элементы методом find_all().\n",
    "Выведите список на экран."
   ]
  },
  {
   "cell_type": "code",
   "execution_count": 27,
   "metadata": {},
   "outputs": [
    {
     "name": "stdout",
     "output_type": "stream",
     "text": [
      "59 71 74 84 139 75 64 72 85 57 95 90 75 114 72 62 56 126 60 88 101 78 55 73 107 80 109 234 209 146 318 124\n"
     ]
    }
   ],
   "source": [
    "price = [] # Cписок, в котором хранятся цены на товар\n",
    "for div in soup.find_all('div',attrs={'t754__price-value js-product-price'}):\n",
    "    price.append(div.text)\n",
    "\n",
    "print(*price)"
   ]
  },
  {
   "cell_type": "markdown",
   "metadata": {},
   "source": [
    "4.\n",
    "Добавьте данные в пустой датафрейм. Создайте столбцы 'name' и 'price' и заполните их данными из списков name_products и price. Выведите первые 5 строк датафрейма на экран."
   ]
  },
  {
   "cell_type": "code",
   "execution_count": 29,
   "metadata": {},
   "outputs": [
    {
     "name": "stdout",
     "output_type": "stream",
     "text": [
      "                                                name price\n",
      "0  Молоко пастеризованное Му-му отборное 3,4-6,0%...    59\n",
      "1  Молоко цельное пастеризованное Ваша Ферма 3,4-...    71\n",
      "2    Молоко цельное Асеньевская ферма 3,4-6%, 900 мл    74\n",
      "3  Молоко пастеризованное Искренне Ваш отборное 3...    84\n",
      "4  Молоко козье пастеризованное Му-му Вита 2,8-5,...   139\n"
     ]
    }
   ],
   "source": [
    "import pandas as pd\n",
    "products_data = pd.DataFrame()\n",
    "products_data['name'] = name_products\n",
    "products_data['price'] = price\n",
    "print(products_data.head(5))"
   ]
  },
  {
   "cell_type": "markdown",
   "metadata": {},
   "source": [
    "# API\n",
    "\n",
    "*API — тоже интерфейс. Он позволяет разработчику взаимодействовать с системой, не беспокоясь о том, как именно она реализована. Для этого API предоставляет «инструкцию» — набор специальных методов.*  \n",
    "Выгружая нужные данные через API, в GET-запросе ключевому слову params передают словарь с параметрами. По документации у прогноза погоды есть такие параметры:\n"
   ]
  },
  {
   "cell_type": "code",
   "execution_count": 30,
   "metadata": {},
   "outputs": [
    {
     "name": "stdout",
     "output_type": "stream",
     "text": [
      "{\"now\": 1566307174, \"now_dt\": \"2019-08-20T13:19:34.769Z\", \"info\": {\"f\": true, \"n\": true, \"nr\": true, \"ns\": true, \"nsr\": true, \"p\": true, \"lat\": 55.753215, \"lon\": 37.622504, \"geoid\": 213, \"slug\": \"moscow\", \"zoom\": 10, \"tzinfo\": {\"name\": \"Europe/Moscow\", \"abbr\": \"MSK\", \"offset\": 10800, \"dst\": false}, \"def_pressure_mm\": 745, \"def_pressure_pa\": 994, \"_h\": false, \"url\": \"https://yandex.ru/pogoda/moscow\"}, \"fact\": {\"temp\": 28, \"feels_like\": 28, \"icon\": \"bkn_d\", \"condition\": \"cloudy\", \"wind_speed\": 1, \"wind_gust\": 6.9, \"wind_dir\": \"w\", \"pressure_mm\": 752, \"pressure_pa\": 1003, \"humidity\": 39, \"uv_index\": 2, \"soil_temp\": 24, \"soil_moisture\": 0.36, \"daytime\": \"d\", \"polar\": false, \"season\": \"summer\", \"obs_time\": 1566306726, \"accum_prec\": {\"1\": 0, \"3\": 0, \"7\": 0}, \"source\": \"station\", \"_mode\": \"nearest(16:tp)\"}, \"forecasts\": [{\"date\": \"2019-08-20\", \"date_ts\": 1566248400, \"week\": 34, \"sunrise\": \"05:10\", \"sunset\": \"19:54\", \"rise_begin\": \"04:28\", \"set_end\": \"20:36\", \"moon_code\": 2, \"moon_text\": \"decreasing-moon\", \"parts\": {\"night\": {\"_source\": \"0,1,2,3,4,5\", \"temp_min\": 14, \"temp_max\": 16, \"temp_avg\": 15, \"feels_like\": 15, \"icon\": \"skc_n\", \"condition\": \"clear\", \"daytime\": \"n\", \"polar\": false, \"wind_speed\": 1.4, \"wind_gust\": 3.5, \"wind_dir\": \"sw\", \"pressure_mm\": 751, \"pressure_pa\": 1002, \"humidity\": 94, \"uv_index\": 0, \"soil_temp\": 15, \"soil_moisture\": 0.38, \"prec_mm\": 0, \"prec_period\": 360, \"prec_prob\": 0}, \"morning\": {\"_source\": \"6,7,8,9,10,11\", \"temp_min\": 15, \"temp_max\": 24, \"temp_avg\": 20, \"feels_like\": 21, \"icon\": \"skc_d\", \"condition\": \"clear\", \"daytime\": \"d\", \"polar\": false, \"wind_speed\": 2.4, \"wind_gust\": 5.2, \"wind_dir\": \"sw\", \"pressure_mm\": 752, \"pressure_pa\": 1003, \"humidity\": 76, \"uv_index\": 4, \"soil_temp\": 16, \"soil_moisture\": 0.37, \"prec_mm\": 0, \"prec_period\": 360, \"prec_prob\": 0}, \"day\": {\"_source\": \"12,13,14,15,16,17\", \"temp_min\": 26, \"temp_max\": 29, \"temp_avg\": 28, \"feels_like\": 30, \"icon\": \"skc_d\", \"condition\": \"clear\", \"daytime\": \"d\", \"polar\": false, \"wind_speed\": 2.8, \"wind_gust\": 6.9, \"wind_dir\": \"sw\", \"pressure_mm\": 752, \"pressure_pa\": 1003, \"humidity\": 55, \"uv_index\": 5, \"soil_temp\": 23, \"soil_moisture\": 0.36, \"prec_mm\": 0, \"prec_period\": 360, \"prec_prob\": 0}, \"evening\": {\"_source\": \"18,19,20,21,22,23\", \"temp_min\": 20, \"temp_max\": 27, \"temp_avg\": 24, \"feels_like\": 26, \"icon\": \"bkn_n\", \"condition\": \"cloudy\", \"daytime\": \"n\", \"polar\": false, \"wind_speed\": 2, \"wind_gust\": 4.8, \"wind_dir\": \"sw\", \"pressure_mm\": 752, \"pressure_pa\": 1003, \"humidity\": 74, \"uv_index\": 0, \"soil_temp\": 22, \"soil_moisture\": 0.35, \"prec_mm\": 0, \"prec_period\": 360, \"prec_prob\": 0}, \"day_short\": {\"_source\": \"8,9,10,11,12,13,14,15,16,17,18,19,20\", \"temp\": 29, \"temp_min\": 18, \"feels_like\": 32, \"icon\": \"skc_d\", \"condition\": \"clear\", \"wind_speed\": 2.8, \"wind_gust\": 6.9, \"wind_dir\": \"sw\", \"pressure_mm\": 752, \"pressure_pa\": 1003, \"humidity\": 61, \"uv_index\": 5, \"soil_temp\": 22, \"soil_moisture\": 0.36, \"prec_mm\": 0, \"prec_prob\": 0}, \"night_short\": {\"temp\": 14, \"feels_like\": 14, \"icon\": \"skc_n\", \"condition\": \"clear\", \"wind_speed\": 1.4, \"wind_gust\": 3.5, \"wind_dir\": \"sw\", \"pressure_mm\": 751, \"pressure_pa\": 1002, \"humidity\": 94, \"uv_index\": 0, \"soil_temp\": 15, \"soil_moisture\": 0.38, \"prec_mm\": 0, \"prec_prob\": 0}}, \"hours\": [{\"hour\": \"0\", \"hour_ts\": 1566248400, \"temp\": 16, \"feels_like\": 17, \"icon\": \"skc_n\", \"condition\": \"clear\", \"wind_speed\": 1, \"wind_gust\": 3.1, \"wind_dir\": \"sw\", \"pressure_mm\": 751, \"pressure_pa\": 1002, \"humidity\": 92, \"uv_index\": 0, \"soil_temp\": 15, \"soil_moisture\": 0.38, \"prec_mm\": 0, \"prec_period\": 60, \"prec_prob\": 0, \"prec_type\": 0, \"prec_strength\": 0, \"cloudness\": 0}, {\"hour\": \"1\", \"hour_ts\": 1566252000, \"temp\": 15, \"feels_like\": 16, \"icon\": \"skc_n\", \"condition\": \"clear\", \"wind_speed\": 1.1, \"wind_gust\": 3.1, \"wind_dir\": \"sw\", \"pressure_mm\": 751, \"pressure_pa\": 1002, \"humidity\": 94, \"uv_index\": 0, \"soil_temp\": 15, \"soil_moisture\": 0.38, \"prec_mm\": 0, \"prec_period\": 60, \"prec_prob\": 0, \"prec_type\": 0, \"prec_strength\": 0, \"cloudness\": 0}, {\"hour\": \"2\", \"hour_ts\": 1566255600, \"temp\": 15, \"feels_like\": 16, \"icon\": \"skc_n\", \"condition\": \"clear\", \"wind_speed\": 1.1, \"wind_gust\": 3.1, \"wind_dir\": \"sw\", \"pressure_mm\": 751, \"pressure_pa\": 1002, \"humidity\": 95, \"uv_index\": 0, \"soil_temp\": 15, \"soil_moisture\": 0.38, \"prec_mm\": 0, \"prec_period\": 60, \"prec_prob\": 0, \"prec_type\": 0, \"prec_strength\": 0, \"cloudness\": 0}, {\"hour\": \"3\", \"hour_ts\": 1566259200, \"temp\": 14, \"feels_like\": 14, \"icon\": \"skc_n\", \"condition\": \"clear\", \"wind_speed\": 1.2, \"wind_gust\": 3.5, \"wind_dir\": \"s\", \"pressure_mm\": 751, \"pressure_pa\": 1002, \"humidity\": 95, \"uv_index\": 0, \"soil_temp\": 14, \"soil_moisture\": 0.37, \"prec_mm\": 0, \"prec_period\": 60, \"prec_prob\": 0, \"prec_type\": 0, \"prec_strength\": 0, \"cloudness\": 0}, {\"hour\": \"4\", \"hour_ts\": 1566262800, \"temp\": 14, \"feels_like\": 14, \"icon\": \"skc_n\", \"condition\": \"clear\", \"wind_speed\": 1.3, \"wind_gust\": 3.5, \"wind_dir\": \"s\", \"pressure_mm\": 751, \"pressure_pa\": 1002, \"humidity\": 94, \"uv_index\": 0, \"soil_temp\": 14, \"soil_moisture\": 0.37, \"prec_mm\": 0, \"prec_period\": 60, \"prec_prob\": 0, \"prec_type\": 0, \"prec_strength\": 0, \"cloudness\": 0}, {\"hour\": \"5\", \"hour_ts\": 1566266400, \"temp\": 14, \"feels_like\": 14, \"icon\": \"skc_n\", \"condition\": \"clear\", \"wind_speed\": 1.4, \"wind_gust\": 3.5, \"wind_dir\": \"s\", \"pressure_mm\": 751, \"pressure_pa\": 1002, \"humidity\": 94, \"uv_index\": 0, \"soil_temp\": 14, \"soil_moisture\": 0.37, \"prec_mm\": 0, \"prec_period\": 60, \"prec_prob\": 0, \"prec_type\": 0, \"prec_strength\": 0, \"cloudness\": 0}, {\"hour\": \"6\", \"hour_ts\": 1566270000, \"temp\": 15, \"feels_like\": 15, \"icon\": \"skc_d\", \"condition\": \"clear\", \"wind_speed\": 1.3, \"wind_gust\": 3.8, \"wind_dir\": \"sw\", \"pressure_mm\": 752, \"pressure_pa\": 1003, \"humidity\": 94, \"uv_index\": 0, \"soil_temp\": 14, \"soil_moisture\": 0.37, \"prec_mm\": 0, \"prec_period\": 60, \"prec_prob\": 0, \"prec_type\": 0, \"prec_strength\": 0, \"cloudness\": 0}, {\"hour\": \"7\", \"hour_ts\": 1566273600, \"temp\": 16, \"feels_like\": 16, \"icon\": \"skc_d\", \"condition\": \"clear\", \"wind_speed\": 1.5, \"wind_gust\": 3.8, \"wind_dir\": \"sw\", \"pressure_mm\": 751, \"pressure_pa\": 1002, \"humidity\": 87, \"uv_index\": 0, \"soil_temp\": 14, \"soil_moisture\": 0.37, \"prec_mm\": 0, \"prec_period\": 60, \"prec_prob\": 0, \"prec_type\": 0, \"prec_strength\": 0, \"cloudness\": 0}, {\"hour\": \"8\", \"hour_ts\": 1566277200, \"temp\": 18, \"feels_like\": 18, \"icon\": \"skc_d\", \"condition\": \"clear\", \"wind_speed\": 1.8, \"wind_gust\": 3.8, \"wind_dir\": \"sw\", \"pressure_mm\": 752, \"pressure_pa\": 1003, \"humidity\": 80, \"uv_index\": 1, \"soil_temp\": 14, \"soil_moisture\": 0.37, \"prec_mm\": 0, \"prec_period\": 60, \"prec_prob\": 0, \"prec_type\": 0, \"prec_strength\": 0, \"cloudness\": 0}, {\"hour\": \"9\", \"hour_ts\": 1566280800, \"temp\": 21, \"feels_like\": 22, \"icon\": \"skc_d\", \"condition\": \"clear\", \"wind_speed\": 1.8, \"wind_gust\": 5, \"wind_dir\": \"sw\", \"pressure_mm\": 752, \"pressure_pa\": 1003, \"humidity\": 71, \"uv_index\": 2, \"soil_temp\": 17, \"soil_moisture\": 0.37, \"prec_mm\": 0, \"prec_period\": 60, \"prec_prob\": 0, \"prec_type\": 0, \"prec_strength\": 0, \"cloudness\": 0}, {\"hour\": \"10\", \"hour_ts\": 1566284400, \"temp\": 23, \"feels_like\": 24, \"icon\": \"skc_d\", \"condition\": \"clear\", \"wind_speed\": 2.4, \"wind_gust\": 5.2, \"wind_dir\": \"sw\", \"pressure_mm\": 752, \"pressure_pa\": 1003, \"humidity\": 65, \"uv_index\": 3, \"soil_temp\": 17, \"soil_moisture\": 0.37, \"prec_mm\": 0, \"prec_period\": 60, \"prec_prob\": 0, \"prec_type\": 0, \"prec_strength\": 0, \"cloudness\": 0}, {\"hour\": \"11\", \"hour_ts\": 1566288000, \"temp\": 24, \"feels_like\": 25, \"icon\": \"skc_d\", \"condition\": \"clear\", \"wind_speed\": 2.4, \"wind_gust\": 5.2, \"wind_dir\": \"sw\", \"pressure_mm\": 752, \"pressure_pa\": 1003, \"humidity\": 60, \"uv_index\": 4, \"soil_temp\": 17, \"soil_moisture\": 0.37, \"prec_mm\": 0, \"prec_period\": 60, \"prec_prob\": 0, \"prec_type\": 0, \"prec_strength\": 0, \"cloudness\": 0}, {\"hour\": \"12\", \"hour_ts\": 1566291600, \"temp\": 26, \"feels_like\": 29, \"icon\": \"skc_d\", \"condition\": \"clear\", \"wind_speed\": 1.9, \"wind_gust\": 5.4, \"wind_dir\": \"sw\", \"pressure_mm\": 752, \"pressure_pa\": 1003, \"humidity\": 59, \"uv_index\": 5, \"soil_temp\": 22, \"soil_moisture\": 0.36, \"prec_mm\": 0, \"prec_period\": 60, \"prec_prob\": 0, \"prec_type\": 0, \"prec_strength\": 0, \"cloudness\": 0}, {\"hour\": \"13\", \"hour_ts\": 1566295200, \"temp\": 27, \"feels_like\": 29, \"icon\": \"skc_d\", \"condition\": \"clear\", \"wind_speed\": 2.4, \"wind_gust\": 5.4, \"wind_dir\": \"sw\", \"pressure_mm\": 752, \"pressure_pa\": 1003, \"humidity\": 55, \"uv_index\": 5, \"soil_temp\": 22, \"soil_moisture\": 0.36, \"prec_mm\": 0, \"prec_period\": 60, \"prec_prob\": 0, \"_nowcast\": true, \"prec_type\": 0, \"prec_strength\": 0, \"cloudness\": 0}, {\"hour\": \"14\", \"hour_ts\": 1566298800, \"temp\": 27, \"feels_like\": 29, \"icon\": \"skc_d\", \"condition\": \"clear\", \"wind_speed\": 2.4, \"wind_gust\": 5.4, \"wind_dir\": \"sw\", \"pressure_mm\": 752, \"pressure_pa\": 1003, \"humidity\": 54, \"uv_index\": 4, \"soil_temp\": 22, \"soil_moisture\": 0.36, \"prec_mm\": 0, \"prec_period\": 60, \"prec_prob\": 0, \"_nowcast\": true, \"prec_type\": 0, \"prec_strength\": 0, \"cloudness\": 0}, {\"hour\": \"15\", \"hour_ts\": 1566302400, \"temp\": 29, \"feels_like\": 31, \"icon\": \"skc_d\", \"condition\": \"clear\", \"wind_speed\": 2.1, \"wind_gust\": 6.9, \"wind_dir\": \"sw\", \"pressure_mm\": 751, \"pressure_pa\": 1002, \"humidity\": 51, \"uv_index\": 3, \"soil_temp\": 24, \"soil_moisture\": 0.36, \"prec_mm\": 0, \"prec_period\": 60, \"prec_prob\": 0, \"_nowcast\": true, \"prec_type\": 0, \"prec_strength\": 0, \"cloudness\": 0}, {\"hour\": \"16\", \"hour_ts\": 1566306000, \"temp\": 28, \"feels_like\": 29, \"icon\": \"skc_d\", \"condition\": \"clear\", \"wind_speed\": 2.8, \"wind_gust\": 6.9, \"wind_dir\": \"sw\", \"pressure_mm\": 752, \"pressure_pa\": 1003, \"humidity\": 53, \"uv_index\": 2, \"soil_temp\": 24, \"soil_moisture\": 0.36, \"prec_mm\": 0, \"prec_period\": 60, \"prec_prob\": 0, \"_nowcast\": true, \"prec_type\": 0, \"prec_strength\": 0, \"cloudness\": 0}, {\"hour\": \"17\", \"hour_ts\": 1566309600, \"temp\": 28, \"feels_like\": 29, \"icon\": \"skc_d\", \"condition\": \"clear\", \"wind_speed\": 2.6, \"wind_gust\": 6.9, \"wind_dir\": \"sw\", \"pressure_mm\": 751, \"pressure_pa\": 1002, \"humidity\": 55, \"uv_index\": 1, \"soil_temp\": 24, \"soil_moisture\": 0.36, \"prec_mm\": 0, \"prec_period\": 60, \"prec_prob\": 0, \"_nowcast\": true, \"prec_type\": 0, \"prec_strength\": 0, \"cloudness\": 0}, {\"hour\": \"18\", \"hour_ts\": 1566313200, \"temp\": 27, \"feels_like\": 29, \"icon\": \"bkn_d\", \"condition\": \"cloudy\", \"wind_speed\": 1.8, \"wind_gust\": 4.8, \"wind_dir\": \"sw\", \"pressure_mm\": 752, \"pressure_pa\": 1003, \"humidity\": 58, \"uv_index\": 0, \"soil_temp\": 23, \"soil_moisture\": 0.35, \"prec_mm\": 0, \"prec_period\": 60, \"prec_prob\": 0, \"_nowcast\": true, \"prec_type\": 0, \"prec_strength\": 0, \"cloudness\": 0.5}, {\"hour\": \"19\", \"hour_ts\": 1566316800, \"temp\": 26, \"feels_like\": 28, \"icon\": \"bkn_d\", \"condition\": \"cloudy\", \"wind_speed\": 2, \"wind_gust\": 4.8, \"wind_dir\": \"sw\", \"pressure_mm\": 752, \"pressure_pa\": 1003, \"humidity\": 65, \"uv_index\": 0, \"soil_temp\": 23, \"soil_moisture\": 0.35, \"prec_mm\": 0, \"prec_period\": 60, \"prec_prob\": 0, \"prec_type\": 0, \"prec_strength\": 0, \"cloudness\": 0.5}, {\"hour\": \"20\", \"hour_ts\": 1566320400, \"temp\": 24, \"feels_like\": 26, \"icon\": \"bkn_n\", \"condition\": \"cloudy\", \"wind_speed\": 1.7, \"wind_gust\": 4.8, \"wind_dir\": \"sw\", \"pressure_mm\": 752, \"pressure_pa\": 1003, \"humidity\": 70, \"uv_index\": 0, \"soil_temp\": 23, \"soil_moisture\": 0.35, \"prec_mm\": 0, \"prec_period\": 60, \"prec_prob\": 0, \"prec_type\": 0, \"prec_strength\": 0, \"cloudness\": 0.5}, {\"hour\": \"21\", \"hour_ts\": 1566324000, \"temp\": 21, \"feels_like\": 23, \"icon\": \"bkn_n\", \"condition\": \"cloudy\", \"wind_speed\": 0.8, \"wind_gust\": 2, \"wind_dir\": \"sw\", \"pressure_mm\": 752, \"pressure_pa\": 1003, \"humidity\": 79, \"uv_index\": 0, \"soil_temp\": 20, \"soil_moisture\": 0.35, \"prec_mm\": 0, \"prec_period\": 60, \"prec_prob\": 0, \"prec_type\": 0, \"prec_strength\": 0, \"cloudness\": 0.5}, {\"hour\": \"22\", \"hour_ts\": 1566327600, \"temp\": 20, \"feels_like\": 22, \"icon\": \"bkn_n\", \"condition\": \"cloudy\", \"wind_speed\": 0.9, \"wind_gust\": 2, \"wind_dir\": \"sw\", \"pressure_mm\": 753, \"pressure_pa\": 1004, \"humidity\": 83, \"uv_index\": 0, \"soil_temp\": 20, \"soil_moisture\": 0.35, \"prec_mm\": 0, \"prec_period\": 60, \"prec_prob\": 0, \"prec_type\": 0, \"prec_strength\": 0, \"cloudness\": 0.5}, {\"hour\": \"23\", \"hour_ts\": 1566331200, \"temp\": 20, \"feels_like\": 22, \"icon\": \"bkn_n\", \"condition\": \"cloudy\", \"wind_speed\": 0.9, \"wind_gust\": 2, \"wind_dir\": \"sw\", \"pressure_mm\": 753, \"pressure_pa\": 1004, \"humidity\": 86, \"uv_index\": 0, \"soil_temp\": 20, \"soil_moisture\": 0.35, \"prec_mm\": 0, \"prec_period\": 60, \"prec_prob\": 0, \"prec_type\": 0, \"prec_strength\": 0, \"cloudness\": 0.5}]}, {\"date\": \"2019-08-21\", \"date_ts\": 1566334800, \"week\": 34, \"sunrise\": \"05:12\", \"sunset\": \"19:52\", \"moon_code\": 3, \"moon_text\": \"decreasing-moon\", \"parts\": {\"night\": {\"_source\": \"0,1,2,3,4,5\", \"temp_min\": 18, \"temp_max\": 19, \"temp_avg\": 19, \"feels_like\": 21, \"icon\": \"bkn_n\", \"condition\": \"cloudy\", \"daytime\": \"n\", \"polar\": false, \"wind_speed\": 1.2, \"wind_gust\": 2.7, \"wind_dir\": \"nw\", \"pressure_mm\": 753, \"pressure_pa\": 1004, \"humidity\": 95, \"uv_index\": 0, \"soil_temp\": 18, \"soil_moisture\": 0.35, \"prec_mm\": 0, \"prec_period\": 360, \"prec_prob\": 0}, \"morning\": {\"_source\": \"6,7,8,9,10,11\", \"temp_min\": 18, \"temp_max\": 22, \"temp_avg\": 20, \"feels_like\": 22, \"icon\": \"ovc\", \"condition\": \"overcast\", \"daytime\": \"d\", \"polar\": false, \"wind_speed\": 1.7, \"wind_gust\": 5.3, \"wind_dir\": \"n\", \"pressure_mm\": 754, \"pressure_pa\": 1006, \"humidity\": 85, \"uv_index\": 4, \"soil_temp\": 19, \"soil_moisture\": 0.35, \"prec_mm\": 0, \"prec_period\": 360, \"prec_prob\": 0}, \"day\": {\"_source\": \"12,13,14,15,16,17\", \"temp_min\": 24, \"temp_max\": 25, \"temp_avg\": 25, \"feels_like\": 29, \"icon\": \"bkn_d\", \"condition\": \"cloudy\", \"daytime\": \"d\", \"polar\": false, \"wind_speed\": 1, \"wind_gust\": 3.5, \"wind_dir\": \"ne\", \"pressure_mm\": 754, \"pressure_pa\": 1006, \"humidity\": 65, \"uv_index\": 5, \"soil_temp\": 22, \"soil_moisture\": 0.35, \"prec_mm\": 0, \"prec_period\": 360, \"prec_prob\": 0}, \"evening\": {\"_source\": \"18,19,20,21,22,23\", \"temp_min\": 20, \"temp_max\": 24, \"temp_avg\": 22, \"feels_like\": 24, \"icon\": \"bkn_n\", \"condition\": \"partly-cloudy\", \"daytime\": \"n\", \"polar\": false, \"wind_speed\": 1.2, \"wind_gust\": 2.5, \"wind_dir\": \"se\", \"pressure_mm\": 752, \"pressure_pa\": 1003, \"humidity\": 79, \"uv_index\": 0, \"soil_temp\": 21, \"soil_moisture\": 0.35, \"prec_mm\": 0, \"prec_period\": 360, \"prec_prob\": 0}, \"day_short\": {\"_source\": \"8,9,10,11,12,13,14,15,16,17,18,19,20\", \"temp\": 25, \"temp_min\": 20, \"feels_like\": 29, \"icon\": \"bkn_d\", \"condition\": \"cloudy\", \"wind_speed\": 1.7, \"wind_gust\": 5.3, \"wind_dir\": \"ne\", \"pressure_mm\": 753, \"pressure_pa\": 1004, \"humidity\": 72, \"uv_index\": 5, \"soil_temp\": 21, \"soil_moisture\": 0.35, \"prec_mm\": 0, \"prec_prob\": 0}, \"night_short\": {\"temp\": 18, \"feels_like\": 20, \"icon\": \"bkn_n\", \"condition\": \"cloudy\", \"wind_speed\": 1.2, \"wind_gust\": 2.7, \"wind_dir\": \"nw\", \"pressure_mm\": 753, \"pressure_pa\": 1004, \"humidity\": 95, \"uv_index\": 0, \"soil_temp\": 18, \"soil_moisture\": 0.35, \"prec_mm\": 0, \"prec_prob\": 0}}, \"hours\": [{\"hour\": \"0\", \"hour_ts\": 1566334800, \"temp\": 19, \"feels_like\": 21, \"icon\": \"skc_n\", \"condition\": \"clear\", \"wind_speed\": 0.9, \"wind_gust\": 2.7, \"wind_dir\": \"nw\", \"pressure_mm\": 753, \"pressure_pa\": 1004, \"humidity\": 90, \"uv_index\": 0, \"soil_temp\": 18, \"soil_moisture\": 0.35, \"prec_mm\": 0, \"prec_period\": 60, \"prec_prob\": 0, \"prec_type\": 0, \"prec_strength\": 0, \"cloudness\": 0}, {\"hour\": \"1\", \"hour_ts\": 1566338400, \"temp\": 19, \"feels_like\": 21, \"icon\": \"skc_n\", \"condition\": \"clear\", \"wind_speed\": 1.1, \"wind_gust\": 2.7, \"wind_dir\": \"nw\", \"pressure_mm\": 753, \"pressure_pa\": 1004, \"humidity\": 94, \"uv_index\": 0, \"soil_temp\": 18, \"soil_moisture\": 0.35, \"prec_mm\": 0, \"prec_period\": 60, \"prec_prob\": 0, \"prec_type\": 0, \"prec_strength\": 0, \"cloudness\": 0}, {\"hour\": \"2\", \"hour_ts\": 1566342000, \"temp\": 18, \"feels_like\": 20, \"icon\": \"bkn_n\", \"condition\": \"cloudy\", \"wind_speed\": 1.1, \"wind_gust\": 2.7, \"wind_dir\": \"nw\", \"pressure_mm\": 753, \"pressure_pa\": 1004, \"humidity\": 95, \"uv_index\": 0, \"soil_temp\": 18, \"soil_moisture\": 0.35, \"prec_mm\": 0, \"prec_period\": 60, \"prec_prob\": 0, \"prec_type\": 0, \"prec_strength\": 0, \"cloudness\": 0.5}, {\"hour\": \"3\", \"hour_ts\": 1566345600, \"temp\": 18, \"feels_like\": 20, \"icon\": \"ovc\", \"condition\": \"overcast\", \"wind_speed\": 1, \"wind_gust\": 2.6, \"wind_dir\": \"nw\", \"pressure_mm\": 753, \"pressure_pa\": 1004, \"humidity\": 96, \"uv_index\": 0, \"soil_temp\": 17, \"soil_moisture\": 0.35, \"prec_mm\": 0, \"prec_period\": 60, \"prec_prob\": 0, \"prec_type\": 0, \"prec_strength\": 0, \"cloudness\": 1}, {\"hour\": \"4\", \"hour_ts\": 1566349200, \"temp\": 18, \"feels_like\": 20, \"icon\": \"ovc\", \"condition\": \"overcast\", \"wind_speed\": 1.2, \"wind_gust\": 2.6, \"wind_dir\": \"nw\", \"pressure_mm\": 754, \"pressure_pa\": 1006, \"humidity\": 97, \"uv_index\": 0, \"soil_temp\": 17, \"soil_moisture\": 0.35, \"prec_mm\": 0, \"prec_period\": 60, \"prec_prob\": 0, \"prec_type\": 0, \"prec_strength\": 0, \"cloudness\": 1}, {\"hour\": \"5\", \"hour_ts\": 1566352800, \"temp\": 18, \"feels_like\": 20, \"icon\": \"ovc\", \"condition\": \"overcast\", \"wind_speed\": 1.1, \"wind_gust\": 2.6, \"wind_dir\": \"nw\", \"pressure_mm\": 754, \"pressure_pa\": 1006, \"humidity\": 98, \"uv_index\": 0, \"soil_temp\": 17, \"soil_moisture\": 0.35, \"prec_mm\": 0, \"prec_period\": 60, \"prec_prob\": 0, \"prec_type\": 0, \"prec_strength\": 0, \"cloudness\": 1}, {\"hour\": \"6\", \"hour_ts\": 1566356400, \"temp\": 18, \"feels_like\": 20, \"icon\": \"ovc\", \"condition\": \"overcast\", \"wind_speed\": 1.1, \"wind_gust\": 4, \"wind_dir\": \"n\", \"pressure_mm\": 754, \"pressure_pa\": 1006, \"humidity\": 96, \"uv_index\": 0, \"soil_temp\": 18, \"soil_moisture\": 0.35, \"prec_mm\": 0, \"prec_period\": 60, \"prec_prob\": 0, \"prec_type\": 0, \"prec_strength\": 0, \"cloudness\": 1}, {\"hour\": \"7\", \"hour_ts\": 1566360000, \"temp\": 19, \"feels_like\": 21, \"icon\": \"ovc\", \"condition\": \"overcast\", \"wind_speed\": 1.3, \"wind_gust\": 4, \"wind_dir\": \"n\", \"pressure_mm\": 754, \"pressure_pa\": 1006, \"humidity\": 93, \"uv_index\": 0, \"soil_temp\": 18, \"soil_moisture\": 0.35, \"prec_mm\": 0, \"prec_period\": 60, \"prec_prob\": 0, \"prec_type\": 0, \"prec_strength\": 0, \"cloudness\": 1}, {\"hour\": \"8\", \"hour_ts\": 1566363600, \"temp\": 20, \"feels_like\": 22, \"icon\": \"ovc\", \"condition\": \"overcast\", \"wind_speed\": 1.4, \"wind_gust\": 4, \"wind_dir\": \"n\", \"pressure_mm\": 754, \"pressure_pa\": 1006, \"humidity\": 89, \"uv_index\": 1, \"soil_temp\": 18, \"soil_moisture\": 0.35, \"prec_mm\": 0, \"prec_period\": 60, \"prec_prob\": 0, \"prec_type\": 0, \"prec_strength\": 0, \"cloudness\": 1}, {\"hour\": \"9\", \"hour_ts\": 1566367200, \"temp\": 20, \"feels_like\": 21, \"icon\": \"ovc\", \"condition\": \"overcast\", \"wind_speed\": 1.3, \"wind_gust\": 5.3, \"wind_dir\": \"n\", \"pressure_mm\": 754, \"pressure_pa\": 1006, \"humidity\": 81, \"uv_index\": 2, \"soil_temp\": 19, \"soil_moisture\": 0.35, \"prec_mm\": 0, \"prec_period\": 60, \"prec_prob\": 0, \"prec_type\": 0, \"prec_strength\": 0, \"cloudness\": 1}, {\"hour\": \"10\", \"hour_ts\": 1566370800, \"temp\": 21, \"feels_like\": 23, \"icon\": \"ovc\", \"condition\": \"overcast\", \"wind_speed\": 1.7, \"wind_gust\": 5.3, \"wind_dir\": \"n\", \"pressure_mm\": 754, \"pressure_pa\": 1006, \"humidity\": 77, \"uv_index\": 3, \"soil_temp\": 19, \"soil_moisture\": 0.35, \"prec_mm\": 0, \"prec_period\": 60, \"prec_prob\": 0, \"prec_type\": 0, \"prec_strength\": 0, \"cloudness\": 1}, {\"hour\": \"11\", \"hour_ts\": 1566374400, \"temp\": 22, \"feels_like\": 24, \"icon\": \"ovc\", \"condition\": \"overcast\", \"wind_speed\": 1.7, \"wind_gust\": 5.3, \"wind_dir\": \"n\", \"pressure_mm\": 754, \"pressure_pa\": 1006, \"humidity\": 71, \"uv_index\": 4, \"soil_temp\": 19, \"soil_moisture\": 0.35, \"prec_mm\": 0, \"prec_period\": 60, \"prec_prob\": 0, \"prec_type\": 0, \"prec_strength\": 0, \"cloudness\": 1}, {\"hour\": \"12\", \"hour_ts\": 1566378000, \"temp\": 24, \"feels_like\": 28, \"icon\": \"ovc\", \"condition\": \"overcast\", \"wind_speed\": 0.8, \"wind_gust\": 3.5, \"wind_dir\": \"ne\", \"pressure_mm\": 754, \"pressure_pa\": 1006, \"humidity\": 68, \"uv_index\": 5, \"soil_temp\": 21, \"soil_moisture\": 0.35, \"prec_mm\": 0, \"prec_period\": 60, \"prec_prob\": 0, \"prec_type\": 0, \"prec_strength\": 0, \"cloudness\": 1}, {\"hour\": \"13\", \"hour_ts\": 1566381600, \"temp\": 24, \"feels_like\": 27, \"icon\": \"bkn_d\", \"condition\": \"cloudy\", \"wind_speed\": 1, \"wind_gust\": 3.5, \"wind_dir\": \"ne\", \"pressure_mm\": 754, \"pressure_pa\": 1006, \"humidity\": 64, \"uv_index\": 5, \"soil_temp\": 21, \"soil_moisture\": 0.35, \"prec_mm\": 0, \"prec_period\": 60, \"prec_prob\": 0, \"prec_type\": 0, \"prec_strength\": 0, \"cloudness\": 0.5}, {\"hour\": \"14\", \"hour_ts\": 1566385200, \"temp\": 25, \"feels_like\": 28, \"icon\": \"bkn_d\", \"condition\": \"cloudy\", \"wind_speed\": 0.9, \"wind_gust\": 3.5, \"wind_dir\": \"ne\", \"pressure_mm\": 754, \"pressure_pa\": 1006, \"humidity\": 63, \"uv_index\": 4, \"soil_temp\": 21, \"soil_moisture\": 0.35, \"prec_mm\": 0, \"prec_period\": 60, \"prec_prob\": 0, \"prec_type\": 0, \"prec_strength\": 0, \"cloudness\": 0.5}, {\"hour\": \"15\", \"hour_ts\": 1566388800, \"temp\": 25, \"feels_like\": 28, \"icon\": \"ovc\", \"condition\": \"overcast\", \"wind_speed\": 0.3, \"wind_gust\": 2.2, \"wind_dir\": \"ne\", \"pressure_mm\": 754, \"pressure_pa\": 1006, \"humidity\": 63, \"uv_index\": 3, \"soil_temp\": 22, \"soil_moisture\": 0.35, \"prec_mm\": 0, \"prec_period\": 60, \"prec_prob\": 0, \"prec_type\": 0, \"prec_strength\": 0, \"cloudness\": 1}, {\"hour\": \"16\", \"hour_ts\": 1566392400, \"temp\": 25, \"feels_like\": 27, \"icon\": \"bkn_d\", \"condition\": \"cloudy\", \"wind_speed\": 0.5, \"wind_gust\": 2.2, \"wind_dir\": \"ne\", \"pressure_mm\": 753, \"pressure_pa\": 1004, \"humidity\": 65, \"uv_index\": 2, \"soil_temp\": 22, \"soil_moisture\": 0.35, \"prec_mm\": 0, \"prec_period\": 60, \"prec_prob\": 0, \"prec_type\": 0, \"prec_strength\": 0, \"cloudness\": 0.5}, {\"hour\": \"17\", \"hour_ts\": 1566396000, \"temp\": 25, \"feels_like\": 28, \"icon\": \"bkn_d\", \"condition\": \"cloudy\", \"wind_speed\": 0.6, \"wind_gust\": 2.2, \"wind_dir\": \"ne\", \"pressure_mm\": 753, \"pressure_pa\": 1004, \"humidity\": 67, \"uv_index\": 1, \"soil_temp\": 22, \"soil_moisture\": 0.35, \"prec_mm\": 0, \"prec_period\": 60, \"prec_prob\": 0, \"prec_type\": 0, \"prec_strength\": 0, \"cloudness\": 0.5}, {\"hour\": \"18\", \"hour_ts\": 1566399600, \"temp\": 24, \"feels_like\": 26, \"icon\": \"bkn_d\", \"condition\": \"cloudy\", \"wind_speed\": 0.6, \"wind_gust\": 1.4, \"wind_dir\": \"ne\", \"pressure_mm\": 752, \"pressure_pa\": 1003, \"humidity\": 69, \"uv_index\": 0, \"soil_temp\": 22, \"soil_moisture\": 0.35, \"prec_mm\": 0, \"prec_period\": 60, \"prec_prob\": 0, \"prec_type\": 0, \"prec_strength\": 0, \"cloudness\": 0.5}, {\"hour\": \"19\", \"hour_ts\": 1566403200, \"temp\": 23, \"feels_like\": 25, \"icon\": \"skc_d\", \"condition\": \"clear\", \"wind_speed\": 0.8, \"wind_gust\": 1.4, \"wind_dir\": \"e\", \"pressure_mm\": 752, \"pressure_pa\": 1003, \"humidity\": 75, \"uv_index\": 0, \"soil_temp\": 22, \"soil_moisture\": 0.35, \"prec_mm\": 0, \"prec_period\": 60, \"prec_prob\": 0, \"prec_type\": 0, \"prec_strength\": 0, \"cloudness\": 0}, {\"hour\": \"20\", \"hour_ts\": 1566406800, \"temp\": 22, \"feels_like\": 24, \"icon\": \"bkn_n\", \"condition\": \"cloudy\", \"wind_speed\": 0.7, \"wind_gust\": 1.4, \"wind_dir\": \"e\", \"pressure_mm\": 752, \"pressure_pa\": 1003, \"humidity\": 79, \"uv_index\": 0, \"soil_temp\": 22, \"soil_moisture\": 0.35, \"prec_mm\": 0, \"prec_period\": 60, \"prec_prob\": 0, \"prec_type\": 0, \"prec_strength\": 0, \"cloudness\": 0.5}, {\"hour\": \"21\", \"hour_ts\": 1566410400, \"temp\": 21, \"feels_like\": 23, \"icon\": \"bkn_n\", \"condition\": \"cloudy\", \"wind_speed\": 1.1, \"wind_gust\": 2.5, \"wind_dir\": \"se\", \"pressure_mm\": 753, \"pressure_pa\": 1004, \"humidity\": 81, \"uv_index\": 0, \"soil_temp\": 20, \"soil_moisture\": 0.34, \"prec_mm\": 0, \"prec_period\": 60, \"prec_prob\": 0, \"prec_type\": 0, \"prec_strength\": 0, \"cloudness\": 0.5}, {\"hour\": \"22\", \"hour_ts\": 1566414000, \"temp\": 20, \"feels_like\": 22, \"icon\": \"bkn_n\", \"condition\": \"cloudy\", \"wind_speed\": 1.2, \"wind_gust\": 2.5, \"wind_dir\": \"se\", \"pressure_mm\": 752, \"pressure_pa\": 1003, \"humidity\": 85, \"uv_index\": 0, \"soil_temp\": 20, \"soil_moisture\": 0.34, \"prec_mm\": 0, \"prec_period\": 60, \"prec_prob\": 0, \"prec_type\": 0, \"prec_strength\": 0, \"cloudness\": 0.5}, {\"hour\": \"23\", \"hour_ts\": 1566417600, \"temp\": 20, \"feels_like\": 22, \"icon\": \"skc_n\", \"condition\": \"clear\", \"wind_speed\": 1.2, \"wind_gust\": 2.5, \"wind_dir\": \"se\", \"pressure_mm\": 752, \"pressure_pa\": 1003, \"humidity\": 87, \"uv_index\": 0, \"soil_temp\": 20, \"soil_moisture\": 0.34, \"prec_mm\": 0, \"prec_period\": 60, \"prec_prob\": 0, \"prec_type\": 0, \"prec_strength\": 0, \"cloudness\": 0}]}, {\"date\": \"2019-08-22\", \"date_ts\": 1566421200, \"week\": 34, \"sunrise\": \"05:13\", \"sunset\": \"19:49\", \"moon_code\": 3, \"moon_text\": \"decreasing-moon\", \"parts\": {\"night\": {\"_source\": \"0,1,2,3,4,5\", \"temp_min\": 19, \"temp_max\": 20, \"temp_avg\": 20, \"feels_like\": 22, \"icon\": \"skc_n\", \"condition\": \"clear\", \"daytime\": \"n\", \"polar\": false, \"wind_speed\": 2, \"wind_gust\": 5.5, \"wind_dir\": \"se\", \"pressure_mm\": 752, \"pressure_pa\": 1003, \"humidity\": 91, \"uv_index\": 0, \"soil_temp\": 19, \"soil_moisture\": 0.34, \"prec_mm\": 0, \"prec_period\": 360, \"prec_prob\": 0}, \"morning\": {\"_source\": \"6,7,8,9,10,11\", \"temp_min\": 19, \"temp_max\": 26, \"temp_avg\": 23, \"feels_like\": 25, \"icon\": \"bkn_d\", \"condition\": \"partly-cloudy\", \"daytime\": \"d\", \"polar\": false, \"wind_speed\": 2.8, \"wind_gust\": 8, \"wind_dir\": \"s\", \"pressure_mm\": 751, \"pressure_pa\": 1002, \"humidity\": 75, \"uv_index\": 4, \"soil_temp\": 19, \"soil_moisture\": 0.34, \"prec_mm\": 0, \"prec_period\": 360, \"prec_prob\": 0}, \"day\": {\"_source\": \"12,13,14,15,16,17\", \"temp_min\": 20, \"temp_max\": 25, \"temp_avg\": 23, \"feels_like\": 23, \"icon\": \"bkn_d\", \"condition\": \"cloudy\", \"daytime\": \"d\", \"polar\": false, \"wind_speed\": 4.7, \"wind_gust\": 11.4, \"wind_dir\": \"w\", \"pressure_mm\": 752, \"pressure_pa\": 1003, \"humidity\": 63, \"uv_index\": 5, \"soil_temp\": 23, \"soil_moisture\": 0.34, \"prec_mm\": 0, \"prec_period\": 360, \"prec_prob\": 0}, \"evening\": {\"_source\": \"18,19,20,21,22,23\", \"temp_min\": 16, \"temp_max\": 19, \"temp_avg\": 18, \"feels_like\": 17, \"icon\": \"bkn_n\", \"condition\": \"cloudy\", \"daytime\": \"n\", \"polar\": false, \"wind_speed\": 2.8, \"wind_gust\": 6, \"wind_dir\": \"n\", \"pressure_mm\": 753, \"pressure_pa\": 1004, \"humidity\": 76, \"uv_index\": 0, \"soil_temp\": 19, \"soil_moisture\": 0.34, \"prec_mm\": 0, \"prec_period\": 360, \"prec_prob\": 0}, \"day_short\": {\"_source\": \"8,9,10,11,12,13,14,15,16,17,18,19,20\", \"temp\": 26, \"temp_min\": 18, \"feels_like\": 27, \"icon\": \"bkn_d\", \"condition\": \"cloudy\", \"wind_speed\": 4.7, \"wind_gust\": 11.4, \"wind_dir\": \"nw\", \"pressure_mm\": 752, \"pressure_pa\": 1003, \"humidity\": 67, \"uv_index\": 5, \"soil_temp\": 20, \"soil_moisture\": 0.34, \"prec_mm\": 0, \"prec_prob\": 0}, \"night_short\": {\"temp\": 19, \"feels_like\": 20, \"icon\": \"skc_n\", \"condition\": \"clear\", \"wind_speed\": 2, \"wind_gust\": 5.5, \"wind_dir\": \"se\", \"pressure_mm\": 752, \"pressure_pa\": 1003, \"humidity\": 91, \"uv_index\": 0, \"soil_temp\": 19, \"soil_moisture\": 0.34, \"prec_mm\": 0, \"prec_prob\": 0}}, \"hours\": [{\"hour\": \"0\", \"hour_ts\": 1566421200, \"temp\": 20, \"feels_like\": 22, \"icon\": \"bkn_n\", \"condition\": \"cloudy\", \"wind_speed\": 1.6, \"wind_gust\": 5, \"wind_dir\": \"se\", \"pressure_mm\": 752, \"pressure_pa\": 1003, \"humidity\": 88, \"uv_index\": 0, \"soil_temp\": 19, \"soil_moisture\": 0.34, \"prec_mm\": 0, \"prec_period\": 60, \"prec_prob\": 0, \"prec_type\": 0, \"prec_strength\": 0, \"cloudness\": 0.5}, {\"hour\": \"1\", \"hour_ts\": 1566424800, \"temp\": 20, \"feels_like\": 22, \"icon\": \"skc_n\", \"condition\": \"clear\", \"wind_speed\": 1.8, \"wind_gust\": 5, \"wind_dir\": \"se\", \"pressure_mm\": 752, \"pressure_pa\": 1003, \"humidity\": 91, \"uv_index\": 0, \"soil_temp\": 19, \"soil_moisture\": 0.34, \"prec_mm\": 0, \"prec_period\": 60, \"prec_prob\": 0, \"prec_type\": 0, \"prec_strength\": 0, \"cloudness\": 0}, {\"hour\": \"2\", \"hour_ts\": 1566428400, \"temp\": 19, \"feels_like\": 20, \"icon\": \"skc_n\", \"condition\": \"clear\", \"wind_speed\": 1.8, \"wind_gust\": 5, \"wind_dir\": \"se\", \"pressure_mm\": 752, \"pressure_pa\": 1003, \"humidity\": 92, \"uv_index\": 0, \"soil_temp\": 19, \"soil_moisture\": 0.34, \"prec_mm\": 0, \"prec_period\": 60, \"prec_prob\": 0, \"prec_type\": 0, \"prec_strength\": 0, \"cloudness\": 0}, {\"hour\": \"3\", \"hour_ts\": 1566432000, \"temp\": 19, \"feels_like\": 20, \"icon\": \"skc_n\", \"condition\": \"clear\", \"wind_speed\": 1.8, \"wind_gust\": 5.5, \"wind_dir\": \"s\", \"pressure_mm\": 751, \"pressure_pa\": 1002, \"humidity\": 91, \"uv_index\": 0, \"soil_temp\": 18, \"soil_moisture\": 0.34, \"prec_mm\": 0, \"prec_period\": 60, \"prec_prob\": 0, \"prec_type\": 0, \"prec_strength\": 0, \"cloudness\": 0}, {\"hour\": \"4\", \"hour_ts\": 1566435600, \"temp\": 19, \"feels_like\": 20, \"icon\": \"skc_n\", \"condition\": \"clear\", \"wind_speed\": 2, \"wind_gust\": 5.5, \"wind_dir\": \"s\", \"pressure_mm\": 752, \"pressure_pa\": 1003, \"humidity\": 93, \"uv_index\": 0, \"soil_temp\": 18, \"soil_moisture\": 0.34, \"prec_mm\": 0, \"prec_period\": 60, \"prec_prob\": 0, \"prec_type\": 0, \"prec_strength\": 0, \"cloudness\": 0}, {\"hour\": \"5\", \"hour_ts\": 1566439200, \"temp\": 19, \"feels_like\": 20, \"icon\": \"skc_n\", \"condition\": \"clear\", \"wind_speed\": 2, \"wind_gust\": 5.5, \"wind_dir\": \"s\", \"pressure_mm\": 751, \"pressure_pa\": 1002, \"humidity\": 93, \"uv_index\": 0, \"soil_temp\": 18, \"soil_moisture\": 0.34, \"prec_mm\": 0, \"prec_period\": 60, \"prec_prob\": 0, \"prec_type\": 0, \"prec_strength\": 0, \"cloudness\": 0}, {\"hour\": \"6\", \"hour_ts\": 1566442800, \"temp\": 19, \"feels_like\": 20, \"icon\": \"skc_d\", \"condition\": \"clear\", \"wind_speed\": 1.8, \"wind_gust\": 6.4, \"wind_dir\": \"s\", \"pressure_mm\": 751, \"pressure_pa\": 1002, \"humidity\": 91, \"uv_index\": 0, \"soil_temp\": 18, \"soil_moisture\": 0.34, \"prec_mm\": 0, \"prec_period\": 60, \"prec_prob\": 0, \"prec_type\": 0, \"prec_strength\": 0, \"cloudness\": 0}, {\"hour\": \"7\", \"hour_ts\": 1566446400, \"temp\": 20, \"feels_like\": 21, \"icon\": \"skc_d\", \"condition\": \"clear\", \"wind_speed\": 2, \"wind_gust\": 6.4, \"wind_dir\": \"s\", \"pressure_mm\": 751, \"pressure_pa\": 1002, \"humidity\": 86, \"uv_index\": 0, \"soil_temp\": 18, \"soil_moisture\": 0.34, \"prec_mm\": 0, \"prec_period\": 60, \"prec_prob\": 0, \"prec_type\": 0, \"prec_strength\": 0, \"cloudness\": 0}, {\"hour\": \"8\", \"hour_ts\": 1566450000, \"temp\": 22, \"feels_like\": 23, \"icon\": \"skc_d\", \"condition\": \"clear\", \"wind_speed\": 2.5, \"wind_gust\": 6.4, \"wind_dir\": \"s\", \"pressure_mm\": 751, \"pressure_pa\": 1002, \"humidity\": 78, \"uv_index\": 1, \"soil_temp\": 18, \"soil_moisture\": 0.34, \"prec_mm\": 0, \"prec_period\": 60, \"prec_prob\": 0, \"prec_type\": 0, \"prec_strength\": 0, \"cloudness\": 0}, {\"hour\": \"9\", \"hour_ts\": 1566453600, \"temp\": 24, \"feels_like\": 25, \"icon\": \"bkn_d\", \"condition\": \"cloudy\", \"wind_speed\": 2.6, \"wind_gust\": 8, \"wind_dir\": \"sw\", \"pressure_mm\": 751, \"pressure_pa\": 1002, \"humidity\": 69, \"uv_index\": 2, \"soil_temp\": 20, \"soil_moisture\": 0.34, \"prec_mm\": 0, \"prec_period\": 60, \"prec_prob\": 0, \"prec_type\": 0, \"prec_strength\": 0, \"cloudness\": 0.5}, {\"hour\": \"10\", \"hour_ts\": 1566457200, \"temp\": 25, \"feels_like\": 26, \"icon\": \"bkn_d\", \"condition\": \"cloudy\", \"wind_speed\": 2.8, \"wind_gust\": 8, \"wind_dir\": \"sw\", \"pressure_mm\": 751, \"pressure_pa\": 1002, \"humidity\": 64, \"uv_index\": 3, \"soil_temp\": 20, \"soil_moisture\": 0.34, \"prec_mm\": 0, \"prec_period\": 60, \"prec_prob\": 0, \"prec_type\": 0, \"prec_strength\": 0, \"cloudness\": 0.5}, {\"hour\": \"11\", \"hour_ts\": 1566460800, \"temp\": 26, \"feels_like\": 28, \"icon\": \"bkn_d\", \"condition\": \"cloudy\", \"wind_speed\": 2.6, \"wind_gust\": 8, \"wind_dir\": \"sw\", \"pressure_mm\": 751, \"pressure_pa\": 1002, \"humidity\": 62, \"uv_index\": 4, \"soil_temp\": 20, \"soil_moisture\": 0.34, \"prec_mm\": 0, \"prec_period\": 60, \"prec_prob\": 0, \"prec_type\": 0, \"prec_strength\": 0, \"cloudness\": 0.5}, {\"hour\": \"12\", \"hour_ts\": 1566464400, \"temp\": 25, \"feels_like\": 26, \"icon\": \"bkn_d\", \"condition\": \"cloudy\", \"wind_speed\": 2.7, \"wind_gust\": 9.7, \"wind_dir\": \"w\", \"pressure_mm\": 751, \"pressure_pa\": 1002, \"humidity\": 59, \"uv_index\": 5, \"soil_temp\": 23, \"soil_moisture\": 0.34, \"prec_mm\": 0, \"prec_period\": 60, \"prec_prob\": 0, \"prec_type\": 0, \"prec_strength\": 0, \"cloudness\": 0.5}, {\"hour\": \"13\", \"hour_ts\": 1566468000, \"temp\": 24, \"feels_like\": 25, \"icon\": \"bkn_d\", \"condition\": \"cloudy\", \"wind_speed\": 3.1, \"wind_gust\": 9.7, \"wind_dir\": \"w\", \"pressure_mm\": 751, \"pressure_pa\": 1002, \"humidity\": 58, \"uv_index\": 5, \"soil_temp\": 23, \"soil_moisture\": 0.34, \"prec_mm\": 0, \"prec_period\": 60, \"prec_prob\": 0, \"prec_type\": 0, \"prec_strength\": 0, \"cloudness\": 0.5}, {\"hour\": \"14\", \"hour_ts\": 1566471600, \"temp\": 24, \"feels_like\": 25, \"icon\": \"bkn_d\", \"condition\": \"cloudy\", \"wind_speed\": 2.9, \"wind_gust\": 9.7, \"wind_dir\": \"w\", \"pressure_mm\": 751, \"pressure_pa\": 1002, \"humidity\": 59, \"uv_index\": 4, \"soil_temp\": 23, \"soil_moisture\": 0.34, \"prec_mm\": 0, \"prec_period\": 60, \"prec_prob\": 0, \"prec_type\": 0, \"prec_strength\": 0, \"cloudness\": 0.5}, {\"hour\": \"15\", \"hour_ts\": 1566475200, \"temp\": 21, \"feels_like\": 20, \"icon\": \"ovc\", \"condition\": \"overcast\", \"wind_speed\": 4.1, \"wind_gust\": 11.4, \"wind_dir\": \"nw\", \"pressure_mm\": 752, \"pressure_pa\": 1003, \"humidity\": 66, \"uv_index\": 3, \"soil_temp\": 23, \"soil_moisture\": 0.34, \"prec_mm\": 0, \"prec_period\": 60, \"prec_prob\": 0, \"prec_type\": 0, \"prec_strength\": 0, \"cloudness\": 1}, {\"hour\": \"16\", \"hour_ts\": 1566478800, \"temp\": 20, \"feels_like\": 18, \"icon\": \"bkn_d\", \"condition\": \"cloudy\", \"wind_speed\": 4.7, \"wind_gust\": 11.4, \"wind_dir\": \"nw\", \"pressure_mm\": 752, \"pressure_pa\": 1003, \"humidity\": 66, \"uv_index\": 2, \"soil_temp\": 23, \"soil_moisture\": 0.34, \"prec_mm\": 0, \"prec_period\": 60, \"prec_prob\": 0, \"prec_type\": 0, \"prec_strength\": 0, \"cloudness\": 0.5}, {\"hour\": \"17\", \"hour_ts\": 1566482400, \"temp\": 20, \"feels_like\": 18, \"icon\": \"bkn_d\", \"condition\": \"cloudy\", \"wind_speed\": 4.5, \"wind_gust\": 11.4, \"wind_dir\": \"nw\", \"pressure_mm\": 752, \"pressure_pa\": 1003, \"humidity\": 68, \"uv_index\": 1, \"soil_temp\": 23, \"soil_moisture\": 0.34, \"prec_mm\": 0, \"prec_period\": 60, \"prec_prob\": 0, \"prec_type\": 0, \"prec_strength\": 0, \"cloudness\": 0.5}, {\"hour\": \"18\", \"hour_ts\": 1566486000, \"temp\": 19, \"feels_like\": 18, \"icon\": \"ovc\", \"condition\": \"overcast\", \"wind_speed\": 2.6, \"wind_gust\": 6, \"wind_dir\": \"nw\", \"pressure_mm\": 752, \"pressure_pa\": 1003, \"humidity\": 69, \"uv_index\": 0, \"soil_temp\": 20, \"soil_moisture\": 0.34, \"prec_mm\": 0, \"prec_period\": 60, \"prec_prob\": 0, \"prec_type\": 0, \"prec_strength\": 0, \"cloudness\": 1}, {\"hour\": \"19\", \"hour_ts\": 1566489600, \"temp\": 18, \"feels_like\": 17, \"icon\": \"bkn_d\", \"condition\": \"cloudy\", \"wind_speed\": 2.8, \"wind_gust\": 6, \"wind_dir\": \"n\", \"pressure_mm\": 753, \"pressure_pa\": 1004, \"humidity\": 73, \"uv_index\": 0, \"soil_temp\": 20, \"soil_moisture\": 0.34, \"prec_mm\": 0, \"prec_period\": 60, \"prec_prob\": 0, \"prec_type\": 0, \"prec_strength\": 0, \"cloudness\": 0.5}, {\"hour\": \"20\", \"hour_ts\": 1566493200, \"temp\": 18, \"feels_like\": 17, \"icon\": \"bkn_n\", \"condition\": \"cloudy\", \"wind_speed\": 2.6, \"wind_gust\": 6, \"wind_dir\": \"n\", \"pressure_mm\": 753, \"pressure_pa\": 1004, \"humidity\": 76, \"uv_index\": 0, \"soil_temp\": 20, \"soil_moisture\": 0.34, \"prec_mm\": 0, \"prec_period\": 60, \"prec_prob\": 0, \"prec_type\": 0, \"prec_strength\": 0, \"cloudness\": 0.5}, {\"hour\": \"21\", \"hour_ts\": 1566496800, \"temp\": 17, \"feels_like\": 16, \"icon\": \"ovc\", \"condition\": \"overcast\", \"wind_speed\": 2.1, \"wind_gust\": 5.8, \"wind_dir\": \"n\", \"pressure_mm\": 754, \"pressure_pa\": 1006, \"humidity\": 75, \"uv_index\": 0, \"soil_temp\": 18, \"soil_moisture\": 0.34, \"prec_mm\": 0, \"prec_period\": 60, \"prec_prob\": 0, \"prec_type\": 0, \"prec_strength\": 0, \"cloudness\": 1}, {\"hour\": \"22\", \"hour_ts\": 1566500400, \"temp\": 16, \"feels_like\": 15, \"icon\": \"skc_n\", \"condition\": \"clear\", \"wind_speed\": 2.2, \"wind_gust\": 5.8, \"wind_dir\": \"n\", \"pressure_mm\": 754, \"pressure_pa\": 1006, \"humidity\": 79, \"uv_index\": 0, \"soil_temp\": 18, \"soil_moisture\": 0.34, \"prec_mm\": 0, \"prec_period\": 60, \"prec_prob\": 0, \"prec_type\": 0, \"prec_strength\": 0, \"cloudness\": 0}, {\"hour\": \"23\", \"hour_ts\": 1566504000, \"temp\": 16, \"feels_like\": 15, \"icon\": \"skc_n\", \"condition\": \"clear\", \"wind_speed\": 2.2, \"wind_gust\": 5.8, \"wind_dir\": \"n\", \"pressure_mm\": 754, \"pressure_pa\": 1006, \"humidity\": 81, \"uv_index\": 0, \"soil_temp\": 18, \"soil_moisture\": 0.34, \"prec_mm\": 0, \"prec_period\": 60, \"prec_prob\": 0, \"prec_type\": 0, \"prec_strength\": 0, \"cloudness\": 0}]}, {\"date\": \"2019-08-23\", \"date_ts\": 1566507600, \"week\": 34, \"sunrise\": \"05:15\", \"sunset\": \"19:47\", \"moon_code\": 4, \"moon_text\": \"last-quarter\", \"parts\": {\"night\": {\"_source\": \"0,1,2,3,4,5\", \"temp_min\": 12, \"temp_max\": 15, \"temp_avg\": 14, \"feels_like\": 13, \"icon\": \"skc_n\", \"condition\": \"clear\", \"daytime\": \"n\", \"polar\": false, \"wind_speed\": 1.8, \"wind_gust\": 4.5, \"wind_dir\": \"n\", \"pressure_mm\": 755, \"pressure_pa\": 1007, \"humidity\": 87, \"uv_index\": 0, \"soil_temp\": 16, \"soil_moisture\": 0.34, \"prec_mm\": 0, \"prec_period\": 360, \"prec_prob\": 0}, \"morning\": {\"_source\": \"6,7,8,9,10,11\", \"temp_min\": 12, \"temp_max\": 19, \"temp_avg\": 16, \"feels_like\": 16, \"icon\": \"skc_d\", \"condition\": \"clear\", \"daytime\": \"d\", \"polar\": false, \"wind_speed\": 1.7, \"wind_gust\": 5.2, \"wind_dir\": \"n\", \"pressure_mm\": 756, \"pressure_pa\": 1008, \"humidity\": 74, \"uv_index\": 4, \"soil_temp\": 16, \"soil_moisture\": 0.34, \"prec_mm\": 0, \"prec_period\": 360, \"prec_prob\": 0}, \"day\": {\"_source\": \"12,13,14,15\", \"temp_min\": 20, \"temp_max\": 21, \"temp_avg\": 21, \"feels_like\": 20, \"icon\": \"bkn_d\", \"condition\": \"partly-cloudy\", \"daytime\": \"d\", \"polar\": false, \"wind_speed\": 2, \"wind_gust\": 6.1, \"wind_dir\": \"n\", \"pressure_mm\": 755, \"pressure_pa\": 1007, \"humidity\": 48, \"uv_index\": 4, \"soil_temp\": 20, \"soil_moisture\": 0.33, \"prec_mm\": 0, \"prec_period\": 360, \"prec_prob\": 0}, \"evening\": {\"_source\": \"18,21\", \"temp_min\": 16, \"temp_max\": 21, \"temp_avg\": 19, \"feels_like\": 19, \"icon\": \"skc_d\", \"condition\": \"clear\", \"daytime\": \"d\", \"polar\": false, \"wind_speed\": 1.3, \"wind_gust\": 2.9, \"wind_dir\": \"nw\", \"pressure_mm\": 754, \"pressure_pa\": 1006, \"humidity\": 61, \"uv_index\": 0, \"soil_temp\": 20, \"soil_moisture\": 0.32, \"prec_mm\": 0, \"prec_period\": 360, \"prec_prob\": 0}, \"day_short\": {\"_source\": \"8,9,10,11,12,13,14,15\", \"temp\": 21, \"temp_min\": 15, \"feels_like\": 21, \"icon\": \"bkn_d\", \"condition\": \"partly-cloudy\", \"wind_speed\": 2, \"wind_gust\": 6.1, \"wind_dir\": \"n\", \"pressure_mm\": 756, \"pressure_pa\": 1008, \"humidity\": 57, \"uv_index\": 4, \"soil_temp\": 19, \"soil_moisture\": 0.33, \"prec_mm\": 0, \"prec_prob\": 0}, \"night_short\": {\"temp\": 12, \"feels_like\": 11, \"icon\": \"skc_n\", \"condition\": \"clear\", \"wind_speed\": 1.8, \"wind_gust\": 4.5, \"wind_dir\": \"n\", \"pressure_mm\": 755, \"pressure_pa\": 1007, \"humidity\": 87, \"uv_index\": 0, \"soil_temp\": 16, \"soil_moisture\": 0.34, \"prec_mm\": 0, \"prec_prob\": 0}}, \"hours\": [{\"hour\": \"0\", \"hour_ts\": 1566507600, \"temp\": 15, \"feels_like\": 15, \"icon\": \"skc_n\", \"condition\": \"clear\", \"wind_speed\": 1.6, \"wind_gust\": 4.5, \"wind_dir\": \"n\", \"pressure_mm\": 754, \"pressure_pa\": 1006, \"humidity\": 83, \"uv_index\": 0, \"soil_temp\": 17, \"soil_moisture\": 0.34, \"prec_mm\": 0, \"prec_period\": 60, \"prec_prob\": 0, \"prec_type\": 0, \"prec_strength\": 0, \"cloudness\": 0}, {\"hour\": \"1\", \"hour_ts\": 1566511200, \"temp\": 14, \"feels_like\": 13, \"icon\": \"skc_n\", \"condition\": \"clear\", \"wind_speed\": 1.8, \"wind_gust\": 4.5, \"wind_dir\": \"n\", \"pressure_mm\": 755, \"pressure_pa\": 1007, \"humidity\": 85, \"uv_index\": 0, \"soil_temp\": 17, \"soil_moisture\": 0.34, \"prec_mm\": 0, \"prec_period\": 60, \"prec_prob\": 0, \"prec_type\": 0, \"prec_strength\": 0, \"cloudness\": 0}, {\"hour\": \"2\", \"hour_ts\": 1566514800, \"temp\": 14, \"feels_like\": 13, \"icon\": \"skc_n\", \"condition\": \"clear\", \"wind_speed\": 1.8, \"wind_gust\": 4.5, \"wind_dir\": \"n\", \"pressure_mm\": 755, \"pressure_pa\": 1007, \"humidity\": 86, \"uv_index\": 0, \"soil_temp\": 17, \"soil_moisture\": 0.34, \"prec_mm\": 0, \"prec_period\": 60, \"prec_prob\": 0, \"prec_type\": 0, \"prec_strength\": 0, \"cloudness\": 0}, {\"hour\": \"3\", \"hour_ts\": 1566518400, \"temp\": 13, \"feels_like\": 12, \"icon\": \"skc_n\", \"condition\": \"clear\", \"wind_speed\": 1.4, \"wind_gust\": 4.2, \"wind_dir\": \"nw\", \"pressure_mm\": 755, \"pressure_pa\": 1007, \"humidity\": 89, \"uv_index\": 0, \"soil_temp\": 15, \"soil_moisture\": 0.34, \"prec_mm\": 0, \"prec_period\": 60, \"prec_prob\": 0, \"prec_type\": 0, \"prec_strength\": 0, \"cloudness\": 0}, {\"hour\": \"4\", \"hour_ts\": 1566522000, \"temp\": 12, \"feels_like\": 11, \"icon\": \"skc_n\", \"condition\": \"clear\", \"wind_speed\": 1.5, \"wind_gust\": 4.2, \"wind_dir\": \"nw\", \"pressure_mm\": 755, \"pressure_pa\": 1007, \"humidity\": 90, \"uv_index\": 0, \"soil_temp\": 15, \"soil_moisture\": 0.34, \"prec_mm\": 0, \"prec_period\": 60, \"prec_prob\": 0, \"prec_type\": 0, \"prec_strength\": 0, \"cloudness\": 0}, {\"hour\": \"5\", \"hour_ts\": 1566525600, \"temp\": 12, \"feels_like\": 11, \"icon\": \"skc_n\", \"condition\": \"clear\", \"wind_speed\": 1.5, \"wind_gust\": 4.2, \"wind_dir\": \"nw\", \"pressure_mm\": 755, \"pressure_pa\": 1007, \"humidity\": 90, \"uv_index\": 0, \"soil_temp\": 15, \"soil_moisture\": 0.34, \"prec_mm\": 0, \"prec_period\": 60, \"prec_prob\": 0, \"prec_type\": 0, \"prec_strength\": 0, \"cloudness\": 0}, {\"hour\": \"6\", \"hour_ts\": 1566529200, \"temp\": 12, \"feels_like\": 11, \"icon\": \"skc_d\", \"condition\": \"clear\", \"wind_speed\": 1.3, \"wind_gust\": 3.8, \"wind_dir\": \"n\", \"pressure_mm\": 755, \"pressure_pa\": 1007, \"humidity\": 90, \"uv_index\": 0, \"soil_temp\": 14, \"soil_moisture\": 0.34, \"prec_mm\": 0, \"prec_period\": 60, \"prec_prob\": 0, \"prec_type\": 0, \"prec_strength\": 0, \"cloudness\": 0}, {\"hour\": \"7\", \"hour_ts\": 1566532800, \"temp\": 13, \"feels_like\": 12, \"icon\": \"skc_d\", \"condition\": \"clear\", \"wind_speed\": 1.6, \"wind_gust\": 3.8, \"wind_dir\": \"n\", \"pressure_mm\": 755, \"pressure_pa\": 1007, \"humidity\": 84, \"uv_index\": 0, \"soil_temp\": 14, \"soil_moisture\": 0.34, \"prec_mm\": 0, \"prec_period\": 60, \"prec_prob\": 0, \"prec_type\": 0, \"prec_strength\": 0, \"cloudness\": 0}, {\"hour\": \"8\", \"hour_ts\": 1566536400, \"temp\": 15, \"feels_like\": 14, \"icon\": \"skc_d\", \"condition\": \"clear\", \"wind_speed\": 1.7, \"wind_gust\": 3.8, \"wind_dir\": \"n\", \"pressure_mm\": 756, \"pressure_pa\": 1008, \"humidity\": 78, \"uv_index\": 1, \"soil_temp\": 14, \"soil_moisture\": 0.34, \"prec_mm\": 0, \"prec_period\": 60, \"prec_prob\": 0, \"prec_type\": 0, \"prec_strength\": 0, \"cloudness\": 0}, {\"hour\": \"9\", \"hour_ts\": 1566540000, \"temp\": 17, \"feels_like\": 17, \"icon\": \"bkn_d\", \"condition\": \"cloudy\", \"wind_speed\": 1.4, \"wind_gust\": 5.2, \"wind_dir\": \"n\", \"pressure_mm\": 756, \"pressure_pa\": 1008, \"humidity\": 71, \"uv_index\": 2, \"soil_temp\": 17, \"soil_moisture\": 0.33, \"prec_mm\": 0, \"prec_period\": 60, \"prec_prob\": 0, \"prec_type\": 0, \"prec_strength\": 0, \"cloudness\": 0.5}, {\"hour\": \"10\", \"hour_ts\": 1566543600, \"temp\": 18, \"feels_like\": 17, \"icon\": \"skc_d\", \"condition\": \"clear\", \"wind_speed\": 1.7, \"wind_gust\": 5.2, \"wind_dir\": \"n\", \"pressure_mm\": 756, \"pressure_pa\": 1008, \"humidity\": 62, \"uv_index\": 3, \"soil_temp\": 17, \"soil_moisture\": 0.33, \"prec_mm\": 0, \"prec_period\": 60, \"prec_prob\": 0, \"prec_type\": 0, \"prec_strength\": 0, \"cloudness\": 0}, {\"hour\": \"11\", \"hour_ts\": 1566547200, \"temp\": 19, \"feels_like\": 19, \"icon\": \"skc_d\", \"condition\": \"clear\", \"wind_speed\": 1.7, \"wind_gust\": 5.2, \"wind_dir\": \"n\", \"pressure_mm\": 756, \"pressure_pa\": 1008, \"humidity\": 56, \"uv_index\": 4, \"soil_temp\": 17, \"soil_moisture\": 0.33, \"prec_mm\": 0, \"prec_period\": 60, \"prec_prob\": 0, \"prec_type\": 0, \"prec_strength\": 0, \"cloudness\": 0}, {\"hour\": \"12\", \"hour_ts\": 1566550800, \"temp\": 20, \"feels_like\": 20, \"icon\": \"bkn_d\", \"condition\": \"cloudy\", \"wind_speed\": 1.6, \"wind_gust\": 6.1, \"wind_dir\": \"n\", \"pressure_mm\": 756, \"pressure_pa\": 1008, \"humidity\": 52, \"uv_index\": 4, \"soil_temp\": 20, \"soil_moisture\": 0.33, \"prec_mm\": 0, \"prec_period\": 60, \"prec_prob\": 0, \"prec_type\": 0, \"prec_strength\": 0, \"cloudness\": 0.5}, {\"hour\": \"13\", \"hour_ts\": 1566554400, \"temp\": 21, \"feels_like\": 20, \"icon\": \"skc_d\", \"condition\": \"clear\", \"wind_speed\": 2, \"wind_gust\": 6.1, \"wind_dir\": \"n\", \"pressure_mm\": 756, \"pressure_pa\": 1008, \"humidity\": 48, \"uv_index\": 4, \"soil_temp\": 20, \"soil_moisture\": 0.33, \"prec_mm\": 0, \"prec_period\": 60, \"prec_prob\": 0, \"prec_type\": 0, \"prec_strength\": 0, \"cloudness\": 0}, {\"hour\": \"14\", \"hour_ts\": 1566558000, \"temp\": 21, \"feels_like\": 20, \"icon\": \"skc_d\", \"condition\": \"clear\", \"wind_speed\": 2, \"wind_gust\": 6.1, \"wind_dir\": \"n\", \"pressure_mm\": 755, \"pressure_pa\": 1007, \"humidity\": 47, \"uv_index\": 4, \"soil_temp\": 20, \"soil_moisture\": 0.33, \"prec_mm\": 0, \"prec_period\": 60, \"prec_prob\": 0, \"prec_type\": 0, \"prec_strength\": 0, \"cloudness\": 0}, {\"hour\": \"15\", \"hour_ts\": 1566561600, \"temp\": 21, \"feels_like\": 20, \"icon\": \"skc_d\", \"condition\": \"clear\", \"wind_speed\": 1.3, \"wind_gust\": 5.2, \"wind_dir\": \"nw\", \"pressure_mm\": 754, \"pressure_pa\": 1006, \"humidity\": 45, \"uv_index\": 3, \"soil_temp\": 22, \"soil_moisture\": 0.32, \"prec_mm\": 0, \"prec_period\": 60, \"prec_prob\": 0, \"prec_type\": 0, \"prec_strength\": 0, \"cloudness\": 0}]}, {\"date\": \"2019-08-24\", \"date_ts\": 1566594000, \"week\": 34, \"sunrise\": \"05:17\", \"sunset\": \"19:44\", \"moon_code\": 4, \"moon_text\": \"last-quarter\", \"parts\": {\"night\": {\"_source\": \"0,3\", \"temp_min\": 12, \"temp_max\": 13, \"temp_avg\": 13, \"feels_like\": 12, \"icon\": \"skc_n\", \"condition\": \"clear\", \"daytime\": \"n\", \"polar\": false, \"wind_speed\": 1, \"wind_gust\": 2.6, \"wind_dir\": \"nw\", \"pressure_mm\": 754, \"pressure_pa\": 1006, \"humidity\": 82, \"uv_index\": 0, \"soil_temp\": 16, \"soil_moisture\": 0.32, \"prec_mm\": 0, \"prec_period\": 360, \"prec_prob\": 0}, \"morning\": {\"_source\": \"6,9\", \"temp_min\": 11, \"temp_max\": 17, \"temp_avg\": 14, \"feels_like\": 13, \"icon\": \"skc_d\", \"condition\": \"clear\", \"daytime\": \"d\", \"polar\": false, \"wind_speed\": 1.8, \"wind_gust\": 6.3, \"wind_dir\": \"w\", \"pressure_mm\": 754, \"pressure_pa\": 1006, \"humidity\": 77, \"uv_index\": 2, \"soil_temp\": 16, \"soil_moisture\": 0.32, \"prec_mm\": 0, \"prec_period\": 360, \"prec_prob\": 0}, \"day\": {\"_source\": \"12,15\", \"temp_min\": 21, \"temp_max\": 22, \"temp_avg\": 22, \"feels_like\": 21, \"icon\": \"skc_d\", \"condition\": \"clear\", \"daytime\": \"d\", \"polar\": false, \"wind_speed\": 2.9, \"wind_gust\": 8.9, \"wind_dir\": \"w\", \"pressure_mm\": 754, \"pressure_pa\": 1006, \"humidity\": 48, \"uv_index\": 4, \"soil_temp\": 21, \"soil_moisture\": 0.31, \"prec_mm\": 0, \"prec_period\": 360, \"prec_prob\": 0}, \"evening\": {\"_source\": \"18,21\", \"temp_min\": 16, \"temp_max\": 22, \"temp_avg\": 19, \"feels_like\": 18, \"icon\": \"skc_d\", \"condition\": \"clear\", \"daytime\": \"d\", \"polar\": false, \"wind_speed\": 1.9, \"wind_gust\": 6.2, \"wind_dir\": \"w\", \"pressure_mm\": 753, \"pressure_pa\": 1004, \"humidity\": 58, \"soil_temp\": 20, \"soil_moisture\": 0.3, \"prec_mm\": 0, \"prec_period\": 360, \"prec_prob\": 0}, \"day_short\": {\"_source\": \"9,12,15,18\", \"temp\": 22, \"temp_min\": 17, \"feels_like\": 21, \"icon\": \"skc_d\", \"condition\": \"clear\", \"wind_speed\": 2.9, \"wind_gust\": 8.9, \"wind_dir\": \"w\", \"pressure_mm\": 754, \"pressure_pa\": 1006, \"humidity\": 53, \"uv_index\": 4, \"soil_temp\": 21, \"soil_moisture\": 0.31, \"prec_mm\": 0, \"prec_prob\": 0}, \"night_short\": {\"temp\": 12, \"feels_like\": 11, \"icon\": \"skc_n\", \"condition\": \"clear\", \"wind_speed\": 1, \"wind_gust\": 2.6, \"wind_dir\": \"nw\", \"pressure_mm\": 754, \"pressure_pa\": 1006, \"humidity\": 82, \"uv_index\": 0, \"soil_temp\": 16, \"soil_moisture\": 0.32, \"prec_mm\": 0, \"prec_prob\": 0}}, \"hours\": []}]}\n"
     ]
    }
   ],
   "source": [
    "BASE_URL = \"https://weather.data-analyst.praktikum-services.ru/v1/forecast\" \n",
    "# URL метода \n",
    "params = { # словарь с параметрами запроса\n",
    "        \"city\" : \"Moscow\", # определяем город\n",
    "        \"hours\" : True # указываем, что нужен почасовой прогноз\n",
    "    }\n",
    "    \n",
    "response = requests.get(BASE_URL, params=params)\n",
    "print(response.text)"
   ]
  },
  {
   "cell_type": "markdown",
   "metadata": {},
   "source": [
    "1.\n",
    "Получите прогноз погоды на 5 дней для региона Moscow."
   ]
  },
  {
   "cell_type": "code",
   "execution_count": 31,
   "metadata": {},
   "outputs": [
    {
     "name": "stdout",
     "output_type": "stream",
     "text": [
      "{\"now\": 1566307174, \"now_dt\": \"2019-08-20T13:19:34.769Z\", \"info\": {\"f\": true, \"n\": true, \"nr\": true, \"ns\": true, \"nsr\": true, \"p\": true, \"lat\": 55.753215, \"lon\": 37.622504, \"geoid\": 213, \"slug\": \"moscow\", \"zoom\": 10, \"tzinfo\": {\"name\": \"Europe/Moscow\", \"abbr\": \"MSK\", \"offset\": 10800, \"dst\": false}, \"def_pressure_mm\": 745, \"def_pressure_pa\": 994, \"_h\": false, \"url\": \"https://yandex.ru/pogoda/moscow\"}, \"fact\": {\"temp\": 28, \"feels_like\": 28, \"icon\": \"bkn_d\", \"condition\": \"cloudy\", \"wind_speed\": 1, \"wind_gust\": 6.9, \"wind_dir\": \"w\", \"pressure_mm\": 752, \"pressure_pa\": 1003, \"humidity\": 39, \"uv_index\": 2, \"soil_temp\": 24, \"soil_moisture\": 0.36, \"daytime\": \"d\", \"polar\": false, \"season\": \"summer\", \"obs_time\": 1566306726, \"accum_prec\": {\"1\": 0, \"3\": 0, \"7\": 0}, \"source\": \"station\", \"prec_type\": 0, \"prec_strength\": 0, \"cloudness\": 0.75, \"_mode\": \"nearest(16:tp)\"}, \"forecasts\": [{\"date\": \"2019-08-20\", \"date_ts\": 1566248400, \"week\": 34, \"sunrise\": \"05:10\", \"sunset\": \"19:54\", \"rise_begin\": \"04:28\", \"set_end\": \"20:36\", \"moon_code\": 2, \"moon_text\": \"decreasing-moon\", \"parts\": {\"night\": {\"_source\": \"0,1,2,3,4,5\", \"temp_min\": 14, \"temp_max\": 16, \"temp_avg\": 15, \"feels_like\": 15, \"icon\": \"skc_n\", \"condition\": \"clear\", \"daytime\": \"n\", \"polar\": false, \"wind_speed\": 1.4, \"wind_gust\": 3.5, \"wind_dir\": \"sw\", \"pressure_mm\": 751, \"pressure_pa\": 1002, \"humidity\": 94, \"uv_index\": 0, \"soil_temp\": 15, \"soil_moisture\": 0.38, \"prec_mm\": 0, \"prec_period\": 360, \"prec_prob\": 0, \"prec_type\": 0, \"prec_strength\": 0, \"cloudness\": 0}, \"morning\": {\"_source\": \"6,7,8,9,10,11\", \"temp_min\": 15, \"temp_max\": 24, \"temp_avg\": 20, \"feels_like\": 21, \"icon\": \"skc_d\", \"condition\": \"clear\", \"daytime\": \"d\", \"polar\": false, \"wind_speed\": 2.4, \"wind_gust\": 5.2, \"wind_dir\": \"sw\", \"pressure_mm\": 752, \"pressure_pa\": 1003, \"humidity\": 76, \"uv_index\": 4, \"soil_temp\": 16, \"soil_moisture\": 0.37, \"prec_mm\": 0, \"prec_period\": 360, \"prec_prob\": 0, \"prec_type\": 0, \"prec_strength\": 0, \"cloudness\": 0}, \"day\": {\"_source\": \"12,13,14,15,16,17\", \"temp_min\": 26, \"temp_max\": 29, \"temp_avg\": 28, \"feels_like\": 30, \"icon\": \"skc_d\", \"condition\": \"clear\", \"daytime\": \"d\", \"polar\": false, \"wind_speed\": 2.8, \"wind_gust\": 6.9, \"wind_dir\": \"sw\", \"pressure_mm\": 752, \"pressure_pa\": 1003, \"humidity\": 55, \"uv_index\": 5, \"soil_temp\": 23, \"soil_moisture\": 0.36, \"prec_mm\": 0, \"prec_period\": 360, \"prec_prob\": 0, \"prec_type\": 0, \"prec_strength\": 0, \"cloudness\": 0}, \"evening\": {\"_source\": \"18,19,20,21,22,23\", \"temp_min\": 20, \"temp_max\": 27, \"temp_avg\": 24, \"feels_like\": 26, \"icon\": \"bkn_n\", \"condition\": \"cloudy\", \"daytime\": \"n\", \"polar\": false, \"wind_speed\": 2, \"wind_gust\": 4.8, \"wind_dir\": \"sw\", \"pressure_mm\": 752, \"pressure_pa\": 1003, \"humidity\": 74, \"uv_index\": 0, \"soil_temp\": 22, \"soil_moisture\": 0.35, \"prec_mm\": 0, \"prec_period\": 360, \"prec_prob\": 0, \"prec_type\": 0, \"prec_strength\": 0, \"cloudness\": 0.5}, \"day_short\": {\"_source\": \"8,9,10,11,12,13,14,15,16,17,18,19,20\", \"temp\": 29, \"temp_min\": 18, \"feels_like\": 32, \"icon\": \"skc_d\", \"condition\": \"clear\", \"wind_speed\": 2.8, \"wind_gust\": 6.9, \"wind_dir\": \"sw\", \"pressure_mm\": 752, \"pressure_pa\": 1003, \"humidity\": 61, \"uv_index\": 5, \"soil_temp\": 22, \"soil_moisture\": 0.36, \"prec_mm\": 0, \"prec_prob\": 0, \"prec_type\": 0, \"prec_strength\": 0, \"cloudness\": 0}, \"night_short\": {\"temp\": 14, \"feels_like\": 14, \"icon\": \"skc_n\", \"condition\": \"clear\", \"wind_speed\": 1.4, \"wind_gust\": 3.5, \"wind_dir\": \"sw\", \"pressure_mm\": 751, \"pressure_pa\": 1002, \"humidity\": 94, \"uv_index\": 0, \"soil_temp\": 15, \"soil_moisture\": 0.38, \"prec_mm\": 0, \"prec_prob\": 0, \"prec_type\": 0, \"prec_strength\": 0, \"cloudness\": 0}}}, {\"date\": \"2019-08-21\", \"date_ts\": 1566334800, \"week\": 34, \"sunrise\": \"05:12\", \"sunset\": \"19:52\", \"moon_code\": 3, \"moon_text\": \"decreasing-moon\", \"parts\": {\"night\": {\"_source\": \"0,1,2,3,4,5\", \"temp_min\": 18, \"temp_max\": 19, \"temp_avg\": 19, \"feels_like\": 21, \"icon\": \"bkn_n\", \"condition\": \"cloudy\", \"daytime\": \"n\", \"polar\": false, \"wind_speed\": 1.2, \"wind_gust\": 2.7, \"wind_dir\": \"nw\", \"pressure_mm\": 753, \"pressure_pa\": 1004, \"humidity\": 95, \"uv_index\": 0, \"soil_temp\": 18, \"soil_moisture\": 0.35, \"prec_mm\": 0, \"prec_period\": 360, \"prec_prob\": 0, \"prec_type\": 0, \"prec_strength\": 0, \"cloudness\": 0.5}, \"morning\": {\"_source\": \"6,7,8,9,10,11\", \"temp_min\": 18, \"temp_max\": 22, \"temp_avg\": 20, \"feels_like\": 22, \"icon\": \"ovc\", \"condition\": \"overcast\", \"daytime\": \"d\", \"polar\": false, \"wind_speed\": 1.7, \"wind_gust\": 5.3, \"wind_dir\": \"n\", \"pressure_mm\": 754, \"pressure_pa\": 1006, \"humidity\": 85, \"uv_index\": 4, \"soil_temp\": 19, \"soil_moisture\": 0.35, \"prec_mm\": 0, \"prec_period\": 360, \"prec_prob\": 0, \"prec_type\": 0, \"prec_strength\": 0, \"cloudness\": 1}, \"day\": {\"_source\": \"12,13,14,15,16,17\", \"temp_min\": 24, \"temp_max\": 25, \"temp_avg\": 25, \"feels_like\": 29, \"icon\": \"bkn_d\", \"condition\": \"cloudy\", \"daytime\": \"d\", \"polar\": false, \"wind_speed\": 1, \"wind_gust\": 3.5, \"wind_dir\": \"ne\", \"pressure_mm\": 754, \"pressure_pa\": 1006, \"humidity\": 65, \"uv_index\": 5, \"soil_temp\": 22, \"soil_moisture\": 0.35, \"prec_mm\": 0, \"prec_period\": 360, \"prec_prob\": 0, \"prec_type\": 0, \"prec_strength\": 0, \"cloudness\": 0.75}, \"evening\": {\"_source\": \"18,19,20,21,22,23\", \"temp_min\": 20, \"temp_max\": 24, \"temp_avg\": 22, \"feels_like\": 24, \"icon\": \"bkn_n\", \"condition\": \"partly-cloudy\", \"daytime\": \"n\", \"polar\": false, \"wind_speed\": 1.2, \"wind_gust\": 2.5, \"wind_dir\": \"se\", \"pressure_mm\": 752, \"pressure_pa\": 1003, \"humidity\": 79, \"uv_index\": 0, \"soil_temp\": 21, \"soil_moisture\": 0.35, \"prec_mm\": 0, \"prec_period\": 360, \"prec_prob\": 0, \"prec_type\": 0, \"prec_strength\": 0, \"cloudness\": 0.25}, \"day_short\": {\"_source\": \"8,9,10,11,12,13,14,15,16,17,18,19,20\", \"temp\": 25, \"temp_min\": 20, \"feels_like\": 29, \"icon\": \"bkn_d\", \"condition\": \"cloudy\", \"wind_speed\": 1.7, \"wind_gust\": 5.3, \"wind_dir\": \"ne\", \"pressure_mm\": 753, \"pressure_pa\": 1004, \"humidity\": 72, \"uv_index\": 5, \"soil_temp\": 21, \"soil_moisture\": 0.35, \"prec_mm\": 0, \"prec_prob\": 0, \"prec_type\": 0, \"prec_strength\": 0, \"cloudness\": 0.75}, \"night_short\": {\"temp\": 18, \"feels_like\": 20, \"icon\": \"bkn_n\", \"condition\": \"cloudy\", \"wind_speed\": 1.2, \"wind_gust\": 2.7, \"wind_dir\": \"nw\", \"pressure_mm\": 753, \"pressure_pa\": 1004, \"humidity\": 95, \"uv_index\": 0, \"soil_temp\": 18, \"soil_moisture\": 0.35, \"prec_mm\": 0, \"prec_prob\": 0, \"prec_type\": 0, \"prec_strength\": 0, \"cloudness\": 0.5}}}, {\"date\": \"2019-08-22\", \"date_ts\": 1566421200, \"week\": 34, \"sunrise\": \"05:13\", \"sunset\": \"19:49\", \"moon_code\": 3, \"moon_text\": \"decreasing-moon\", \"parts\": {\"night\": {\"_source\": \"0,1,2,3,4,5\", \"temp_min\": 19, \"temp_max\": 20, \"temp_avg\": 20, \"feels_like\": 22, \"icon\": \"skc_n\", \"condition\": \"clear\", \"daytime\": \"n\", \"polar\": false, \"wind_speed\": 2, \"wind_gust\": 5.5, \"wind_dir\": \"se\", \"pressure_mm\": 752, \"pressure_pa\": 1003, \"humidity\": 91, \"uv_index\": 0, \"soil_temp\": 19, \"soil_moisture\": 0.34, \"prec_mm\": 0, \"prec_period\": 360, \"prec_prob\": 0, \"prec_type\": 0, \"prec_strength\": 0, \"cloudness\": 0}, \"morning\": {\"_source\": \"6,7,8,9,10,11\", \"temp_min\": 19, \"temp_max\": 26, \"temp_avg\": 23, \"feels_like\": 25, \"icon\": \"bkn_d\", \"condition\": \"partly-cloudy\", \"daytime\": \"d\", \"polar\": false, \"wind_speed\": 2.8, \"wind_gust\": 8, \"wind_dir\": \"s\", \"pressure_mm\": 751, \"pressure_pa\": 1002, \"humidity\": 75, \"uv_index\": 4, \"soil_temp\": 19, \"soil_moisture\": 0.34, \"prec_mm\": 0, \"prec_period\": 360, \"prec_prob\": 0, \"prec_type\": 0, \"prec_strength\": 0, \"cloudness\": 0.25}, \"day\": {\"_source\": \"12,13,14,15,16,17\", \"temp_min\": 20, \"temp_max\": 25, \"temp_avg\": 23, \"feels_like\": 23, \"icon\": \"bkn_d\", \"condition\": \"cloudy\", \"daytime\": \"d\", \"polar\": false, \"wind_speed\": 4.7, \"wind_gust\": 11.4, \"wind_dir\": \"w\", \"pressure_mm\": 752, \"pressure_pa\": 1003, \"humidity\": 63, \"uv_index\": 5, \"soil_temp\": 23, \"soil_moisture\": 0.34, \"prec_mm\": 0, \"prec_period\": 360, \"prec_prob\": 0, \"prec_type\": 0, \"prec_strength\": 0, \"cloudness\": 0.5}, \"evening\": {\"_source\": \"18,19,20,21,22,23\", \"temp_min\": 16, \"temp_max\": 19, \"temp_avg\": 18, \"feels_like\": 17, \"icon\": \"bkn_n\", \"condition\": \"cloudy\", \"daytime\": \"n\", \"polar\": false, \"wind_speed\": 2.8, \"wind_gust\": 6, \"wind_dir\": \"n\", \"pressure_mm\": 753, \"pressure_pa\": 1004, \"humidity\": 76, \"uv_index\": 0, \"soil_temp\": 19, \"soil_moisture\": 0.34, \"prec_mm\": 0, \"prec_period\": 360, \"prec_prob\": 0, \"prec_type\": 0, \"prec_strength\": 0, \"cloudness\": 0.5}, \"day_short\": {\"_source\": \"8,9,10,11,12,13,14,15,16,17,18,19,20\", \"temp\": 26, \"temp_min\": 18, \"feels_like\": 27, \"icon\": \"bkn_d\", \"condition\": \"cloudy\", \"wind_speed\": 4.7, \"wind_gust\": 11.4, \"wind_dir\": \"nw\", \"pressure_mm\": 752, \"pressure_pa\": 1003, \"humidity\": 67, \"uv_index\": 5, \"soil_temp\": 20, \"soil_moisture\": 0.34, \"prec_mm\": 0, \"prec_prob\": 0, \"prec_type\": 0, \"prec_strength\": 0, \"cloudness\": 0.5}, \"night_short\": {\"temp\": 19, \"feels_like\": 20, \"icon\": \"skc_n\", \"condition\": \"clear\", \"wind_speed\": 2, \"wind_gust\": 5.5, \"wind_dir\": \"se\", \"pressure_mm\": 752, \"pressure_pa\": 1003, \"humidity\": 91, \"uv_index\": 0, \"soil_temp\": 19, \"soil_moisture\": 0.34, \"prec_mm\": 0, \"prec_prob\": 0, \"prec_type\": 0, \"prec_strength\": 0, \"cloudness\": 0}}}, {\"date\": \"2019-08-23\", \"date_ts\": 1566507600, \"week\": 34, \"sunrise\": \"05:15\", \"sunset\": \"19:47\", \"moon_code\": 4, \"moon_text\": \"last-quarter\", \"parts\": {\"night\": {\"_source\": \"0,1,2,3,4,5\", \"temp_min\": 12, \"temp_max\": 15, \"temp_avg\": 14, \"feels_like\": 13, \"icon\": \"skc_n\", \"condition\": \"clear\", \"daytime\": \"n\", \"polar\": false, \"wind_speed\": 1.8, \"wind_gust\": 4.5, \"wind_dir\": \"n\", \"pressure_mm\": 755, \"pressure_pa\": 1007, \"humidity\": 87, \"uv_index\": 0, \"soil_temp\": 16, \"soil_moisture\": 0.34, \"prec_mm\": 0, \"prec_period\": 360, \"prec_prob\": 0, \"prec_type\": 0, \"prec_strength\": 0, \"cloudness\": 0}, \"morning\": {\"_source\": \"6,7,8,9,10,11\", \"temp_min\": 12, \"temp_max\": 19, \"temp_avg\": 16, \"feels_like\": 16, \"icon\": \"skc_d\", \"condition\": \"clear\", \"daytime\": \"d\", \"polar\": false, \"wind_speed\": 1.7, \"wind_gust\": 5.2, \"wind_dir\": \"n\", \"pressure_mm\": 756, \"pressure_pa\": 1008, \"humidity\": 74, \"uv_index\": 4, \"soil_temp\": 16, \"soil_moisture\": 0.34, \"prec_mm\": 0, \"prec_period\": 360, \"prec_prob\": 0, \"prec_type\": 0, \"prec_strength\": 0, \"cloudness\": 0}, \"day\": {\"_source\": \"12,13,14,15\", \"temp_min\": 20, \"temp_max\": 21, \"temp_avg\": 21, \"feels_like\": 20, \"icon\": \"bkn_d\", \"condition\": \"partly-cloudy\", \"daytime\": \"d\", \"polar\": false, \"wind_speed\": 2, \"wind_gust\": 6.1, \"wind_dir\": \"n\", \"pressure_mm\": 755, \"pressure_pa\": 1007, \"humidity\": 48, \"uv_index\": 4, \"soil_temp\": 20, \"soil_moisture\": 0.33, \"prec_mm\": 0, \"prec_period\": 360, \"prec_prob\": 0, \"prec_type\": 0, \"prec_strength\": 0, \"cloudness\": 0.25}, \"evening\": {\"_source\": \"18,21\", \"temp_min\": 16, \"temp_max\": 21, \"temp_avg\": 19, \"feels_like\": 19, \"icon\": \"skc_d\", \"condition\": \"clear\", \"daytime\": \"d\", \"polar\": false, \"wind_speed\": 1.3, \"wind_gust\": 2.9, \"wind_dir\": \"nw\", \"pressure_mm\": 754, \"pressure_pa\": 1006, \"humidity\": 61, \"uv_index\": 0, \"soil_temp\": 20, \"soil_moisture\": 0.32, \"prec_mm\": 0, \"prec_period\": 360, \"prec_prob\": 0, \"prec_type\": 0, \"prec_strength\": 0, \"cloudness\": 0}, \"day_short\": {\"_source\": \"8,9,10,11,12,13,14,15\", \"temp\": 21, \"temp_min\": 15, \"feels_like\": 21, \"icon\": \"bkn_d\", \"condition\": \"partly-cloudy\", \"wind_speed\": 2, \"wind_gust\": 6.1, \"wind_dir\": \"n\", \"pressure_mm\": 756, \"pressure_pa\": 1008, \"humidity\": 57, \"uv_index\": 4, \"soil_temp\": 19, \"soil_moisture\": 0.33, \"prec_mm\": 0, \"prec_prob\": 0, \"prec_type\": 0, \"prec_strength\": 0, \"cloudness\": 0.25}, \"night_short\": {\"temp\": 12, \"feels_like\": 11, \"icon\": \"skc_n\", \"condition\": \"clear\", \"wind_speed\": 1.8, \"wind_gust\": 4.5, \"wind_dir\": \"n\", \"pressure_mm\": 755, \"pressure_pa\": 1007, \"humidity\": 87, \"uv_index\": 0, \"soil_temp\": 16, \"soil_moisture\": 0.34, \"prec_mm\": 0, \"prec_prob\": 0, \"prec_type\": 0, \"prec_strength\": 0, \"cloudness\": 0}}}, {\"date\": \"2019-08-24\", \"date_ts\": 1566594000, \"week\": 34, \"sunrise\": \"05:17\", \"sunset\": \"19:44\", \"moon_code\": 4, \"moon_text\": \"last-quarter\", \"parts\": {\"night\": {\"_source\": \"0,3\", \"temp_min\": 12, \"temp_max\": 13, \"temp_avg\": 13, \"feels_like\": 12, \"icon\": \"skc_n\", \"condition\": \"clear\", \"daytime\": \"n\", \"polar\": false, \"wind_speed\": 1, \"wind_gust\": 2.6, \"wind_dir\": \"nw\", \"pressure_mm\": 754, \"pressure_pa\": 1006, \"humidity\": 82, \"uv_index\": 0, \"soil_temp\": 16, \"soil_moisture\": 0.32, \"prec_mm\": 0, \"prec_period\": 360, \"prec_prob\": 0, \"prec_type\": 0, \"prec_strength\": 0, \"cloudness\": 0}, \"morning\": {\"_source\": \"6,9\", \"temp_min\": 11, \"temp_max\": 17, \"temp_avg\": 14, \"feels_like\": 13, \"icon\": \"skc_d\", \"condition\": \"clear\", \"daytime\": \"d\", \"polar\": false, \"wind_speed\": 1.8, \"wind_gust\": 6.3, \"wind_dir\": \"w\", \"pressure_mm\": 754, \"pressure_pa\": 1006, \"humidity\": 77, \"uv_index\": 2, \"soil_temp\": 16, \"soil_moisture\": 0.32, \"prec_mm\": 0, \"prec_period\": 360, \"prec_prob\": 0, \"prec_type\": 0, \"prec_strength\": 0, \"cloudness\": 0}, \"day\": {\"_source\": \"12,15\", \"temp_min\": 21, \"temp_max\": 22, \"temp_avg\": 22, \"feels_like\": 21, \"icon\": \"skc_d\", \"condition\": \"clear\", \"daytime\": \"d\", \"polar\": false, \"wind_speed\": 2.9, \"wind_gust\": 8.9, \"wind_dir\": \"w\", \"pressure_mm\": 754, \"pressure_pa\": 1006, \"humidity\": 48, \"uv_index\": 4, \"soil_temp\": 21, \"soil_moisture\": 0.31, \"prec_mm\": 0, \"prec_period\": 360, \"prec_prob\": 0, \"prec_type\": 0, \"prec_strength\": 0, \"cloudness\": 0}, \"evening\": {\"_source\": \"18,21\", \"temp_min\": 16, \"temp_max\": 22, \"temp_avg\": 19, \"feels_like\": 18, \"icon\": \"skc_d\", \"condition\": \"clear\", \"daytime\": \"d\", \"polar\": false, \"wind_speed\": 1.9, \"wind_gust\": 6.2, \"wind_dir\": \"w\", \"pressure_mm\": 753, \"pressure_pa\": 1004, \"humidity\": 58, \"soil_temp\": 20, \"soil_moisture\": 0.3, \"prec_mm\": 0, \"prec_period\": 360, \"prec_prob\": 0, \"prec_type\": 0, \"prec_strength\": 0, \"cloudness\": 0}, \"day_short\": {\"_source\": \"9,12,15,18\", \"temp\": 22, \"temp_min\": 17, \"feels_like\": 21, \"icon\": \"skc_d\", \"condition\": \"clear\", \"wind_speed\": 2.9, \"wind_gust\": 8.9, \"wind_dir\": \"w\", \"pressure_mm\": 754, \"pressure_pa\": 1006, \"humidity\": 53, \"uv_index\": 4, \"soil_temp\": 21, \"soil_moisture\": 0.31, \"prec_mm\": 0, \"prec_prob\": 0, \"prec_type\": 0, \"prec_strength\": 0, \"cloudness\": 0}, \"night_short\": {\"temp\": 12, \"feels_like\": 11, \"icon\": \"skc_n\", \"condition\": \"clear\", \"wind_speed\": 1, \"wind_gust\": 2.6, \"wind_dir\": \"nw\", \"pressure_mm\": 754, \"pressure_pa\": 1006, \"humidity\": 82, \"uv_index\": 0, \"soil_temp\": 16, \"soil_moisture\": 0.32, \"prec_mm\": 0, \"prec_prob\": 0, \"prec_type\": 0, \"prec_strength\": 0, \"cloudness\": 0}}}]}\n"
     ]
    }
   ],
   "source": [
    "params = {\n",
    "    \"city\" : \"Moscow\",\n",
    "    \"limit\" : 5,\n",
    "    \"hours\" : False,\n",
    "    \"extra\" : True\n",
    "}\n",
    "\n",
    "response = requests.get(BASE_URL, params=params)\n",
    "\n",
    "print(response.text)"
   ]
  },
  {
   "cell_type": "markdown",
   "metadata": {},
   "source": [
    "2.\n",
    "Получите прогноз погоды на 5 дней с детальной информацией об осадках для региона Moscow.\n",
    "Однако без прогноза погоды по часам — передайте этому ключу словаря значение False.\n",
    "Выведите на экран текстовое содержание запроса."
   ]
  },
  {
   "cell_type": "code",
   "execution_count": 33,
   "metadata": {},
   "outputs": [
    {
     "name": "stdout",
     "output_type": "stream",
     "text": [
      "{\"now\": 1566307174, \"now_dt\": \"2019-08-20T13:19:34.769Z\", \"info\": {\"f\": true, \"n\": true, \"nr\": true, \"ns\": true, \"nsr\": true, \"p\": true, \"lat\": 55.753215, \"lon\": 37.622504, \"geoid\": 213, \"slug\": \"moscow\", \"zoom\": 10, \"tzinfo\": {\"name\": \"Europe/Moscow\", \"abbr\": \"MSK\", \"offset\": 10800, \"dst\": false}, \"def_pressure_mm\": 745, \"def_pressure_pa\": 994, \"_h\": false, \"url\": \"https://yandex.ru/pogoda/moscow\"}, \"fact\": {\"temp\": 28, \"feels_like\": 28, \"icon\": \"bkn_d\", \"condition\": \"cloudy\", \"wind_speed\": 1, \"wind_gust\": 6.9, \"wind_dir\": \"w\", \"pressure_mm\": 752, \"pressure_pa\": 1003, \"humidity\": 39, \"uv_index\": 2, \"soil_temp\": 24, \"soil_moisture\": 0.36, \"daytime\": \"d\", \"polar\": false, \"season\": \"summer\", \"obs_time\": 1566306726, \"accum_prec\": {\"1\": 0, \"3\": 0, \"7\": 0}, \"source\": \"station\", \"prec_type\": 0, \"prec_strength\": 0, \"cloudness\": 0.75, \"_mode\": \"nearest(16:tp)\"}, \"forecasts\": [{\"date\": \"2019-08-20\", \"date_ts\": 1566248400, \"week\": 34, \"sunrise\": \"05:10\", \"sunset\": \"19:54\", \"rise_begin\": \"04:28\", \"set_end\": \"20:36\", \"moon_code\": 2, \"moon_text\": \"decreasing-moon\", \"parts\": {\"night\": {\"_source\": \"0,1,2,3,4,5\", \"temp_min\": 14, \"temp_max\": 16, \"temp_avg\": 15, \"feels_like\": 15, \"icon\": \"skc_n\", \"condition\": \"clear\", \"daytime\": \"n\", \"polar\": false, \"wind_speed\": 1.4, \"wind_gust\": 3.5, \"wind_dir\": \"sw\", \"pressure_mm\": 751, \"pressure_pa\": 1002, \"humidity\": 94, \"uv_index\": 0, \"soil_temp\": 15, \"soil_moisture\": 0.38, \"prec_mm\": 0, \"prec_period\": 360, \"prec_prob\": 0, \"prec_type\": 0, \"prec_strength\": 0, \"cloudness\": 0}, \"morning\": {\"_source\": \"6,7,8,9,10,11\", \"temp_min\": 15, \"temp_max\": 24, \"temp_avg\": 20, \"feels_like\": 21, \"icon\": \"skc_d\", \"condition\": \"clear\", \"daytime\": \"d\", \"polar\": false, \"wind_speed\": 2.4, \"wind_gust\": 5.2, \"wind_dir\": \"sw\", \"pressure_mm\": 752, \"pressure_pa\": 1003, \"humidity\": 76, \"uv_index\": 4, \"soil_temp\": 16, \"soil_moisture\": 0.37, \"prec_mm\": 0, \"prec_period\": 360, \"prec_prob\": 0, \"prec_type\": 0, \"prec_strength\": 0, \"cloudness\": 0}, \"day\": {\"_source\": \"12,13,14,15,16,17\", \"temp_min\": 26, \"temp_max\": 29, \"temp_avg\": 28, \"feels_like\": 30, \"icon\": \"skc_d\", \"condition\": \"clear\", \"daytime\": \"d\", \"polar\": false, \"wind_speed\": 2.8, \"wind_gust\": 6.9, \"wind_dir\": \"sw\", \"pressure_mm\": 752, \"pressure_pa\": 1003, \"humidity\": 55, \"uv_index\": 5, \"soil_temp\": 23, \"soil_moisture\": 0.36, \"prec_mm\": 0, \"prec_period\": 360, \"prec_prob\": 0, \"prec_type\": 0, \"prec_strength\": 0, \"cloudness\": 0}, \"evening\": {\"_source\": \"18,19,20,21,22,23\", \"temp_min\": 20, \"temp_max\": 27, \"temp_avg\": 24, \"feels_like\": 26, \"icon\": \"bkn_n\", \"condition\": \"cloudy\", \"daytime\": \"n\", \"polar\": false, \"wind_speed\": 2, \"wind_gust\": 4.8, \"wind_dir\": \"sw\", \"pressure_mm\": 752, \"pressure_pa\": 1003, \"humidity\": 74, \"uv_index\": 0, \"soil_temp\": 22, \"soil_moisture\": 0.35, \"prec_mm\": 0, \"prec_period\": 360, \"prec_prob\": 0, \"prec_type\": 0, \"prec_strength\": 0, \"cloudness\": 0.5}, \"day_short\": {\"_source\": \"8,9,10,11,12,13,14,15,16,17,18,19,20\", \"temp\": 29, \"temp_min\": 18, \"feels_like\": 32, \"icon\": \"skc_d\", \"condition\": \"clear\", \"wind_speed\": 2.8, \"wind_gust\": 6.9, \"wind_dir\": \"sw\", \"pressure_mm\": 752, \"pressure_pa\": 1003, \"humidity\": 61, \"uv_index\": 5, \"soil_temp\": 22, \"soil_moisture\": 0.36, \"prec_mm\": 0, \"prec_prob\": 0, \"prec_type\": 0, \"prec_strength\": 0, \"cloudness\": 0}, \"night_short\": {\"temp\": 14, \"feels_like\": 14, \"icon\": \"skc_n\", \"condition\": \"clear\", \"wind_speed\": 1.4, \"wind_gust\": 3.5, \"wind_dir\": \"sw\", \"pressure_mm\": 751, \"pressure_pa\": 1002, \"humidity\": 94, \"uv_index\": 0, \"soil_temp\": 15, \"soil_moisture\": 0.38, \"prec_mm\": 0, \"prec_prob\": 0, \"prec_type\": 0, \"prec_strength\": 0, \"cloudness\": 0}}}, {\"date\": \"2019-08-21\", \"date_ts\": 1566334800, \"week\": 34, \"sunrise\": \"05:12\", \"sunset\": \"19:52\", \"moon_code\": 3, \"moon_text\": \"decreasing-moon\", \"parts\": {\"night\": {\"_source\": \"0,1,2,3,4,5\", \"temp_min\": 18, \"temp_max\": 19, \"temp_avg\": 19, \"feels_like\": 21, \"icon\": \"bkn_n\", \"condition\": \"cloudy\", \"daytime\": \"n\", \"polar\": false, \"wind_speed\": 1.2, \"wind_gust\": 2.7, \"wind_dir\": \"nw\", \"pressure_mm\": 753, \"pressure_pa\": 1004, \"humidity\": 95, \"uv_index\": 0, \"soil_temp\": 18, \"soil_moisture\": 0.35, \"prec_mm\": 0, \"prec_period\": 360, \"prec_prob\": 0, \"prec_type\": 0, \"prec_strength\": 0, \"cloudness\": 0.5}, \"morning\": {\"_source\": \"6,7,8,9,10,11\", \"temp_min\": 18, \"temp_max\": 22, \"temp_avg\": 20, \"feels_like\": 22, \"icon\": \"ovc\", \"condition\": \"overcast\", \"daytime\": \"d\", \"polar\": false, \"wind_speed\": 1.7, \"wind_gust\": 5.3, \"wind_dir\": \"n\", \"pressure_mm\": 754, \"pressure_pa\": 1006, \"humidity\": 85, \"uv_index\": 4, \"soil_temp\": 19, \"soil_moisture\": 0.35, \"prec_mm\": 0, \"prec_period\": 360, \"prec_prob\": 0, \"prec_type\": 0, \"prec_strength\": 0, \"cloudness\": 1}, \"day\": {\"_source\": \"12,13,14,15,16,17\", \"temp_min\": 24, \"temp_max\": 25, \"temp_avg\": 25, \"feels_like\": 29, \"icon\": \"bkn_d\", \"condition\": \"cloudy\", \"daytime\": \"d\", \"polar\": false, \"wind_speed\": 1, \"wind_gust\": 3.5, \"wind_dir\": \"ne\", \"pressure_mm\": 754, \"pressure_pa\": 1006, \"humidity\": 65, \"uv_index\": 5, \"soil_temp\": 22, \"soil_moisture\": 0.35, \"prec_mm\": 0, \"prec_period\": 360, \"prec_prob\": 0, \"prec_type\": 0, \"prec_strength\": 0, \"cloudness\": 0.75}, \"evening\": {\"_source\": \"18,19,20,21,22,23\", \"temp_min\": 20, \"temp_max\": 24, \"temp_avg\": 22, \"feels_like\": 24, \"icon\": \"bkn_n\", \"condition\": \"partly-cloudy\", \"daytime\": \"n\", \"polar\": false, \"wind_speed\": 1.2, \"wind_gust\": 2.5, \"wind_dir\": \"se\", \"pressure_mm\": 752, \"pressure_pa\": 1003, \"humidity\": 79, \"uv_index\": 0, \"soil_temp\": 21, \"soil_moisture\": 0.35, \"prec_mm\": 0, \"prec_period\": 360, \"prec_prob\": 0, \"prec_type\": 0, \"prec_strength\": 0, \"cloudness\": 0.25}, \"day_short\": {\"_source\": \"8,9,10,11,12,13,14,15,16,17,18,19,20\", \"temp\": 25, \"temp_min\": 20, \"feels_like\": 29, \"icon\": \"bkn_d\", \"condition\": \"cloudy\", \"wind_speed\": 1.7, \"wind_gust\": 5.3, \"wind_dir\": \"ne\", \"pressure_mm\": 753, \"pressure_pa\": 1004, \"humidity\": 72, \"uv_index\": 5, \"soil_temp\": 21, \"soil_moisture\": 0.35, \"prec_mm\": 0, \"prec_prob\": 0, \"prec_type\": 0, \"prec_strength\": 0, \"cloudness\": 0.75}, \"night_short\": {\"temp\": 18, \"feels_like\": 20, \"icon\": \"bkn_n\", \"condition\": \"cloudy\", \"wind_speed\": 1.2, \"wind_gust\": 2.7, \"wind_dir\": \"nw\", \"pressure_mm\": 753, \"pressure_pa\": 1004, \"humidity\": 95, \"uv_index\": 0, \"soil_temp\": 18, \"soil_moisture\": 0.35, \"prec_mm\": 0, \"prec_prob\": 0, \"prec_type\": 0, \"prec_strength\": 0, \"cloudness\": 0.5}}}, {\"date\": \"2019-08-22\", \"date_ts\": 1566421200, \"week\": 34, \"sunrise\": \"05:13\", \"sunset\": \"19:49\", \"moon_code\": 3, \"moon_text\": \"decreasing-moon\", \"parts\": {\"night\": {\"_source\": \"0,1,2,3,4,5\", \"temp_min\": 19, \"temp_max\": 20, \"temp_avg\": 20, \"feels_like\": 22, \"icon\": \"skc_n\", \"condition\": \"clear\", \"daytime\": \"n\", \"polar\": false, \"wind_speed\": 2, \"wind_gust\": 5.5, \"wind_dir\": \"se\", \"pressure_mm\": 752, \"pressure_pa\": 1003, \"humidity\": 91, \"uv_index\": 0, \"soil_temp\": 19, \"soil_moisture\": 0.34, \"prec_mm\": 0, \"prec_period\": 360, \"prec_prob\": 0, \"prec_type\": 0, \"prec_strength\": 0, \"cloudness\": 0}, \"morning\": {\"_source\": \"6,7,8,9,10,11\", \"temp_min\": 19, \"temp_max\": 26, \"temp_avg\": 23, \"feels_like\": 25, \"icon\": \"bkn_d\", \"condition\": \"partly-cloudy\", \"daytime\": \"d\", \"polar\": false, \"wind_speed\": 2.8, \"wind_gust\": 8, \"wind_dir\": \"s\", \"pressure_mm\": 751, \"pressure_pa\": 1002, \"humidity\": 75, \"uv_index\": 4, \"soil_temp\": 19, \"soil_moisture\": 0.34, \"prec_mm\": 0, \"prec_period\": 360, \"prec_prob\": 0, \"prec_type\": 0, \"prec_strength\": 0, \"cloudness\": 0.25}, \"day\": {\"_source\": \"12,13,14,15,16,17\", \"temp_min\": 20, \"temp_max\": 25, \"temp_avg\": 23, \"feels_like\": 23, \"icon\": \"bkn_d\", \"condition\": \"cloudy\", \"daytime\": \"d\", \"polar\": false, \"wind_speed\": 4.7, \"wind_gust\": 11.4, \"wind_dir\": \"w\", \"pressure_mm\": 752, \"pressure_pa\": 1003, \"humidity\": 63, \"uv_index\": 5, \"soil_temp\": 23, \"soil_moisture\": 0.34, \"prec_mm\": 0, \"prec_period\": 360, \"prec_prob\": 0, \"prec_type\": 0, \"prec_strength\": 0, \"cloudness\": 0.5}, \"evening\": {\"_source\": \"18,19,20,21,22,23\", \"temp_min\": 16, \"temp_max\": 19, \"temp_avg\": 18, \"feels_like\": 17, \"icon\": \"bkn_n\", \"condition\": \"cloudy\", \"daytime\": \"n\", \"polar\": false, \"wind_speed\": 2.8, \"wind_gust\": 6, \"wind_dir\": \"n\", \"pressure_mm\": 753, \"pressure_pa\": 1004, \"humidity\": 76, \"uv_index\": 0, \"soil_temp\": 19, \"soil_moisture\": 0.34, \"prec_mm\": 0, \"prec_period\": 360, \"prec_prob\": 0, \"prec_type\": 0, \"prec_strength\": 0, \"cloudness\": 0.5}, \"day_short\": {\"_source\": \"8,9,10,11,12,13,14,15,16,17,18,19,20\", \"temp\": 26, \"temp_min\": 18, \"feels_like\": 27, \"icon\": \"bkn_d\", \"condition\": \"cloudy\", \"wind_speed\": 4.7, \"wind_gust\": 11.4, \"wind_dir\": \"nw\", \"pressure_mm\": 752, \"pressure_pa\": 1003, \"humidity\": 67, \"uv_index\": 5, \"soil_temp\": 20, \"soil_moisture\": 0.34, \"prec_mm\": 0, \"prec_prob\": 0, \"prec_type\": 0, \"prec_strength\": 0, \"cloudness\": 0.5}, \"night_short\": {\"temp\": 19, \"feels_like\": 20, \"icon\": \"skc_n\", \"condition\": \"clear\", \"wind_speed\": 2, \"wind_gust\": 5.5, \"wind_dir\": \"se\", \"pressure_mm\": 752, \"pressure_pa\": 1003, \"humidity\": 91, \"uv_index\": 0, \"soil_temp\": 19, \"soil_moisture\": 0.34, \"prec_mm\": 0, \"prec_prob\": 0, \"prec_type\": 0, \"prec_strength\": 0, \"cloudness\": 0}}}, {\"date\": \"2019-08-23\", \"date_ts\": 1566507600, \"week\": 34, \"sunrise\": \"05:15\", \"sunset\": \"19:47\", \"moon_code\": 4, \"moon_text\": \"last-quarter\", \"parts\": {\"night\": {\"_source\": \"0,1,2,3,4,5\", \"temp_min\": 12, \"temp_max\": 15, \"temp_avg\": 14, \"feels_like\": 13, \"icon\": \"skc_n\", \"condition\": \"clear\", \"daytime\": \"n\", \"polar\": false, \"wind_speed\": 1.8, \"wind_gust\": 4.5, \"wind_dir\": \"n\", \"pressure_mm\": 755, \"pressure_pa\": 1007, \"humidity\": 87, \"uv_index\": 0, \"soil_temp\": 16, \"soil_moisture\": 0.34, \"prec_mm\": 0, \"prec_period\": 360, \"prec_prob\": 0, \"prec_type\": 0, \"prec_strength\": 0, \"cloudness\": 0}, \"morning\": {\"_source\": \"6,7,8,9,10,11\", \"temp_min\": 12, \"temp_max\": 19, \"temp_avg\": 16, \"feels_like\": 16, \"icon\": \"skc_d\", \"condition\": \"clear\", \"daytime\": \"d\", \"polar\": false, \"wind_speed\": 1.7, \"wind_gust\": 5.2, \"wind_dir\": \"n\", \"pressure_mm\": 756, \"pressure_pa\": 1008, \"humidity\": 74, \"uv_index\": 4, \"soil_temp\": 16, \"soil_moisture\": 0.34, \"prec_mm\": 0, \"prec_period\": 360, \"prec_prob\": 0, \"prec_type\": 0, \"prec_strength\": 0, \"cloudness\": 0}, \"day\": {\"_source\": \"12,13,14,15\", \"temp_min\": 20, \"temp_max\": 21, \"temp_avg\": 21, \"feels_like\": 20, \"icon\": \"bkn_d\", \"condition\": \"partly-cloudy\", \"daytime\": \"d\", \"polar\": false, \"wind_speed\": 2, \"wind_gust\": 6.1, \"wind_dir\": \"n\", \"pressure_mm\": 755, \"pressure_pa\": 1007, \"humidity\": 48, \"uv_index\": 4, \"soil_temp\": 20, \"soil_moisture\": 0.33, \"prec_mm\": 0, \"prec_period\": 360, \"prec_prob\": 0, \"prec_type\": 0, \"prec_strength\": 0, \"cloudness\": 0.25}, \"evening\": {\"_source\": \"18,21\", \"temp_min\": 16, \"temp_max\": 21, \"temp_avg\": 19, \"feels_like\": 19, \"icon\": \"skc_d\", \"condition\": \"clear\", \"daytime\": \"d\", \"polar\": false, \"wind_speed\": 1.3, \"wind_gust\": 2.9, \"wind_dir\": \"nw\", \"pressure_mm\": 754, \"pressure_pa\": 1006, \"humidity\": 61, \"uv_index\": 0, \"soil_temp\": 20, \"soil_moisture\": 0.32, \"prec_mm\": 0, \"prec_period\": 360, \"prec_prob\": 0, \"prec_type\": 0, \"prec_strength\": 0, \"cloudness\": 0}, \"day_short\": {\"_source\": \"8,9,10,11,12,13,14,15\", \"temp\": 21, \"temp_min\": 15, \"feels_like\": 21, \"icon\": \"bkn_d\", \"condition\": \"partly-cloudy\", \"wind_speed\": 2, \"wind_gust\": 6.1, \"wind_dir\": \"n\", \"pressure_mm\": 756, \"pressure_pa\": 1008, \"humidity\": 57, \"uv_index\": 4, \"soil_temp\": 19, \"soil_moisture\": 0.33, \"prec_mm\": 0, \"prec_prob\": 0, \"prec_type\": 0, \"prec_strength\": 0, \"cloudness\": 0.25}, \"night_short\": {\"temp\": 12, \"feels_like\": 11, \"icon\": \"skc_n\", \"condition\": \"clear\", \"wind_speed\": 1.8, \"wind_gust\": 4.5, \"wind_dir\": \"n\", \"pressure_mm\": 755, \"pressure_pa\": 1007, \"humidity\": 87, \"uv_index\": 0, \"soil_temp\": 16, \"soil_moisture\": 0.34, \"prec_mm\": 0, \"prec_prob\": 0, \"prec_type\": 0, \"prec_strength\": 0, \"cloudness\": 0}}}, {\"date\": \"2019-08-24\", \"date_ts\": 1566594000, \"week\": 34, \"sunrise\": \"05:17\", \"sunset\": \"19:44\", \"moon_code\": 4, \"moon_text\": \"last-quarter\", \"parts\": {\"night\": {\"_source\": \"0,3\", \"temp_min\": 12, \"temp_max\": 13, \"temp_avg\": 13, \"feels_like\": 12, \"icon\": \"skc_n\", \"condition\": \"clear\", \"daytime\": \"n\", \"polar\": false, \"wind_speed\": 1, \"wind_gust\": 2.6, \"wind_dir\": \"nw\", \"pressure_mm\": 754, \"pressure_pa\": 1006, \"humidity\": 82, \"uv_index\": 0, \"soil_temp\": 16, \"soil_moisture\": 0.32, \"prec_mm\": 0, \"prec_period\": 360, \"prec_prob\": 0, \"prec_type\": 0, \"prec_strength\": 0, \"cloudness\": 0}, \"morning\": {\"_source\": \"6,9\", \"temp_min\": 11, \"temp_max\": 17, \"temp_avg\": 14, \"feels_like\": 13, \"icon\": \"skc_d\", \"condition\": \"clear\", \"daytime\": \"d\", \"polar\": false, \"wind_speed\": 1.8, \"wind_gust\": 6.3, \"wind_dir\": \"w\", \"pressure_mm\": 754, \"pressure_pa\": 1006, \"humidity\": 77, \"uv_index\": 2, \"soil_temp\": 16, \"soil_moisture\": 0.32, \"prec_mm\": 0, \"prec_period\": 360, \"prec_prob\": 0, \"prec_type\": 0, \"prec_strength\": 0, \"cloudness\": 0}, \"day\": {\"_source\": \"12,15\", \"temp_min\": 21, \"temp_max\": 22, \"temp_avg\": 22, \"feels_like\": 21, \"icon\": \"skc_d\", \"condition\": \"clear\", \"daytime\": \"d\", \"polar\": false, \"wind_speed\": 2.9, \"wind_gust\": 8.9, \"wind_dir\": \"w\", \"pressure_mm\": 754, \"pressure_pa\": 1006, \"humidity\": 48, \"uv_index\": 4, \"soil_temp\": 21, \"soil_moisture\": 0.31, \"prec_mm\": 0, \"prec_period\": 360, \"prec_prob\": 0, \"prec_type\": 0, \"prec_strength\": 0, \"cloudness\": 0}, \"evening\": {\"_source\": \"18,21\", \"temp_min\": 16, \"temp_max\": 22, \"temp_avg\": 19, \"feels_like\": 18, \"icon\": \"skc_d\", \"condition\": \"clear\", \"daytime\": \"d\", \"polar\": false, \"wind_speed\": 1.9, \"wind_gust\": 6.2, \"wind_dir\": \"w\", \"pressure_mm\": 753, \"pressure_pa\": 1004, \"humidity\": 58, \"soil_temp\": 20, \"soil_moisture\": 0.3, \"prec_mm\": 0, \"prec_period\": 360, \"prec_prob\": 0, \"prec_type\": 0, \"prec_strength\": 0, \"cloudness\": 0}, \"day_short\": {\"_source\": \"9,12,15,18\", \"temp\": 22, \"temp_min\": 17, \"feels_like\": 21, \"icon\": \"skc_d\", \"condition\": \"clear\", \"wind_speed\": 2.9, \"wind_gust\": 8.9, \"wind_dir\": \"w\", \"pressure_mm\": 754, \"pressure_pa\": 1006, \"humidity\": 53, \"uv_index\": 4, \"soil_temp\": 21, \"soil_moisture\": 0.31, \"prec_mm\": 0, \"prec_prob\": 0, \"prec_type\": 0, \"prec_strength\": 0, \"cloudness\": 0}, \"night_short\": {\"temp\": 12, \"feels_like\": 11, \"icon\": \"skc_n\", \"condition\": \"clear\", \"wind_speed\": 1, \"wind_gust\": 2.6, \"wind_dir\": \"nw\", \"pressure_mm\": 754, \"pressure_pa\": 1006, \"humidity\": 82, \"uv_index\": 0, \"soil_temp\": 16, \"soil_moisture\": 0.32, \"prec_mm\": 0, \"prec_prob\": 0, \"prec_type\": 0, \"prec_strength\": 0, \"cloudness\": 0}}}]}\n"
     ]
    }
   ],
   "source": [
    "params = {\n",
    "    \"city\" : \"Moscow\",\n",
    "    \"limit\" : 5,\n",
    "    \"hours\" : False,\n",
    "    \"extra\" : True\n",
    "}\n",
    "\n",
    "response = requests.get(BASE_URL, params=params)\n",
    "\n",
    "print(response.text)"
   ]
  },
  {
   "cell_type": "markdown",
   "metadata": {},
   "source": [
    "# JSON"
   ]
  },
  {
   "cell_type": "markdown",
   "metadata": {},
   "source": [
    "1.\n",
    "В прошлом уроке вы спарсили данные с сайта погоды. Однако видели не все ключи этого словаря. Например, есть ключ info c информацией о населённом пункте из прогноза. Обработайте текстовое содержание ответа response.text методом json.loads() и сохраните результат в переменной response_parsed. Получите данные по ключу 'info'. Распечатайте их на экране."
   ]
  },
  {
   "cell_type": "code",
   "execution_count": 35,
   "metadata": {},
   "outputs": [
    {
     "name": "stdout",
     "output_type": "stream",
     "text": [
      "{'f': True, 'n': True, 'nr': True, 'ns': True, 'nsr': True, 'p': True, 'lat': 55.753215, 'lon': 37.622504, 'geoid': 213, 'slug': 'moscow', 'zoom': 10, 'tzinfo': {'name': 'Europe/Moscow', 'abbr': 'MSK', 'offset': 10800, 'dst': False}, 'def_pressure_mm': 745, 'def_pressure_pa': 994, '_h': False, 'url': 'https://yandex.ru/pogoda/moscow'}\n"
     ]
    }
   ],
   "source": [
    "import json\n",
    "params = {\n",
    "    \"city\" : \"Moscow\"\n",
    "}\n",
    "\n",
    "response = requests.get(BASE_URL, params=params)\n",
    "response_parsed = json.loads(response.text)\n",
    "print(response_parsed['info'])"
   ]
  },
  {
   "cell_type": "markdown",
   "metadata": {},
   "source": [
    "2.\n",
    "Получите данные о фактической погоде из ответа. Их передаёт ключ fact.\n",
    "Обработайте текстовое содержание ответа response.text методом json.loads() и сохраните результат в переменной response_parsed. Получите данные по ключу 'fact'. Распечатайте их на экране."
   ]
  },
  {
   "cell_type": "code",
   "execution_count": 36,
   "metadata": {},
   "outputs": [
    {
     "name": "stdout",
     "output_type": "stream",
     "text": [
      "{'temp': 28, 'feels_like': 28, 'icon': 'bkn_d', 'condition': 'cloudy', 'wind_speed': 1, 'wind_gust': 6.9, 'wind_dir': 'w', 'pressure_mm': 752, 'pressure_pa': 1003, 'humidity': 39, 'uv_index': 2, 'soil_temp': 24, 'soil_moisture': 0.36, 'daytime': 'd', 'polar': False, 'season': 'summer', 'obs_time': 1566306726, 'accum_prec': {'1': 0, '3': 0, '7': 0}, 'source': 'station', '_mode': 'nearest(16:tp)'}\n"
     ]
    }
   ],
   "source": [
    "print(response_parsed['fact'])"
   ]
  },
  {
   "cell_type": "markdown",
   "metadata": {},
   "source": [
    "3.\n",
    "Получите данные о фактической погоде и сконвертируйте их обратно в JSON.\n",
    "Обработайте текстовое содержание ответа response.text методом json.loads() и сохраните результат в переменной response_parsed. Получите данные по ключу 'fact', и сохраните их в переменной fact_weather. Передайте эту переменную методу json.dumps() в аргументе функции print()."
   ]
  },
  {
   "cell_type": "code",
   "execution_count": 37,
   "metadata": {},
   "outputs": [
    {
     "name": "stdout",
     "output_type": "stream",
     "text": [
      "{\"temp\": 28, \"feels_like\": 28, \"icon\": \"bkn_d\", \"condition\": \"cloudy\", \"wind_speed\": 1, \"wind_gust\": 6.9, \"wind_dir\": \"w\", \"pressure_mm\": 752, \"pressure_pa\": 1003, \"humidity\": 39, \"uv_index\": 2, \"soil_temp\": 24, \"soil_moisture\": 0.36, \"daytime\": \"d\", \"polar\": false, \"season\": \"summer\", \"obs_time\": 1566306726, \"accum_prec\": {\"1\": 0, \"3\": 0, \"7\": 0}, \"source\": \"station\", \"_mode\": \"nearest(16:tp)\"}\n"
     ]
    }
   ],
   "source": [
    "fact_weather = response_parsed['fact']\n",
    "print(json.dumps(fact_weather))"
   ]
  },
  {
   "cell_type": "markdown",
   "metadata": {},
   "source": [
    "# SQL как инструмент работы с данными"
   ]
  },
  {
   "cell_type": "markdown",
   "metadata": {},
   "source": [
    "**Ваш первый SQL-запрос**  \n",
    "1.\n",
    "Выберите столбцы id_product, name, category, name_store из таблицы products_data_all.  \n",
    "<pre><code>\n",
    "SELECT  \n",
    "    id_product,  \n",
    "    name,    \n",
    "    category,  \n",
    "    name_store  \n",
    "FROM  \n",
    "    products_data_all; \n",
    "</code></pre>\n",
    "2.\n",
    "Выберите все столбцы таблицы products_data_all.  \n",
    "<pre><code>\n",
    "SELECT\n",
    "    *\n",
    "FROM\n",
    "    products_data_all;\n",
    "</code></pre>\n",
    "3.\n",
    "Покупатели обменивают чеки на бонусы при будущих покупках. Информацию из чеков собрали в таблице transactions (англ. «транзакции, сделки»). Выберите все столбцы таблицы в базе и изучите их.  \n",
    "<pre><code>\n",
    "SELECT\n",
    "   *\n",
    "FROM\n",
    "   transactions;\n",
    "</code></pre>\n",
    "4.\n",
    "Данные о погоде, которые вы добыли через API Погоды, тоже есть в базе. Убедитесь в этом — напишите запрос на выборку всех данных из таблицы weather.  \n",
    "<pre><code>\n",
    "SELECT\n",
    "   *\n",
    "FROM\n",
    "    weather;\n",
    "</code></pre>"
   ]
  },
  {
   "cell_type": "markdown",
   "metadata": {},
   "source": [
    "# Срезы данных в SQL\n",
    "\n",
    "1.\n",
    "Изучите товары и продажи магазинов в этот день. В таблице products_data_all информация о ежедневном обновлении каталога товаров.\n",
    "Напишите запрос к таблице и выберите следующие поля:\n",
    "Название продукта (name)\n",
    "Цена (price)\n",
    "Название магазина (name_store)\n",
    "Дата (date_upd)\n",
    "Сделайте срез по категории (category) и дате (date_upd). Вам нужна категория 'молоко и сливки' и Всемирный день молока: '2019-06-01'. \n",
    "\n",
    "<pre><code>\n",
    "SELECT\n",
    "    *\n",
    "FROM\n",
    "    products_data_all;\n",
    "</code></pre>\n",
    "\n",
    "2.\n",
    "Выгрузите поля name, price, name_store, date_upd категории 'молоко и сливки' за четыре оставшиеся субботы июня: 8, 15, 22 и 29 числа.  \n",
    "<pre><code>\n",
    "SELECT\n",
    "    *\n",
    "FROM\n",
    "    products_data_all;\n",
    "</code></pre>\n",
    "\n",
    "3.\n",
    "Помогите проверить гипотезу: «В международный день молока покупают больше молока и сливок». Вам понадобится выборка из таблицы transactions (англ. «транзакции»). Выгрузите все данные о покупках молока и сливок за 1 июня 2019 года.\n",
    "Обратите внимание, что в таблице transactions в поле date зафиксированы часы, минуты и секунды. Напишите ограничение, которое позволит выбрать покупки, совершённые в период от 1 июня (включительно) по 2 июня (не включая).\n",
    "В таблице transactions нет информации о категории товара. Однако мы подготовили для вас список c уникальными идентификаторами (id_product) товаров категории «молоко и сливки».  \n",
    "<pre><code>\n",
    "SELECT\n",
    "    *\n",
    "FROM\n",
    "    products_data_all;\n",
    "</code></pre>"
   ]
  },
  {
   "cell_type": "code",
   "execution_count": null,
   "metadata": {},
   "outputs": [],
   "source": []
  }
 ],
 "metadata": {
  "kernelspec": {
   "display_name": "Python 3",
   "language": "python",
   "name": "python3"
  },
  "language_info": {
   "codemirror_mode": {
    "name": "ipython",
    "version": 3
   },
   "file_extension": ".py",
   "mimetype": "text/x-python",
   "name": "python",
   "nbconvert_exporter": "python",
   "pygments_lexer": "ipython3",
   "version": "3.7.3"
  }
 },
 "nbformat": 4,
 "nbformat_minor": 4
}
