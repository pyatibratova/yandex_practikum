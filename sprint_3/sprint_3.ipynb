{
 "cells": [
  {
   "cell_type": "markdown",
   "metadata": {},
   "source": [
    " # Предобработка данных¶"
   ]
  },
  {
   "cell_type": "markdown",
   "metadata": {},
   "source": [
    "Рассчитайте конверсию визитов в покупки из рассылок и контекстной рекламы, \n",
    "сохраните значения в переменных email_conversion и context_conversion соответственно."
   ]
  },
  {
   "cell_type": "code",
   "execution_count": 103,
   "metadata": {},
   "outputs": [
    {
     "name": "stdout",
     "output_type": "stream",
     "text": [
      "Конверсия рассылок: 5%\n",
      "Конверсия контекстной рекламы: 4%\n"
     ]
    }
   ],
   "source": [
    "email_visits = 1000 # количество визитов из рассылок\n",
    "context_visits = 2500 # количество визитов из контекстной рекламы\n",
    "email_purchases = 50 # количество покупок из рассылок\n",
    "context_purchases = 100 # количество покупок из контекстной рекламы\n",
    "\n",
    "email_conversion = email_purchases/email_visits\n",
    "context_conversion = context_purchases/context_visits\n",
    "print('Конверсия рассылок: {:.0%}'.format(email_conversion)) \n",
    "print('Конверсия контекстной рекламы: {:.0%}'.format(context_conversion))"
   ]
  },
  {
   "cell_type": "markdown",
   "metadata": {},
   "source": [
    "Продолжим автоматизировать труд маркетологов: научим Python сравнивать источники трафика и выбирать лучший. \n",
    "Если конверсия рассылок email_conversion больше конверсии контекстной рекламы context_conversion, выведите на экран: 'Вывод: рассылки эффективнее'. \n",
    "Если наоборот, то: 'Вывод: контекстная реклама эффективнее'."
   ]
  },
  {
   "cell_type": "code",
   "execution_count": 104,
   "metadata": {},
   "outputs": [
    {
     "name": "stdout",
     "output_type": "stream",
     "text": [
      "Вывод: рассылки эффективнее\n"
     ]
    }
   ],
   "source": [
    "if email_conversion > context_conversion:\n",
    "    print('Вывод: рассылки эффективнее')\n",
    "else:\n",
    "    print('Вывод: контекстная реклама эффективнее')"
   ]
  },
  {
   "cell_type": "markdown",
   "metadata": {},
   "source": [
    "Вы уже умеете находить конверсию. Рассчитайте другую важную для бизнеса метрику — долю повторных покупателей.\n",
    "В переменной total посчитайте общее количество покупателей: сложите число пользователей, совершивших одну покупку, с числом тех, кто совершил две и более."
   ]
  },
  {
   "cell_type": "code",
   "execution_count": 105,
   "metadata": {},
   "outputs": [
    {
     "name": "stdout",
     "output_type": "stream",
     "text": [
      "Общее количество покупателей: 1021\n"
     ]
    }
   ],
   "source": [
    "first_purchase = 885 # количество пользователей, совершивших 1 покупку\n",
    "repeated_purchase = 136 # количество пользователей, совершивших 2 и более покупок\n",
    "total = first_purchase + repeated_purchase\n",
    "print('Общее количество покупателей: {}'.format(total))"
   ]
  },
  {
   "cell_type": "markdown",
   "metadata": {},
   "source": [
    "Посчитайте долю повторных покупок как отношение repeated_purchase к total.\n",
    "Ответ положите в переменную repeated_purchase_part.\n",
    "Результат выведите на экран так: 'Доля повторных покупок равна ...%'.\n",
    "Процент отобразите в виде целого числа — с точностью ноль знаков после запятой."
   ]
  },
  {
   "cell_type": "code",
   "execution_count": 106,
   "metadata": {},
   "outputs": [
    {
     "name": "stdout",
     "output_type": "stream",
     "text": [
      "Доля повторных покупок равна 13%\n"
     ]
    }
   ],
   "source": [
    "repeated_purchase_part = repeated_purchase/total\n",
    "print('Доля повторных покупок равна {:.0%}'.format(repeated_purchase_part))"
   ]
  },
  {
   "cell_type": "markdown",
   "metadata": {},
   "source": [
    "Вам прислали таблицу со статистикой первичных и повторных покупок по источникам трафика.\n",
    "Прочитайте содержимое файла returned.csv и сохраните его в датафрейме purchases. \n",
    "Посчитайте общее число покупок для каждого источника трафика. \n",
    "Результат запишите в столбец 'total'. \n",
    "Выведите весь датафрейм на экран.\n",
    "Путь к файлу: /datasets/returned.csv"
   ]
  },
  {
   "cell_type": "code",
   "execution_count": 107,
   "metadata": {},
   "outputs": [
    {
     "data": {
      "text/html": [
       "<div>\n",
       "<style scoped>\n",
       "    .dataframe tbody tr th:only-of-type {\n",
       "        vertical-align: middle;\n",
       "    }\n",
       "\n",
       "    .dataframe tbody tr th {\n",
       "        vertical-align: top;\n",
       "    }\n",
       "\n",
       "    .dataframe thead th {\n",
       "        text-align: right;\n",
       "    }\n",
       "</style>\n",
       "<table border=\"1\" class=\"dataframe\">\n",
       "  <thead>\n",
       "    <tr style=\"text-align: right;\">\n",
       "      <th></th>\n",
       "      <th>source</th>\n",
       "      <th>first</th>\n",
       "      <th>repeated</th>\n",
       "      <th>total</th>\n",
       "    </tr>\n",
       "  </thead>\n",
       "  <tbody>\n",
       "    <tr>\n",
       "      <th>0</th>\n",
       "      <td>context</td>\n",
       "      <td>2933</td>\n",
       "      <td>96</td>\n",
       "      <td>3029</td>\n",
       "    </tr>\n",
       "    <tr>\n",
       "      <th>1</th>\n",
       "      <td>email</td>\n",
       "      <td>885</td>\n",
       "      <td>136</td>\n",
       "      <td>1021</td>\n",
       "    </tr>\n",
       "    <tr>\n",
       "      <th>2</th>\n",
       "      <td>smm</td>\n",
       "      <td>1653</td>\n",
       "      <td>139</td>\n",
       "      <td>1792</td>\n",
       "    </tr>\n",
       "  </tbody>\n",
       "</table>\n",
       "</div>"
      ],
      "text/plain": [
       "    source  first  repeated  total\n",
       "0  context   2933        96   3029\n",
       "1    email    885       136   1021\n",
       "2      smm   1653       139   1792"
      ]
     },
     "execution_count": 107,
     "metadata": {},
     "output_type": "execute_result"
    }
   ],
   "source": [
    "import pandas as pd\n",
    "purchases = pd.read_csv('returned.csv')\n",
    "purchases['total'] = purchases['first'] + purchases['repeated'] \n",
    "purchases"
   ]
  },
  {
   "cell_type": "markdown",
   "metadata": {},
   "source": [
    "Для каждого источника трафика посчитайте долю повторных покупок — отношение количества повторных ко всем покупкам. \n",
    "Выведите весь датафрейм на экран."
   ]
  },
  {
   "cell_type": "code",
   "execution_count": 108,
   "metadata": {},
   "outputs": [
    {
     "data": {
      "text/html": [
       "<div>\n",
       "<style scoped>\n",
       "    .dataframe tbody tr th:only-of-type {\n",
       "        vertical-align: middle;\n",
       "    }\n",
       "\n",
       "    .dataframe tbody tr th {\n",
       "        vertical-align: top;\n",
       "    }\n",
       "\n",
       "    .dataframe thead th {\n",
       "        text-align: right;\n",
       "    }\n",
       "</style>\n",
       "<table border=\"1\" class=\"dataframe\">\n",
       "  <thead>\n",
       "    <tr style=\"text-align: right;\">\n",
       "      <th></th>\n",
       "      <th>source</th>\n",
       "      <th>first</th>\n",
       "      <th>repeated</th>\n",
       "      <th>total</th>\n",
       "      <th>repeated_share</th>\n",
       "    </tr>\n",
       "  </thead>\n",
       "  <tbody>\n",
       "    <tr>\n",
       "      <th>0</th>\n",
       "      <td>context</td>\n",
       "      <td>2933</td>\n",
       "      <td>96</td>\n",
       "      <td>3029</td>\n",
       "      <td>0.031694</td>\n",
       "    </tr>\n",
       "    <tr>\n",
       "      <th>1</th>\n",
       "      <td>email</td>\n",
       "      <td>885</td>\n",
       "      <td>136</td>\n",
       "      <td>1021</td>\n",
       "      <td>0.133203</td>\n",
       "    </tr>\n",
       "    <tr>\n",
       "      <th>2</th>\n",
       "      <td>smm</td>\n",
       "      <td>1653</td>\n",
       "      <td>139</td>\n",
       "      <td>1792</td>\n",
       "      <td>0.077567</td>\n",
       "    </tr>\n",
       "  </tbody>\n",
       "</table>\n",
       "</div>"
      ],
      "text/plain": [
       "    source  first  repeated  total  repeated_share\n",
       "0  context   2933        96   3029        0.031694\n",
       "1    email    885       136   1021        0.133203\n",
       "2      smm   1653       139   1792        0.077567"
      ]
     },
     "execution_count": 108,
     "metadata": {},
     "output_type": "execute_result"
    }
   ],
   "source": [
    "purchases['repeated_share'] = purchases['repeated']/purchases['total'] \n",
    "purchases"
   ]
  },
  {
   "cell_type": "markdown",
   "metadata": {},
   "source": [
    "Постройте рейтинг источников трафика по доле повторных покупок.\n",
    "Отсортируйте датафрейм purchases по убыванию значений столбца 'repeated_share'. \n",
    "Выражение напишите в скобках функции print(), чтобы вывести результат на экран."
   ]
  },
  {
   "cell_type": "code",
   "execution_count": 109,
   "metadata": {},
   "outputs": [
    {
     "data": {
      "text/html": [
       "<div>\n",
       "<style scoped>\n",
       "    .dataframe tbody tr th:only-of-type {\n",
       "        vertical-align: middle;\n",
       "    }\n",
       "\n",
       "    .dataframe tbody tr th {\n",
       "        vertical-align: top;\n",
       "    }\n",
       "\n",
       "    .dataframe thead th {\n",
       "        text-align: right;\n",
       "    }\n",
       "</style>\n",
       "<table border=\"1\" class=\"dataframe\">\n",
       "  <thead>\n",
       "    <tr style=\"text-align: right;\">\n",
       "      <th></th>\n",
       "      <th>source</th>\n",
       "      <th>first</th>\n",
       "      <th>repeated</th>\n",
       "      <th>total</th>\n",
       "      <th>repeated_share</th>\n",
       "    </tr>\n",
       "  </thead>\n",
       "  <tbody>\n",
       "    <tr>\n",
       "      <th>1</th>\n",
       "      <td>email</td>\n",
       "      <td>885</td>\n",
       "      <td>136</td>\n",
       "      <td>1021</td>\n",
       "      <td>0.133203</td>\n",
       "    </tr>\n",
       "    <tr>\n",
       "      <th>2</th>\n",
       "      <td>smm</td>\n",
       "      <td>1653</td>\n",
       "      <td>139</td>\n",
       "      <td>1792</td>\n",
       "      <td>0.077567</td>\n",
       "    </tr>\n",
       "    <tr>\n",
       "      <th>0</th>\n",
       "      <td>context</td>\n",
       "      <td>2933</td>\n",
       "      <td>96</td>\n",
       "      <td>3029</td>\n",
       "      <td>0.031694</td>\n",
       "    </tr>\n",
       "  </tbody>\n",
       "</table>\n",
       "</div>"
      ],
      "text/plain": [
       "    source  first  repeated  total  repeated_share\n",
       "1    email    885       136   1021        0.133203\n",
       "2      smm   1653       139   1792        0.077567\n",
       "0  context   2933        96   3029        0.031694"
      ]
     },
     "execution_count": 109,
     "metadata": {},
     "output_type": "execute_result"
    }
   ],
   "source": [
    "purchases = purchases.sort_values('repeated_share', ascending=False)\n",
    "purchases"
   ]
  },
  {
   "cell_type": "markdown",
   "metadata": {},
   "source": [
    "# User ID и куки\n",
    "Куки содержат не только user ID пользователя, но и другую информацию. Например, языковые предпочтения, логин и пароль, посещённые разделы. Это улучшает опыт взаимодействия с сайтами: стриминговые платформы предлагают возобновить просмотр фильма с того момента, где вы остановились в прошлый раз, онлайн-переводчик запоминает целевой язык перевода, а соцсети не требуют заново логиниться при каждом посещении."
   ]
  },
  {
   "cell_type": "markdown",
   "metadata": {},
   "source": [
    "# Задание\n",
    "\n",
    "Взгляните на присланную разработчиками таблицу. \n",
    "Она называется logs, так как в ней отражены логи — данные о посещениях сайта.\n",
    "В таблице четыре столбца:\n",
    "user_id — идентификатор пользователя;\n",
    "email подписчика рассылки;\n",
    "source;\n",
    "purchase, факт покупки: со значением 1, если покупка состоялась, 0 — не состоялась.\n",
    "Каждая строчка в таблице соответствует визиту на сайт. User ID, источник трафика и факт покупки можно получить из Яндекс.\n",
    "Метрики, а адреса электронной почты — из базы тех, кто подписался на email-рассылку.\n",
    "Когда к набору полученных определённым образом данных добавляют информацию из другого источника, это называется обогащение данных.\n",
    "Прочтите содержимое файла logs.csv и сохраните его в датафрейме logs. Ознакомьтесь с данными, вызвав метод head().\n",
    "Путь к файлу: /datasets/logs.csv"
   ]
  },
  {
   "cell_type": "code",
   "execution_count": 110,
   "metadata": {},
   "outputs": [
    {
     "data": {
      "text/html": [
       "<div>\n",
       "<style scoped>\n",
       "    .dataframe tbody tr th:only-of-type {\n",
       "        vertical-align: middle;\n",
       "    }\n",
       "\n",
       "    .dataframe tbody tr th {\n",
       "        vertical-align: top;\n",
       "    }\n",
       "\n",
       "    .dataframe thead th {\n",
       "        text-align: right;\n",
       "    }\n",
       "</style>\n",
       "<table border=\"1\" class=\"dataframe\">\n",
       "  <thead>\n",
       "    <tr style=\"text-align: right;\">\n",
       "      <th></th>\n",
       "      <th>user_id</th>\n",
       "      <th>source</th>\n",
       "      <th>email</th>\n",
       "      <th>purchase</th>\n",
       "    </tr>\n",
       "  </thead>\n",
       "  <tbody>\n",
       "    <tr>\n",
       "      <th>0</th>\n",
       "      <td>7141786820</td>\n",
       "      <td>other</td>\n",
       "      <td>NaN</td>\n",
       "      <td>0</td>\n",
       "    </tr>\n",
       "    <tr>\n",
       "      <th>1</th>\n",
       "      <td>5644686960</td>\n",
       "      <td>email</td>\n",
       "      <td>c129aa540a</td>\n",
       "      <td>0</td>\n",
       "    </tr>\n",
       "    <tr>\n",
       "      <th>2</th>\n",
       "      <td>1914055396</td>\n",
       "      <td>context</td>\n",
       "      <td>NaN</td>\n",
       "      <td>0</td>\n",
       "    </tr>\n",
       "    <tr>\n",
       "      <th>3</th>\n",
       "      <td>4099355752</td>\n",
       "      <td>other</td>\n",
       "      <td>NaN</td>\n",
       "      <td>0</td>\n",
       "    </tr>\n",
       "    <tr>\n",
       "      <th>4</th>\n",
       "      <td>6032477554</td>\n",
       "      <td>context</td>\n",
       "      <td>NaN</td>\n",
       "      <td>1</td>\n",
       "    </tr>\n",
       "  </tbody>\n",
       "</table>\n",
       "</div>"
      ],
      "text/plain": [
       "      user_id   source       email  purchase\n",
       "0  7141786820    other         NaN         0\n",
       "1  5644686960    email  c129aa540a         0\n",
       "2  1914055396  context         NaN         0\n",
       "3  4099355752    other         NaN         0\n",
       "4  6032477554  context         NaN         1"
      ]
     },
     "execution_count": 110,
     "metadata": {},
     "output_type": "execute_result"
    }
   ],
   "source": [
    "logs = pd.read_csv('logs.csv')\n",
    "logs.head()"
   ]
  },
  {
   "cell_type": "markdown",
   "metadata": {},
   "source": [
    "Оцените объём данных в таблице logs."
   ]
  },
  {
   "cell_type": "code",
   "execution_count": 111,
   "metadata": {},
   "outputs": [
    {
     "name": "stdout",
     "output_type": "stream",
     "text": [
      "<class 'pandas.core.frame.DataFrame'>\n",
      "RangeIndex: 200000 entries, 0 to 199999\n",
      "Data columns (total 4 columns):\n",
      " #   Column    Non-Null Count   Dtype \n",
      "---  ------    --------------   ----- \n",
      " 0   user_id   200000 non-null  int64 \n",
      " 1   source    200000 non-null  object\n",
      " 2   email     13953 non-null   object\n",
      " 3   purchase  200000 non-null  int64 \n",
      "dtypes: int64(2), object(2)\n",
      "memory usage: 6.1+ MB\n"
     ]
    }
   ],
   "source": [
    "logs.info()"
   ]
  },
  {
   "cell_type": "markdown",
   "metadata": {},
   "source": [
    "Посчитайте количество уникальных email и уникальных User ID в таблице logs"
   ]
  },
  {
   "cell_type": "code",
   "execution_count": 112,
   "metadata": {},
   "outputs": [
    {
     "name": "stdout",
     "output_type": "stream",
     "text": [
      "Уникальных email: 6063\n",
      "Уникальных User ID: 86571\n"
     ]
    }
   ],
   "source": [
    "unique_emails = logs['email'].unique()\n",
    "unique_user_id = logs['user_id'].unique()\n",
    "\n",
    "print('Уникальных email:', len(unique_emails))\n",
    "print('Уникальных User ID:',len(unique_user_id))"
   ]
  },
  {
   "cell_type": "markdown",
   "metadata": {},
   "source": [
    "Методом unique() определите, какие уникальные источники трафика есть в таблице. Результат выведите на экран."
   ]
  },
  {
   "cell_type": "code",
   "execution_count": 113,
   "metadata": {},
   "outputs": [
    {
     "name": "stdout",
     "output_type": "stream",
     "text": [
      "['other' 'email' 'context' 'None' 'undef']\n"
     ]
    }
   ],
   "source": [
    "source = logs['source'].unique()\n",
    "print(source)"
   ]
  },
  {
   "cell_type": "markdown",
   "metadata": {},
   "source": [
    "# Вы обнаружили NaN и None\n",
    "Методом isnull() найдём все строки с пропусками в столбце \n",
    "print(logs[logs['email'].isnull()].head())\n",
    "\n",
    "Чтобы сосчитать строки без email-адресов, вызовем метод count():\n",
    "print(logs[logs['email'].isnull()].count()) "
   ]
  },
  {
   "cell_type": "markdown",
   "metadata": {},
   "source": [
    "1.\n",
    "Восстановите справедливость: верните Рону его факультет, заменив значение NaN на 'Гриффиндор' методом fillna(). Выведите на экран таблицу hogwarts_points."
   ]
  },
  {
   "cell_type": "code",
   "execution_count": 114,
   "metadata": {},
   "outputs": [
    {
     "name": "stdout",
     "output_type": "stream",
     "text": [
      "  faculty_name      student_name  points\n",
      "0   Гриффиндор      Гарри Поттер      15\n",
      "1     Слизерин      Драко Малфой      28\n",
      "2    Когтевран    Полумна Лавгуд      10\n",
      "3   Гриффиндор         Рон Уизли       5\n",
      "4    Пуффендуй    Седрик Диггори      17\n",
      "5   Гриффиндор  Невилл Долгопупс      12\n"
     ]
    }
   ],
   "source": [
    "import pandas as pd\n",
    "hogwarts_points = pd.read_csv('hogwarts_points.csv')\n",
    "hogwarts_points['faculty_name'] = hogwarts_points['faculty_name'].fillna('Гриффиндор')\n",
    "print(hogwarts_points)"
   ]
  },
  {
   "cell_type": "markdown",
   "metadata": {},
   "source": [
    "2.\n",
    "Измените код, чтобы результат приобрёл такой вид:\n",
    "Сумма баллов учеников: # сумма значений столбца 'points'\n",
    "Сумма баллов факультетов: # сумма баллов при группировке по факультетам\n",
    "Кубок получает # название факультета"
   ]
  },
  {
   "cell_type": "code",
   "execution_count": 115,
   "metadata": {},
   "outputs": [
    {
     "name": "stdout",
     "output_type": "stream",
     "text": [
      "Сумма баллов учеников: 87\n",
      "Сумма баллов факультетов: 87\n",
      "Кубок получает Гриффиндор\n"
     ]
    }
   ],
   "source": [
    "print('Сумма баллов учеников:', hogwarts_points['points'].sum())\n",
    "hogwarts_points_sum = hogwarts_points.groupby('faculty_name')['points'].sum()\n",
    "print('Сумма баллов факультетов:', hogwarts_points_sum.sum())\n",
    "print('Кубок получает', hogwarts_points_sum.idxmax())"
   ]
  },
  {
   "cell_type": "markdown",
   "metadata": {},
   "source": [
    "\n",
    "3. Применим полученные в Хогвартсе знания к реальной задаче. Возьмём источники трафика Яндекс.Маркета и рассчитаем конверсию.\n",
    "Найдите количество визитов из каждого источника трафика, результат сохраните в переменной visits и выведите на экран."
   ]
  },
  {
   "cell_type": "code",
   "execution_count": 116,
   "metadata": {},
   "outputs": [
    {
     "name": "stdout",
     "output_type": "stream",
     "text": [
      "other      133834\n",
      "context     52032\n",
      "email       12279\n",
      "None         1674\n",
      "undef         181\n",
      "Name: source, dtype: int64\n"
     ]
    }
   ],
   "source": [
    "logs = pd.read_csv('logs.csv')\n",
    "visits = logs.source.value_counts()\n",
    "print(visits)"
   ]
  },
  {
   "cell_type": "markdown",
   "metadata": {},
   "source": [
    "4.\n",
    "Посчитайте количество совершённых покупок для каждого источника трафика. \n",
    "Результат сохраните в переменной purchase и выведите на экран."
   ]
  },
  {
   "cell_type": "code",
   "execution_count": 117,
   "metadata": {},
   "outputs": [
    {
     "name": "stdout",
     "output_type": "stream",
     "text": [
      "source\n",
      "None        108\n",
      "context    3029\n",
      "email       913\n",
      "other      8041\n",
      "undef        12\n",
      "Name: purchase, dtype: int64\n"
     ]
    }
   ],
   "source": [
    "purchase = logs.groupby('source')['purchase'].sum()\n",
    "print(purchase)"
   ]
  },
  {
   "cell_type": "markdown",
   "metadata": {},
   "source": [
    "5.\n",
    "Посчитайте конверсию по каждому источнику трафика, результат сохраните в переменной conversion и выведите на экран."
   ]
  },
  {
   "cell_type": "code",
   "execution_count": 118,
   "metadata": {},
   "outputs": [
    {
     "name": "stdout",
     "output_type": "stream",
     "text": [
      "source\n",
      "None       0.064516\n",
      "context    0.058214\n",
      "email      0.074355\n",
      "other      0.060082\n",
      "undef      0.066298\n",
      "dtype: float64\n"
     ]
    }
   ],
   "source": [
    "visits = logs.groupby('source')['user_id'].count() # количество визитов\n",
    "purchase = logs.groupby('source')['purchase'].sum() # количество покупок\n",
    "\n",
    "conversion = purchase/visits# поделите количество покупок на количество визитов\n",
    "print(conversion)"
   ]
  },
  {
   "cell_type": "markdown",
   "metadata": {},
   "source": [
    "# Категориальные и количественные переменные"
   ]
  },
  {
   "cell_type": "markdown",
   "metadata": {},
   "source": [
    "Способ работы с пропущенными значениями зависит от их типа. В датафрейме pandas столбцы могут содержать категориальные или количественные данные. Они соотносятся с типами переменных в статистике. Категориальная принимает одно значение из ограниченного набора, а количественная — любое числовое значение в диапазоне.\n",
    "Категориальная переменная в Яндекс.Такси — это тариф: «Эконом», «Комфорт», «Комфорт+», «Бизнес», «Премиум», «Ультима», «Бизнес XL», «Минивэн» или «Детский». Количество тарифов ограничено, и клиенты выбирают один из них. Категориальная переменная может принимать и числовые значения: если вместо «Эконома» будет стоять цифра 1, а вместо «Комфорта» — 2, переменная всё равно останется категориальной.\n",
    "А стоимость поездки будет количественной переменной. На определённом расстоянии она может принимать любое значение в диапазоне, допустим, от 200 до 600 рублей. Бывает и 250, и 300, и 428: зависит от спроса и наличия машин.\n",
    "Важное свойство количественных переменных — возможность сравнения. Поездка за 420 рублей на 120 рублей дороже, чем поездка за 300 рублей. Категориальные переменные так не сравнить: если каждому тарифу присвоить номер от 1 до 9, нельзя сказать, что «Комфорт» больше «Эконома» на единицу.\n",
    "В интернет-магазине категориальной переменной будет товар, количественной — его цена. Ещё есть логические (булевы) переменные: они указывают на истинность или ложность какого-либо события. Если событие истинно, то переменная принимает значение 1, соответствующее True, а если ложно — 0, соответствующий False. Участие клиента в программе лояльности — это логическая переменная"
   ]
  },
  {
   "cell_type": "markdown",
   "metadata": {},
   "source": [
    "# Задание"
   ]
  },
  {
   "cell_type": "markdown",
   "metadata": {},
   "source": [
    "1.\n",
    "Выведите на экран первые пять строк таблицы logs. Определите, какой столбец соответствует логической переменной, и выведите его название на экран."
   ]
  },
  {
   "cell_type": "code",
   "execution_count": 119,
   "metadata": {},
   "outputs": [
    {
     "name": "stdout",
     "output_type": "stream",
     "text": [
      "      user_id   source       email  purchase\n",
      "0  7141786820    other         NaN         0\n",
      "1  5644686960    email  c129aa540a         0\n",
      "2  1914055396  context         NaN         0\n",
      "3  4099355752    other         NaN         0\n",
      "4  6032477554  context         NaN         1\n",
      "purchase\n"
     ]
    }
   ],
   "source": [
    "print(logs.head(5))\n",
    "print('purchase')"
   ]
  },
  {
   "cell_type": "markdown",
   "metadata": {},
   "source": [
    "2. Перед вами список переменных из набора данных Яндекс.Маркета. Выведите на экран названия категориальных переменных."
   ]
  },
  {
   "cell_type": "code",
   "execution_count": 120,
   "metadata": {},
   "outputs": [
    {
     "name": "stdout",
     "output_type": "stream",
     "text": [
      "name manufacturer category color reseller\n"
     ]
    }
   ],
   "source": [
    "variables = [\n",
    "    \"name\",  # название товара\n",
    "    \"num_reviews\",  # количество отзывов\n",
    "    \"manufacturer\",  # производитель\n",
    "    \"medium_price\",  # средняя цена\n",
    "    \"min_price\",  # минимальная цена\n",
    "    \"max_price\",  # максимальная цена\n",
    "    \"category\",  # категория\n",
    "    \"color\",  # цвет\n",
    "    \"reseller\",  # продавец\n",
    "    \"has_discount\",  # есть ли скидки?\n",
    "]\n",
    "print(variables [0], variables [2], variables [6], variables [7], variables [8])"
   ]
  },
  {
   "cell_type": "markdown",
   "metadata": {},
   "source": [
    "3. Сервис бронирования личного жилья для отдыха хранит информацию о хозяевах. Выведите названия количественных переменных."
   ]
  },
  {
   "cell_type": "code",
   "execution_count": 121,
   "metadata": {},
   "outputs": [
    {
     "name": "stdout",
     "output_type": "stream",
     "text": [
      "['accommodates', 'bathroom', 'bedrooms', 'beds', 'price']\n"
     ]
    }
   ],
   "source": [
    "variables = [\n",
    "    \"host_name\",  # имя хозяина жилья\n",
    "    \"city\",  # город\n",
    "    \"zipcode\",  # индекс\n",
    "    \"accommodates\",  # количество гостей\n",
    "    \"bathroom\",  # количество ванных комнат\n",
    "    \"bedrooms\",  # количество спальных комнат\n",
    "    \"beds\",  # количество кроватей\n",
    "    \"price\",  # цена\n",
    "]\n",
    "print(variables[3:])"
   ]
  },
  {
   "cell_type": "markdown",
   "metadata": {},
   "source": [
    "4.\n",
    "Данные новостного сервиса содержат информацию о действиях пользователей. Выведите названия категориальных переменных."
   ]
  },
  {
   "cell_type": "code",
   "execution_count": 122,
   "metadata": {},
   "outputs": [
    {
     "name": "stdout",
     "output_type": "stream",
     "text": [
      "['user_id', 'news_type', 'event', 'tag']\n"
     ]
    }
   ],
   "source": [
    "variables = [\n",
    "    \"user_id\",  # id пользователя\n",
    "    \"news_type\",  # тип новостного сообщения\n",
    "    \"event\",  # вид события: клик, показ\n",
    "    \"tag\",  # тема новостного сообщения\n",
    "]\n",
    "\n",
    "print(variables[:])"
   ]
  },
  {
   "cell_type": "markdown",
   "metadata": {},
   "source": [
    "5.\n",
    "Краудфандинговый сервис хранит информацию о проектах. Выведите названия количественных переменных."
   ]
  },
  {
   "cell_type": "code",
   "execution_count": 123,
   "metadata": {},
   "outputs": [
    {
     "name": "stdout",
     "output_type": "stream",
     "text": [
      "goal pledged backers\n"
     ]
    }
   ],
   "source": [
    "variables = [\n",
    "    \"project_id\",  # id проекта\n",
    "    \"category\",  # категория проекта\n",
    "    \"goal\",  # сколько денег хотят собрать\n",
    "    \"pledged\",  # сколько собрали\n",
    "    \"state\",  # статус проекта\n",
    "    \"backers\",  # количество человек, которые отправили деньги\n",
    "]\n",
    "\n",
    "print(variables[2], variables[3], variables[5])"
   ]
  },
  {
   "cell_type": "markdown",
   "metadata": {},
   "source": [
    "# Работа с пропусками в категориальных переменных"
   ]
  },
  {
   "cell_type": "markdown",
   "metadata": {},
   "source": [
    "Пропуски бывают трёх типов:\n",
    "- Полностью случайные: если вероятность встретить пропуск не зависит ни от каких других значений. \n",
    "Таков пропуск пола Сансы Старк. Ответ на этот вопрос не зависит от характера самого вопроса и от других вопросов анкеты, \n",
    "а сам пропуск легко восстановить по имени.\n",
    "- Случайные: если вероятность пропуска зависит от других значений в наборе данных, \n",
    "    но не от значений собственного столбца. Случайным пропуском будет пропуск рода Джона Сноу. \n",
    "    Пропущенное значение связано с тем, что рода Сноу не существует.\n",
    "- Неслучайные: если вероятность пропуска зависит от других значений, в том числе и от значений собственного столбца.\n",
    "    Это пропуск в политических намерениях Брана Старка: он не указал их нарочно, ведь умеет предвидеть будущее и не собирается сообщать о своих планах. Отсутствующее значение зависит как от характера вопроса, так и от особенности самого Брана Старка, то есть, значения переменной в другом столбце.\n",
    "    \n",
    "game_survey['family'] = game_survey['family'].fillna(value='')\n",
    "\n",
    "Иногда пропуски в категориальных столбцах могут принимать не стандартное значение None без определённого типа (NoneType), а значение типа String: например, 'None' , '-' , 'Null'. В таких случаях метод fillna() не подойдёт — он работает только со значениями NaN или None. Для замены строковых значений вызывают метод loc, он осуществляет логическую индексацию — выбор значений по заданному условию. Логическая индексация позволяет найти в столбце значения 'None' или другие значения типа String и заменить их.\n",
    "\n",
    "game_survey.loc[game_survey['gender'] == 'None', 'gender'] = 'женский'\n"
   ]
  },
  {
   "cell_type": "markdown",
   "metadata": {},
   "source": [
    "# Работа с пропусками в категориальных переменных"
   ]
  },
  {
   "cell_type": "markdown",
   "metadata": {},
   "source": [
    "\n",
    "1. В столбце email встречаются значения NaN — вместо электронных почт пользователей, не подписавшихся на рассылку магазина. Их электронный адрес вы вряд ли узнаете, и не сможете заполнить пропуски вручную. Да и самих NaN слишком много для ручной замены.\n",
    "Тем не менее, избавиться от значений NaN можно, если заменить их единым значением. Например, пустой строкой. Так изучать таблицу будет проще: не нужно будет различать NaN и email-адрес.\n",
    "Замените пропуски пустыми строками, используя знакомый метод fillna(). После этого преобразования выведите на экран первые 5 строк датафрейма."
   ]
  },
  {
   "cell_type": "code",
   "execution_count": 124,
   "metadata": {},
   "outputs": [
    {
     "name": "stdout",
     "output_type": "stream",
     "text": [
      "      user_id   source       email  purchase\n",
      "0  7141786820    other                     0\n",
      "1  5644686960    email  c129aa540a         0\n",
      "2  1914055396  context                     0\n",
      "3  4099355752    other                     0\n",
      "4  6032477554  context                     1\n"
     ]
    }
   ],
   "source": [
    "logs['email'] = logs['email'].fillna(value='')\n",
    "print(logs.head(5))"
   ]
  },
  {
   "cell_type": "markdown",
   "metadata": {},
   "source": [
    "2.\n",
    "Пропуски в столбце source записаны в строковом формате — 'None' вместо None. Выясните, случайно ли их возникновение: проверьте, имеет ли каждая строка с источником 'None' определённый email.\n",
    "Для этого примените к датафрейму logs два фильтра:\n",
    "Источник source равен 'None';\n",
    "Значение столбца email равно пустой строке ''\n",
    "Выведите датафрейм после применения такого фильтра."
   ]
  },
  {
   "cell_type": "code",
   "execution_count": 125,
   "metadata": {},
   "outputs": [
    {
     "name": "stdout",
     "output_type": "stream",
     "text": [
      "Empty DataFrame\n",
      "Columns: [user_id, source, email, purchase]\n",
      "Index: []\n"
     ]
    }
   ],
   "source": [
    "logs['email'] = logs['email'].fillna(value='')\n",
    "filter_email = logs['email'] == ''\n",
    "filter_source = logs['source'] == 'None'\n",
    "\n",
    "print(logs.loc[filter_source & filter_email])"
   ]
  },
  {
   "cell_type": "markdown",
   "metadata": {},
   "source": [
    "3. Замените пропуски в строках с пустым значением source на значение 'email'. Проверьте результат методом value_counts()."
   ]
  },
  {
   "cell_type": "code",
   "execution_count": 126,
   "metadata": {},
   "outputs": [
    {
     "name": "stdout",
     "output_type": "stream",
     "text": [
      "other      133834\n",
      "context     52032\n",
      "email       13953\n",
      "undef         181\n",
      "Name: source, dtype: int64\n"
     ]
    }
   ],
   "source": [
    "logs['email'] = logs['email'].fillna(value='')\n",
    "logs.loc[logs['source'] == 'None', 'source'] = 'email' \n",
    "print(logs['source'].value_counts())"
   ]
  },
  {
   "cell_type": "markdown",
   "metadata": {},
   "source": [
    "4. Посчитайте количество визитов и покупок по источнику трафика ('source'). Вызовите метод agg.\n",
    "Сохраните результат в переменной logs_grouped и выведите на экран"
   ]
  },
  {
   "cell_type": "code",
   "execution_count": 127,
   "metadata": {},
   "outputs": [
    {
     "name": "stdout",
     "output_type": "stream",
     "text": [
      "        purchase      \n",
      "           count   sum\n",
      "source                \n",
      "context    52032  3029\n",
      "email      13953  1021\n",
      "other     133834  8041\n",
      "undef        181    12\n"
     ]
    }
   ],
   "source": [
    "logs['email'] = logs['email'].fillna(value='')\n",
    "logs.loc[logs['source'] == 'None', 'source'] = 'email'\n",
    "\n",
    "logs_grouped = logs.groupby('source').agg({'purchase': ['count', 'sum']})\n",
    "print(logs_grouped)"
   ]
  },
  {
   "cell_type": "markdown",
   "metadata": {},
   "source": [
    "5.\n",
    "Посчитайте конверсию визитов в покупки для каждого источника трафика (т. е. отношение столбца sum к count).\n",
    "Сохраните результат в новый столбец logs_grouped['conversion'] и выведите обновлённую таблицу на экран."
   ]
  },
  {
   "cell_type": "code",
   "execution_count": 128,
   "metadata": {},
   "outputs": [
    {
     "name": "stdout",
     "output_type": "stream",
     "text": [
      "        purchase       conversion\n",
      "           count   sum           \n",
      "source                           \n",
      "context    52032  3029   0.058214\n",
      "email      13953  1021   0.073174\n",
      "other     133834  8041   0.060082\n",
      "undef        181    12   0.066298\n"
     ]
    }
   ],
   "source": [
    "logs_grouped['conversion'] = logs_grouped['purchase']['sum'] /logs_grouped['purchase']['count']\n",
    "print(logs_grouped)"
   ]
  },
  {
   "cell_type": "markdown",
   "metadata": {},
   "source": [
    "6.\n",
    "У 'undef' всего 12 покупок. Эта категория на порядки отличается от своих более объёмных конкурентов, и сравнивать их некорректно. Объедините её с одной из «больших» категорий в данных, похожей на 'undef' своей конверсией. Замените значение источника 'undef' на 'other' и посчитайте конверсию в покупки для каждого источника трафика после замены. Выведите logs_grouped на экран."
   ]
  },
  {
   "cell_type": "code",
   "execution_count": 129,
   "metadata": {},
   "outputs": [
    {
     "name": "stdout",
     "output_type": "stream",
     "text": [
      "        purchase       conversion\n",
      "           count   sum           \n",
      "source                           \n",
      "context    52032  3029   0.058214\n",
      "email      13953  1021   0.073174\n",
      "other     134015  8053   0.060090\n"
     ]
    }
   ],
   "source": [
    "logs['email'] = logs['email'].fillna(value='')\n",
    "logs.loc[logs['source'] == 'None', 'source'] = 'email'\n",
    "logs.loc[logs['source'] == 'undef', 'source'] = 'other' \n",
    "logs_grouped = logs.groupby('source').agg({'purchase': ['count', 'sum']})\n",
    "logs_grouped['conversion'] = logs_grouped['purchase']['sum'] / logs_grouped['purchase']['count']\n",
    "print(logs_grouped)"
   ]
  },
  {
   "cell_type": "markdown",
   "metadata": {},
   "source": [
    "# Работа с пропусками в количественных переменных"
   ]
  },
  {
   "cell_type": "markdown",
   "metadata": {},
   "source": [
    "- Время и возраст — количественные переменные. Пропуски в таких переменных заполняют характерными значениями. Это значения, характеризующие состояние выборки, — набора данных, выбранных для проведения исследования. Чтобы примерно оценить типичные значения выборки, годятся среднее арифметическое или медиана.\n",
    "- Среднее арифметическое — это сумма всех значений, поделённая на количество значений.\n",
    "Методом mean() применяют ко всей таблице, к отдельному столбцу или к сгруппированным данным.\n",
    "data = [\n",
    "    ['Гарри Поттер', 173],\n",
    "    ['Гермиона Гренджер', 165],\n",
    "    ['Полумна Лавгуд', 158],\n",
    "    ['Рон Уизли', 173],\n",
    "    ['Седрик Диггори', 185],\n",
    "]\n",
    "\n",
    "magician_stats = pd.DataFrame(data, columns=['student', 'height'])\n",
    "print(magician_stats['height'].mean())\n",
    ">>> 170.8\n",
    "\n",
    "# Медиана\n",
    "Медиана — это такое число в выборке, что ровно половина элементов больше него, а другая половина — меньше.\n",
    "Для нахождения медианы есть специальный метод median(). Как и mean(), его можно применять к таблице, столбцу или сгруппированным данным."
   ]
  },
  {
   "cell_type": "markdown",
   "metadata": {},
   "source": [
    "1.\n",
    "Прочитайте данные из файла metrica_data.csv. Результат сохраните в переменной metrica. Посчитайте средний возраст пользователей и сохраните его в переменной age_avg. Выведите результат на экран.\n",
    "Путь к файлу: /datasets/metrica_data.csv\n"
   ]
  },
  {
   "cell_type": "code",
   "execution_count": 130,
   "metadata": {},
   "outputs": [
    {
     "name": "stdout",
     "output_type": "stream",
     "text": [
      "32.48966336969903\n"
     ]
    }
   ],
   "source": [
    "metrica = pd.read_csv('metrica_data.csv')\n",
    "age_avg = metrica['age'].mean()\n",
    "print(age_avg)"
   ]
  },
  {
   "cell_type": "markdown",
   "metadata": {},
   "source": [
    "\n",
    "2.\n",
    "Замените пропущенные значения в столбце age на средний возраст. Выведите на экран первые 10 строк набора данных.\n"
   ]
  },
  {
   "cell_type": "code",
   "execution_count": 131,
   "metadata": {},
   "outputs": [
    {
     "name": "stdout",
     "output_type": "stream",
     "text": [
      "      user_id device_type        age    time\n",
      "0  7141786820     desktop  33.000000  2127.0\n",
      "1  5644686960      mobile  30.000000    35.0\n",
      "2  1914055396     desktop  25.000000     NaN\n",
      "3  4099355752     desktop  25.000000  2123.0\n",
      "4  6032477554     desktop  27.000000    59.0\n",
      "5  5872473344      mobile  27.000000     NaN\n",
      "6  7977025176      mobile  32.489663     NaN\n",
      "7  3512872755     desktop  40.000000    65.0\n",
      "8  1827368713     desktop  37.000000     NaN\n",
      "9  8688870165     desktop  36.000000  2124.0\n"
     ]
    }
   ],
   "source": [
    "age_avg = metrica['age'].mean()\n",
    "metrica['age'] = metrica['age'].fillna(value=age_avg) \n",
    "print(metrica.head(10))"
   ]
  },
  {
   "cell_type": "markdown",
   "metadata": {},
   "source": [
    "\n",
    "3.\n",
    "Найдите среднее время просмотра сайта и сохраните в переменной time_avg. Выведите результат на экран.\n"
   ]
  },
  {
   "cell_type": "code",
   "execution_count": 132,
   "metadata": {},
   "outputs": [
    {
     "name": "stdout",
     "output_type": "stream",
     "text": [
      "1430.1294506106535\n"
     ]
    }
   ],
   "source": [
    "time_avg = metrica['time'].mean() #запишите среднее время просмотра \n",
    "print(time_avg)"
   ]
  },
  {
   "cell_type": "markdown",
   "metadata": {},
   "source": [
    "4.\n",
    "Можно заменить время на среднее значение. Однако пользователи заходят в интернет то с мобильного устройства, то с компьютера. Учтём этот факт для повышения точности заполнения пропущенных данных о времени на сайте.\n",
    "Выберите строки таблицы с данными о просмотрах с компьютера, т.е. такие, где в столбце 'device_type' указано значение 'desktop'. Сохраните результат в переменной desktop_data и выведите первые 5 строк на экран.\n"
   ]
  },
  {
   "cell_type": "code",
   "execution_count": 133,
   "metadata": {},
   "outputs": [
    {
     "name": "stdout",
     "output_type": "stream",
     "text": [
      "      user_id device_type   age    time\n",
      "0  7141786820     desktop  33.0  2127.0\n",
      "2  1914055396     desktop  25.0     NaN\n",
      "3  4099355752     desktop  25.0  2123.0\n",
      "4  6032477554     desktop  27.0    59.0\n",
      "7  3512872755     desktop  40.0    65.0\n"
     ]
    }
   ],
   "source": [
    "desktop_data = metrica.loc[metrica['device_type']=='desktop']\n",
    "print(desktop_data.head(5))"
   ]
  },
  {
   "cell_type": "markdown",
   "metadata": {},
   "source": [
    "5.\n",
    "Установите, сколько времени в среднем проводят на сайте пользователи настольных компьютеров. Результат сохраните в переменной desktop_data_time_avg. Закомментируйте вывод предыдущего задания и выведите значение desktop_data_time_avg на экран.\n"
   ]
  },
  {
   "cell_type": "code",
   "execution_count": 134,
   "metadata": {},
   "outputs": [
    {
     "name": "stdout",
     "output_type": "stream",
     "text": [
      "1741.8747158537378\n"
     ]
    }
   ],
   "source": [
    "desktop_data_time_avg = desktop_data['time'].mean()\n",
    "print(desktop_data_time_avg)"
   ]
  },
  {
   "cell_type": "markdown",
   "metadata": {},
   "source": [
    "6.\n",
    "Получите таблицу с данными о просмотрах с мобильных платформ. Сохраните результат в переменной mobile_data и выведите первые 5 строк на экран.\n",
    "\n"
   ]
  },
  {
   "cell_type": "code",
   "execution_count": 135,
   "metadata": {},
   "outputs": [
    {
     "name": "stdout",
     "output_type": "stream",
     "text": [
      "       user_id device_type        age  time\n",
      "1   5644686960      mobile  30.000000  35.0\n",
      "5   5872473344      mobile  27.000000   NaN\n",
      "6   7977025176      mobile  32.489663   NaN\n",
      "10  7172802697      mobile  30.000000   NaN\n",
      "14  9312844109      mobile  32.489663  40.0\n"
     ]
    }
   ],
   "source": [
    "mobile_data = metrica.loc[metrica['device_type']=='mobile']\n",
    "print(mobile_data.head(5))\n",
    "desktop_data = metrica.loc[metrica['device_type']=='desktop']\n",
    "desktop_data_time_avg = desktop_data['time'].mean()"
   ]
  },
  {
   "cell_type": "markdown",
   "metadata": {},
   "source": [
    "7.\n",
    "Посчитайте среднее время пребывания на сайте пользователей мобильных платформ. Результат сохраните в переменной mobile_data_time_avg. Закомментируйте вывод предыдущего задания и выведите значение mobile_data_time_avg на экран."
   ]
  },
  {
   "cell_type": "code",
   "execution_count": 136,
   "metadata": {},
   "outputs": [
    {
     "name": "stdout",
     "output_type": "stream",
     "text": [
      "41.15691239238949\n"
     ]
    }
   ],
   "source": [
    "mobile_data = metrica.loc[metrica['device_type']=='mobile']\n",
    "#print(mobile_data.head(5))\n",
    "mobile_data_time_avg = mobile_data['time'].mean()\n",
    "print(mobile_data_time_avg)\n",
    "desktop_data = metrica.loc[metrica['device_type']=='desktop']\n",
    "desktop_data_time_avg = desktop_data['time'].mean()"
   ]
  },
  {
   "cell_type": "markdown",
   "metadata": {},
   "source": [
    "# ЗАКЛЮЧЕНИЕ\n",
    "\n",
    "Вы оценили эффективность источников трафика Яндекс.Маркета и определили выгодный канал привлечения с точки зрения повторных покупок.\n",
    "Посмотрим на финальные значения:\n",
    "email — 7,3%\n",
    "other — 6%\n",
    "context — 5,8%\n",
    "Контекстная реклама и другие источники трафика показали примерно одинаковый результат. Стоит порекомендовать маркетологам проверить настройки контекстной рекламы, а также исследовать другие источники трафика и их метрики.\n",
    "Вы изучили данные о поведении пользователей и выяснили, что они проводят на сайте больше времени, если зашли не с мобильного устройства, а с компьютера. Обратите внимание коллег и представьте вывод в отчёте о работе."
   ]
  },
  {
   "cell_type": "markdown",
   "metadata": {},
   "source": [
    "# Постановка задачи:\n",
    "SEO-оптимизация (от англ. Search Engine Optimization, «оптимизация поисковых машин») — действия, направленные на повышение позиций сайта в результатах выдачи поисковых систем. Цель SEO-оптимизации — увеличение трафика из поисковиков на сайт и, как следствие, рост числа покупок.\n",
    "Для разных запросов положение сайта может быть неодинаковым. Например, Яндекс.Практикум занимает первое место в поиске по запросу «стать аналитиком данных», в то время как по запросу «обучение фронтенд разработке» — третье.\n",
    "ПОИСКОВЫЙ ЗАПРОС\tМЕСТО В ВЫДАЧЕ ЯНДЕКСА В МАЕ 2019 ГОДА\n",
    "Яндекс.Практикум\t1\n",
    "обучение фронтенд разработке\t3\n",
    "стать аналитиком данных\t1\n",
    "Место сайта в результатах поиска зависит от огромного количества факторов. Их делят на внутренние и внешние. Так, внутренние факторы — скорость загрузки и качество контента сайта. Важный внешний фактор — то, как часто сайт цитируют на других ресурсах, например, в СМИ и соцсетях.\n",
    "Какие бы факторы ни исследовали SEO-оптимизаторы, они сначала спросят аналитика о текущем состоянии сайта. Вот и вам как специалисту поступила задача: «Определить, какие товарные категории и подкатегории на сайте представлены в поисковиках хуже всего. Времени в обрез».\n",
    "Коллег подводить нельзя, начнём разбираться!"
   ]
  },
  {
   "cell_type": "markdown",
   "metadata": {},
   "source": [
    "# Как читать файлы из Excel"
   ]
  },
  {
   "cell_type": "markdown",
   "metadata": {},
   "source": [
    "Ранее мы встречались только с форматом .csv и методом read_csv(). Для прочтения файлов Excel есть особый метод read_excel(). Он похож на read_csv(), но в отличие от него, read_excel() нужно два аргумента: строка с именем самого файла или пути к нему, и имя листа sheet_name."
   ]
  },
  {
   "cell_type": "markdown",
   "metadata": {},
   "source": [
    "1. Методом read_excel() прочтите первый лист 'traffic_data' Выведите на экран первые 5 строк листа методом head(). Прочитайте названия столбцов:\n",
    "subcategory_id — идентификатор товарной подкатегории, или её зашифрованное название;\n",
    "source — источник трафика. В нашем случае источников два: прямой заход на сайт в таблице обозначен как direct, переход из поисковых систем — organic;\n",
    "visits — количество визитов на страницу подкатегории за отчётный период.\n",
    "Путь к файлу: /datasets/seo_data.xlsx"
   ]
  },
  {
   "cell_type": "code",
   "execution_count": 137,
   "metadata": {},
   "outputs": [
    {
     "name": "stdout",
     "output_type": "stream",
     "text": [
      "  subcategory_id  source   visits\n",
      "0     cf2e61c7af  direct   501166\n",
      "1     0cd903d1cc  direct   126342\n",
      "2     ef35bc88a7  direct  95626.3\n",
      "3     6ff9f4014c  direct  75680.7\n",
      "4     72bc238e4d  direct  64435.9\n"
     ]
    }
   ],
   "source": [
    "import pandas as pd\n",
    "url = 'seo_data.xlsx'\n",
    "data = pd.read_excel(url, sheet_name='traffic_data')\n",
    "print(data.head(5))"
   ]
  },
  {
   "cell_type": "markdown",
   "metadata": {},
   "source": [
    "2. Пока в первых 5 строчках таблицы виден только один источник трафика direct. Проверьте, какие источники есть в столбце source. Выведите на экран список уникальных значений этого столбца."
   ]
  },
  {
   "cell_type": "code",
   "execution_count": 138,
   "metadata": {},
   "outputs": [
    {
     "name": "stdout",
     "output_type": "stream",
     "text": [
      "['direct' 'organic']\n"
     ]
    }
   ],
   "source": [
    "print(data['source'].unique())"
   ]
  },
  {
   "cell_type": "markdown",
   "metadata": {},
   "source": [
    "3. Методом read_excel() прочтите второй лист 'subcategory_ids' и сохраните его в переменной subcategory_dict. Выведите на экран его первые 5 строк методом head().\n",
    "Обратите внимание на названия столбцов: к знакомым нам идентификаторам подкатегорий (subcategory_id) добавились идентификаторы категорий (category_id) и названия подкатегорий (subcategory_name).\n",
    "Всё это похоже на словарь, где идентификаторам подкатегорий из цифр и латинских букв соответствуют понятные нам названия. Поэтому датафрейм называется subcategory_dict."
   ]
  },
  {
   "cell_type": "code",
   "execution_count": 139,
   "metadata": {},
   "outputs": [
    {
     "name": "stdout",
     "output_type": "stream",
     "text": [
      "  subcategory_id                subcategory_name category_id\n",
      "0     cf2e61c7af              Мобильные телефоны  09f279a643\n",
      "1     0cd903d1cc                        Ноутбуки  3509869a61\n",
      "2     ef35bc88a7                      Телевизоры  09f279a643\n",
      "3     6ff9f4014c                        Планшеты  3509869a61\n",
      "4     72bc238e4d  Наушники и Bluetooth-гарнитуры  09f279a643\n"
     ]
    }
   ],
   "source": [
    "subcategory_dict = pd.read_excel(url, sheet_name='subcategory_ids')\n",
    "print(subcategory_dict.head(5))"
   ]
  },
  {
   "cell_type": "markdown",
   "metadata": {},
   "source": [
    "4. Наконец, методом read_excel() прочтём третий лист category_ids и сохраним его в переменной category_dict. Выведите на экран первые 5 строк листа методом head()."
   ]
  },
  {
   "cell_type": "code",
   "execution_count": 140,
   "metadata": {},
   "outputs": [
    {
     "name": "stdout",
     "output_type": "stream",
     "text": [
      "  category_id         category_name\n",
      "0  09f279a643           Электроника\n",
      "1  3509869a61  Компьютерная техника\n",
      "2  09f279a643           Электроника\n",
      "3  3509869a61  Компьютерная техника\n",
      "4  09f279a643           Электроника\n"
     ]
    }
   ],
   "source": [
    "category_dict = pd.read_excel(url, sheet_name='category_ids')\n",
    "print(category_dict.head(5))"
   ]
  },
  {
   "cell_type": "markdown",
   "metadata": {},
   "source": [
    "# Такие неидеальные данные"
   ]
  },
  {
   "cell_type": "code",
   "execution_count": 141,
   "metadata": {},
   "outputs": [
    {
     "name": "stdout",
     "output_type": "stream",
     "text": [
      "<class 'pandas.core.frame.DataFrame'>\n",
      "RangeIndex: 1930 entries, 0 to 1929\n",
      "Data columns (total 3 columns):\n",
      " #   Column          Non-Null Count  Dtype \n",
      "---  ------          --------------  ----- \n",
      " 0   subcategory_id  1930 non-null   object\n",
      " 1   source          1930 non-null   object\n",
      " 2   visits          1930 non-null   object\n",
      "dtypes: object(3)\n",
      "memory usage: 45.4+ KB\n",
      "None\n"
     ]
    }
   ],
   "source": [
    "print(data.info())"
   ]
  },
  {
   "cell_type": "markdown",
   "metadata": {},
   "source": [
    "# Перевод строковых значений в числа\n",
    "Собрать все строки да сделать их числами! Для этого есть стандартный метод Pandas — to_numeric(). Он превращает значения столбца в числовой тип float64 (вещественное число).\n",
    "transactions['amount'] = pd.to_numeric(transactions['amount'])\n",
    "У метода to_numeric() есть параметр errors. От значений, принимаемых errors, зависят действия to_numeric при встрече с некорректным значением:\n",
    "- errors='raise' — дефолтное поведение: при встрече с некорректным значением выдаётся ошибка, операция перевода в числа прерывается;\n",
    "- errors='coerce' — некорректные значения принудительно заменяются на NaN;\n",
    "- errors='ignore' — некорректные значения игнорируются, но остаются.\n",
    "transactions['amount'] = pd.to_numeric(transactions['amount'], errors='coerce') \n",
    "Методом to_numeric() мы не только превратим строки в числовой тип там, где это возможно, но и выясним, на каких значениях метод не работает.\n",
    "Особенность метода to_numeric() в том, что при переводе все числа будут иметь тип данных float. Это подходит далеко не всем значениям. Но есть и хорошие новости: в нужный тип значения переводят методом astype(). Например, аргумент ('int') метода astype() означает, что значение нужно перевести в целое число:"
   ]
  },
  {
   "cell_type": "markdown",
   "metadata": {},
   "source": [
    "1.\n",
    "Переведите значения столбца 'id' из строк в числа методом to_numeric()."
   ]
  },
  {
   "cell_type": "code",
   "execution_count": 142,
   "metadata": {},
   "outputs": [
    {
     "name": "stdout",
     "output_type": "stream",
     "text": [
      "<class 'pandas.core.frame.DataFrame'>\n",
      "RangeIndex: 49 entries, 0 to 48\n",
      "Data columns (total 3 columns):\n",
      " #   Column    Non-Null Count  Dtype \n",
      "---  ------    --------------  ----- \n",
      " 0   id        49 non-null     object\n",
      " 1   category  49 non-null     object\n",
      " 2   amount    49 non-null     object\n",
      "dtypes: object(3)\n",
      "memory usage: 1.3+ KB\n"
     ]
    }
   ],
   "source": [
    "transactions = pd.read_excel('ids.xlsx')\n",
    "#transactions['id'] = pd.to_numeric(transactions['id']) \n",
    "transactions.info()"
   ]
  },
  {
   "cell_type": "markdown",
   "metadata": {},
   "source": [
    "2.\n",
    "Попробуйте ещё раз перевести значения столбца 'id' из строк в числа методом to_numeric(), но уже со значением 'coerce' параметра errors. Это заменит вызывающий ошибку Null на NaN.\n",
    "Полученную таблицу выведите на экран методом tail(): так как ошибка возникает на последней строке, 5 значений с конца будет достаточно."
   ]
  },
  {
   "cell_type": "code",
   "execution_count": 143,
   "metadata": {},
   "outputs": [
    {
     "name": "stdout",
     "output_type": "stream",
     "text": [
      "              id category   amount\n",
      "44  6.007483e+11        A  8958.23\n",
      "45  6.007483e+11        C  12771.1\n",
      "46  6.007483e+11        E  9630.56\n",
      "47  6.007483e+11     Null     Null\n",
      "48           NaN        A  14327.2\n"
     ]
    }
   ],
   "source": [
    "transactions['id'] = pd.to_numeric(transactions['id'], errors='coerce')\n",
    "print(transactions.tail(5))"
   ]
  },
  {
   "cell_type": "markdown",
   "metadata": {},
   "source": [
    "3.\n",
    "Вызовите метод info() после преобразований ещё раз. Проверьте, повлияла ли работа pd.to_numeric(transactions['id'], errors='coerce') на тип значений в столбце id."
   ]
  },
  {
   "cell_type": "code",
   "execution_count": 144,
   "metadata": {},
   "outputs": [
    {
     "name": "stdout",
     "output_type": "stream",
     "text": [
      "<class 'pandas.core.frame.DataFrame'>\n",
      "RangeIndex: 49 entries, 0 to 48\n",
      "Data columns (total 3 columns):\n",
      " #   Column    Non-Null Count  Dtype  \n",
      "---  ------    --------------  -----  \n",
      " 0   id        48 non-null     float64\n",
      " 1   category  49 non-null     object \n",
      " 2   amount    49 non-null     object \n",
      "dtypes: float64(1), object(2)\n",
      "memory usage: 1.3+ KB\n"
     ]
    }
   ],
   "source": [
    "transactions['id'] = pd.to_numeric(transactions['id'], errors='coerce')\n",
    "transactions.info()"
   ]
  },
  {
   "cell_type": "markdown",
   "metadata": {},
   "source": [
    "4.\n",
    "Методом to_numeric() превратите значения столбца amount в числа, заменив некорректные значения на NaN. Проверьте результаты преобразований методом info()."
   ]
  },
  {
   "cell_type": "code",
   "execution_count": 145,
   "metadata": {},
   "outputs": [
    {
     "name": "stdout",
     "output_type": "stream",
     "text": [
      "<class 'pandas.core.frame.DataFrame'>\n",
      "RangeIndex: 49 entries, 0 to 48\n",
      "Data columns (total 3 columns):\n",
      " #   Column    Non-Null Count  Dtype  \n",
      "---  ------    --------------  -----  \n",
      " 0   id        48 non-null     float64\n",
      " 1   category  49 non-null     object \n",
      " 2   amount    45 non-null     float64\n",
      "dtypes: float64(2), object(1)\n",
      "memory usage: 1.3+ KB\n"
     ]
    }
   ],
   "source": [
    "transactions['id'] = pd.to_numeric(transactions['id'], errors='coerce')\n",
    "transactions['amount'] = pd.to_numeric(transactions['amount'], errors='coerce')\n",
    "transactions.info()"
   ]
  },
  {
   "cell_type": "markdown",
   "metadata": {},
   "source": [
    "5.\n",
    "Посчитайте общую стоимость проданных товаров — сумму значений столбца amount в датафрейме transactions. Результат выведите на экран."
   ]
  },
  {
   "cell_type": "code",
   "execution_count": 146,
   "metadata": {},
   "outputs": [
    {
     "name": "stdout",
     "output_type": "stream",
     "text": [
      "596107.1\n"
     ]
    }
   ],
   "source": [
    "print(transactions['amount'].sum())"
   ]
  },
  {
   "cell_type": "markdown",
   "metadata": {},
   "source": [
    "6.\n",
    "Рассчитайте сумму продаж для каждой категории. Для этого сгруппируйте датафрейм transactions по столбцу category и примените метод sum() к столбцу amount. Выведите результат на экран."
   ]
  },
  {
   "cell_type": "code",
   "execution_count": 147,
   "metadata": {},
   "outputs": [
    {
     "name": "stdout",
     "output_type": "stream",
     "text": [
      "category\n",
      "A       133988.50\n",
      "B       168617.89\n",
      "C       173332.50\n",
      "D        62630.82\n",
      "E        57537.39\n",
      "Null         0.00\n",
      "Name: amount, dtype: float64\n"
     ]
    }
   ],
   "source": [
    "print( transactions.groupby('category')['amount'].sum())"
   ]
  },
  {
   "cell_type": "markdown",
   "metadata": {},
   "source": [
    "7.\n",
    "Вернитесь к таблице с трафиком: вы сможете найти сумму визитов.\n",
    "Раньше вместо неё получались склеенные названия категорий, а столбец visits определялся как строковый (тип object).\n",
    "Переведите значения столбца visits датафрейма data в числовой тип методом to_numeric()."
   ]
  },
  {
   "cell_type": "code",
   "execution_count": 149,
   "metadata": {
    "scrolled": true
   },
   "outputs": [],
   "source": [
    "data = pd.read_excel('seo_data.xlsx', sheet_name='traffic_data')\n",
    "#data['visits'] = pd.to_numeric(data['visits'])\n",
    "#ValueError: Unable to parse string \"\"2369468\"\""
   ]
  },
  {
   "cell_type": "markdown",
   "metadata": {},
   "source": [
    "8.\n",
    "Узнайте, что не так со строкой 964. Вызовите знакомый из вводного курса метод loc.\n",
    "Он позволяет обращаться к датафрейму по значению индекса, в нашем случае как раз по номеру строки."
   ]
  },
  {
   "cell_type": "code",
   "execution_count": 151,
   "metadata": {},
   "outputs": [
    {
     "name": "stdout",
     "output_type": "stream",
     "text": [
      "subcategory_id        total\n",
      "source               direct\n",
      "visits            \"2369468\"\n",
      "Name: 964, dtype: object\n"
     ]
    }
   ],
   "source": [
    "print(data.loc[964])"
   ]
  },
  {
   "cell_type": "markdown",
   "metadata": {},
   "source": [
    "9.\n",
    "Вычислите, сколько всего строк в датафрейме и выведите на экран в формате:\n",
    "Количество строк: 1000\n",
    "Затем выведите на экран строки, которые имеют значение 'total' в столбце 'subcategory_id'. Изучите полученные результаты: сколько строк портят весь датасет?"
   ]
  },
  {
   "cell_type": "code",
   "execution_count": 153,
   "metadata": {},
   "outputs": [
    {
     "name": "stdout",
     "output_type": "stream",
     "text": [
      "Количество строк: 1930\n",
      "     subcategory_id   source     visits\n",
      "964           total   direct  \"2369468\"\n",
      "1929          total  organic  \"5687882\"\n"
     ]
    }
   ],
   "source": [
    "print('Количество строк:', data.shape[0])\n",
    "print(data.query('subcategory_id == \"total\"'))"
   ]
  },
  {
   "cell_type": "markdown",
   "metadata": {},
   "source": [
    "10.\n",
    "Оставьте в датафрейме только строки, удовлетворяющие условию data['subcategory_id'] != 'total'. Проверьте результат: выведите на экран датафрейм с условием data['subcategory_id'] == 'total'."
   ]
  },
  {
   "cell_type": "code",
   "execution_count": 154,
   "metadata": {},
   "outputs": [
    {
     "name": "stdout",
     "output_type": "stream",
     "text": [
      "Empty DataFrame\n",
      "Columns: [subcategory_id, source, visits]\n",
      "Index: []\n"
     ]
    }
   ],
   "source": [
    "data = data.query('subcategory_id != \"total\"')\n",
    "print(data.query('subcategory_id == \"total\"'))"
   ]
  },
  {
   "cell_type": "markdown",
   "metadata": {},
   "source": [
    "11.\n",
    "Измените тип данных в столбце ['visits'] на integer. Проверьте полученный результат, вызвав метод info()."
   ]
  },
  {
   "cell_type": "code",
   "execution_count": 155,
   "metadata": {},
   "outputs": [
    {
     "name": "stdout",
     "output_type": "stream",
     "text": [
      "<class 'pandas.core.frame.DataFrame'>\n",
      "Int64Index: 1928 entries, 0 to 1928\n",
      "Data columns (total 3 columns):\n",
      " #   Column          Non-Null Count  Dtype \n",
      "---  ------          --------------  ----- \n",
      " 0   subcategory_id  1928 non-null   object\n",
      " 1   source          1928 non-null   object\n",
      " 2   visits          1928 non-null   object\n",
      "dtypes: object(3)\n",
      "memory usage: 60.2+ KB\n"
     ]
    }
   ],
   "source": [
    "ata = data[(data['subcategory_id'] != 'total')]\n",
    "data['visits'].astype('int')\n",
    "data.info()"
   ]
  },
  {
   "cell_type": "markdown",
   "metadata": {},
   "source": [
    "12.\n",
    "Сгруппируйте данные по источникам и вычислите количество визитов для каждого источника. Выведите результат на экран."
   ]
  },
  {
   "cell_type": "code",
   "execution_count": 156,
   "metadata": {},
   "outputs": [
    {
     "name": "stdout",
     "output_type": "stream",
     "text": [
      "source\n",
      "direct     2368980\n",
      "organic    5687407\n",
      "Name: visits, dtype: int64\n"
     ]
    }
   ],
   "source": [
    "data = data[(data['subcategory_id'] != 'total')]\n",
    "data['visits'] = data['visits'].astype('int')\n",
    "print(data.groupby('source')['visits'].sum())"
   ]
  },
  {
   "cell_type": "markdown",
   "metadata": {},
   "source": [
    "# Методы Pandas для работы с датой и временем"
   ]
  },
  {
   "cell_type": "markdown",
   "metadata": {},
   "source": [
    "Методом to_datetime() превратим содержимое этого столбца в понятные для Python даты.\n",
    "Для этого строку форматируют, обращаясь к специальной системе обозначений, где:\n",
    "- %d — день месяца (от 01 до 31)\n",
    "- %m — номер месяца (от 01 до 12)\n",
    "- %Y — четырёхзначный номер года (например, 2019)\n",
    "- Z — стандартный разделитель даты и времени\n",
    "- %H — номер часа в 24-часовом формате\n",
    "- %M — минуты (от 00 до 59)\n",
    "- %S — секунды (от 00 до 59)\n",
    "Преобразуем формат даты 01.04.2019Z11:03:00 из первой строчки датафрейма:\n",
    "Сначала номер дня месяца. В соответствии с таблицей форматов заменяем его на %d: %d.04.2019Z11:03:00\n",
    "Далее точка (ее оставляем без изменений), потом номер месяца: %m: %d.%m.2019Z11:03:00\n",
    "После четырёхзначный номер года, заменяем 2019 на %Y: %d.%m.%YZ11:03:00\n",
    "Букву Z оставляем без изменений: %d.%m.%YZ11:03:00\n",
    "Номер часа в 24-часовом формате заменим на %H: %d.%m.%YZ%H:03:00\n",
    "Количество минут обозначим %M: %d.%m.%YZ%H:%M:00\n",
    "Завершим форматирование обозначением секунд %S: %d.%m.%YZ%H:%M:%S\n",
    "\n",
    "У новых столбцов тип данных datetime64. Можно добавить эти значения в исходные столбцы и работать с датами.\n",
    "Среди самых разнообразных способов представления даты и времени особое место занимает формат unix time. Его идея проста — это количество секунд, прошедших с 00:00:00 1 января 1970 года. Время unix соответствует Всемирному координированному времени, или UTC.\n",
    "\n",
    "# Это интересно: почему UTC называется так?\n",
    "По-английски о всемирном координированном времени сказали бы так: Coordinated Universal Time: CUT. По-французски эта же мысль будет выражена по-другому: Temps Universel Coordonné: TUC. Чтобы ни французам, ни англичанам не было обидно, выбрали нейтральный вариант: UTC.\n",
    "В формате unix time дата и время хранятся в виде целого числа, увеличивающегося с каждой прошедшей секундой. Отсюда преимущества формата:\n",
    "хранение даты и времени в виде целого числа экономит место на диске;\n",
    "с датами-числами легко проводить арифметические операции;\n",
    "даты, записанные в виде целого числа, удобно принимать за единый формат.\n",
    "Метод to_datetime() работает и с форматом unix time. Первый аргумент — это столбец со временем в формате unix time, второй аргумент unit со значением 's' сообщит о том, что нужно перевести время в привычный формат с точностью до секунды.\n",
    "Часто приходится исследовать статистику по месяцам: например, узнать, на сколько минут сотрудник опаздывал в среднем. Чтобы осуществить такой расчёт, нужно поместить время в класс DatetimeIndex и применить к нему атрибут month:\n",
    "arrivals['month'] = pd.DatetimeIndex(arrivals['date']).month "
   ]
  },
  {
   "cell_type": "markdown",
   "metadata": {},
   "source": [
    "1. Прочитайте файл с данными о позиции в поисковой выдаче за 3 месяца. Выведите первые 15 строк на экран."
   ]
  },
  {
   "cell_type": "code",
   "execution_count": 158,
   "metadata": {},
   "outputs": [
    {
     "name": "stdout",
     "output_type": "stream",
     "text": [
      "              timestamp  level   page_id\n",
      "0   2019-02-04T13:22:34      1  6ukoNykP\n",
      "1   2019-02-06T15:30:54      1  Q62R1Ue7\n",
      "2   2019-02-08T14:53:45      1  GmfSxgPs\n",
      "3   2019-02-10T16:50:22      2  M56OK96C\n",
      "4   2019-02-12T14:16:28      1  q2fqVqPc\n",
      "5   2019-02-14T15:10:45      1  LioXfSPk\n",
      "6   2019-02-16T14:52:23      3  bQXWpQ2z\n",
      "7   2019-02-18T15:45:33      2  gsFVGOTy\n",
      "8   2019-02-20T16:35:12      3  zVuiSTm1\n",
      "9   2019-02-22T15:52:27      1  kuULtbnm\n",
      "10  2019-02-24T12:39:30      2  MKDhBt9L\n",
      "11  2019-02-26T12:45:10      3  FEgRztcr\n",
      "12  2019-03-04T15:34:46      4  OUBWQSCl\n",
      "13  2019-03-06T14:20:57      5  6YeTUHgm\n",
      "14  2019-03-08T12:34:43      6  zlrBrZ0d\n"
     ]
    }
   ],
   "source": [
    "position = pd.read_csv('position.csv')\n",
    "print(position.head(15))"
   ]
  },
  {
   "cell_type": "markdown",
   "metadata": {},
   "source": [
    "2.\n",
    "Просмотрите общую информацию о данных."
   ]
  },
  {
   "cell_type": "code",
   "execution_count": 159,
   "metadata": {},
   "outputs": [
    {
     "name": "stdout",
     "output_type": "stream",
     "text": [
      "<class 'pandas.core.frame.DataFrame'>\n",
      "RangeIndex: 39 entries, 0 to 38\n",
      "Data columns (total 3 columns):\n",
      " #   Column     Non-Null Count  Dtype \n",
      "---  ------     --------------  ----- \n",
      " 0   timestamp  39 non-null     object\n",
      " 1   level      39 non-null     int64 \n",
      " 2   page_id    39 non-null     object\n",
      "dtypes: int64(1), object(2)\n",
      "memory usage: 1.0+ KB\n"
     ]
    }
   ],
   "source": [
    "position.info()"
   ]
  },
  {
   "cell_type": "markdown",
   "metadata": {},
   "source": [
    "3.\n",
    "Обработайте данные о времени в столбце 'timestamp': переведите их из строкового типа в datetime64. Разделителем даты и времени назначьте заглавную латинскую T. Выведите на экран первые 5 строк таблицы position."
   ]
  },
  {
   "cell_type": "code",
   "execution_count": 160,
   "metadata": {},
   "outputs": [
    {
     "name": "stdout",
     "output_type": "stream",
     "text": [
      "            timestamp  level   page_id\n",
      "0 2019-02-04 13:22:34      1  6ukoNykP\n",
      "1 2019-02-06 15:30:54      1  Q62R1Ue7\n",
      "2 2019-02-08 14:53:45      1  GmfSxgPs\n",
      "3 2019-02-10 16:50:22      2  M56OK96C\n",
      "4 2019-02-12 14:16:28      1  q2fqVqPc\n"
     ]
    }
   ],
   "source": [
    "position['timestamp'] = pd.to_datetime(\n",
    "    position['timestamp'], format='%Y-%m-%dT%H:%M:%S'\n",
    ")\n",
    "print(position.head(5))"
   ]
  },
  {
   "cell_type": "markdown",
   "metadata": {},
   "source": [
    "4.\n",
    "Проверьте изменение типа данных с object на datetime64."
   ]
  },
  {
   "cell_type": "code",
   "execution_count": 161,
   "metadata": {},
   "outputs": [
    {
     "name": "stdout",
     "output_type": "stream",
     "text": [
      "<class 'pandas.core.frame.DataFrame'>\n",
      "RangeIndex: 39 entries, 0 to 38\n",
      "Data columns (total 3 columns):\n",
      " #   Column     Non-Null Count  Dtype         \n",
      "---  ------     --------------  -----         \n",
      " 0   timestamp  39 non-null     datetime64[ns]\n",
      " 1   level      39 non-null     int64         \n",
      " 2   page_id    39 non-null     object        \n",
      "dtypes: datetime64[ns](1), int64(1), object(1)\n",
      "memory usage: 1.0+ KB\n"
     ]
    }
   ],
   "source": [
    "position['timestamp'] = pd.to_datetime(position['timestamp'], format='%Y-%m-%dT%H:%M:%S')\n",
    "position.info()"
   ]
  },
  {
   "cell_type": "markdown",
   "metadata": {},
   "source": [
    "5.\n",
    "Отсортируйте таблицу position по столбцу 'level' в порядке убывания и выведите на экран.\n",
    "Сохранять отсортированную таблицу не нужно."
   ]
  },
  {
   "cell_type": "code",
   "execution_count": 162,
   "metadata": {},
   "outputs": [
    {
     "name": "stdout",
     "output_type": "stream",
     "text": [
      "             timestamp  level   page_id\n",
      "22 2019-03-24 13:49:22      9  WklxK6k4\n",
      "38 2019-04-27 12:48:14      8  5VRryKr6\n",
      "35 2019-04-21 14:40:17      8  JvTMAbs7\n",
      "30 2019-04-11 13:39:15      8  9mL07Mjl\n",
      "21 2019-03-22 16:36:19      8  s24ZIat3\n",
      "15 2019-03-10 13:12:57      7  Vih5ARKA\n",
      "34 2019-04-19 15:43:24      7  MSHZViNg\n",
      "31 2019-04-13 12:13:26      7  ILfc3WmK\n",
      "29 2019-04-09 14:57:20      7  SfnhoGh6\n",
      "27 2019-04-05 14:51:38      7  7JKRCdPA\n",
      "20 2019-03-20 15:53:36      7  VkTjZ6co\n",
      "37 2019-04-25 16:10:50      6  clLGJ4g3\n",
      "33 2019-04-17 16:54:17      6  JjIZd3Jy\n",
      "28 2019-04-07 16:29:58      6  bsORIc79\n",
      "24 2019-03-28 15:28:17      6  aQdvnaZX\n",
      "19 2019-03-18 16:47:36      6  057NPKXX\n",
      "14 2019-03-08 12:34:43      6  zlrBrZ0d\n",
      "18 2019-03-16 16:18:34      5  zPH6tQwc\n",
      "36 2019-04-23 13:17:19      5  6KVLFFQF\n",
      "13 2019-03-06 14:20:57      5  6YeTUHgm\n",
      "23 2019-03-26 15:50:31      5  p4Ofo5uP\n",
      "25 2019-04-01 13:43:49      5  7UCXvXJu\n",
      "32 2019-04-15 12:28:54      5  sCKAcOTN\n",
      "12 2019-03-04 15:34:46      4  OUBWQSCl\n",
      "17 2019-03-14 12:46:19      4  g4si3TQ8\n",
      "16 2019-03-12 15:33:28      3  Y3wTtqaJ\n",
      "6  2019-02-16 14:52:23      3  bQXWpQ2z\n",
      "11 2019-02-26 12:45:10      3  FEgRztcr\n",
      "8  2019-02-20 16:35:12      3  zVuiSTm1\n",
      "3  2019-02-10 16:50:22      2  M56OK96C\n",
      "10 2019-02-24 12:39:30      2  MKDhBt9L\n",
      "7  2019-02-18 15:45:33      2  gsFVGOTy\n",
      "26 2019-04-03 15:12:15      2  NJ1D9dAt\n",
      "9  2019-02-22 15:52:27      1  kuULtbnm\n",
      "5  2019-02-14 15:10:45      1  LioXfSPk\n",
      "4  2019-02-12 14:16:28      1  q2fqVqPc\n",
      "1  2019-02-06 15:30:54      1  Q62R1Ue7\n",
      "2  2019-02-08 14:53:45      1  GmfSxgPs\n",
      "0  2019-02-04 13:22:34      1  6ukoNykP\n"
     ]
    }
   ],
   "source": [
    "print(position.sort_values(by = 'level', ascending=False))"
   ]
  },
  {
   "cell_type": "markdown",
   "metadata": {},
   "source": [
    "6.\n",
    "Добавьте столбец 'month' в таблицу position с номером месяца. Выведите на экран первые 5 строк таблицы position"
   ]
  },
  {
   "cell_type": "code",
   "execution_count": 163,
   "metadata": {},
   "outputs": [
    {
     "name": "stdout",
     "output_type": "stream",
     "text": [
      "            timestamp  level   page_id  month\n",
      "0 2019-02-04 13:22:34      1  6ukoNykP      2\n",
      "1 2019-02-06 15:30:54      1  Q62R1Ue7      2\n",
      "2 2019-02-08 14:53:45      1  GmfSxgPs      2\n",
      "3 2019-02-10 16:50:22      2  M56OK96C      2\n",
      "4 2019-02-12 14:16:28      1  q2fqVqPc      2\n"
     ]
    }
   ],
   "source": [
    "position['month'] = pd.DatetimeIndex(position['timestamp']).month\n",
    "print(position.head(5))"
   ]
  },
  {
   "cell_type": "markdown",
   "metadata": {},
   "source": [
    "7.\n",
    "Сгруппируйте данные по столбцу 'month' и найдите среднюю позицию в выдаче по месяцам (level). Результат группировки выведите на экран."
   ]
  },
  {
   "cell_type": "code",
   "execution_count": 164,
   "metadata": {},
   "outputs": [
    {
     "name": "stdout",
     "output_type": "stream",
     "text": [
      "month\n",
      "2    1.750000\n",
      "3    5.769231\n",
      "4    6.214286\n",
      "Name: level, dtype: float64\n"
     ]
    }
   ],
   "source": [
    "position['month'] = pd.DatetimeIndex(position['timestamp']).month\n",
    "print(position.groupby('month')['level'].mean())"
   ]
  },
  {
   "cell_type": "markdown",
   "metadata": {},
   "source": [
    "# Обработка ошибок: try-except\n",
    "\n",
    "Выгружая данные из разных систем, готовьтесь к сюрпризам\n",
    "Некорректный формат приводит к невыполнению кода. Говорят, что «код падает с ошибкой». Здесь вы уже опытны: например, если числа в наборе данных вдруг стали строками, умеете вызвать метод to_numeric();\n",
    "Ошибки в данных встречаются ближе к концу файла, и код на строках с неверными значениями не выполняется. Значит, пропадают расчёты для предыдущих, «безошибочных» строк;\n",
    "\n",
    "Данные могут поменяться. К примеру, в выгрузку для бухгалтерии с появлением нового контрагента могут проникнуть некорректные данные, из-за которых код упадёт.\n",
    "\n",
    "К сожалению, предсказать все потенциальные ошибки невозможно. Но и останавливать работу кода всякий раз, когда он спотыкается о некорректное значение, нельзя.\n",
    "\n",
    "Для работы с непредсказуемым поведением данных есть конструкция try-except. Принцип работы такой: исходный код помещают в блок try. Если при выполнении кода из блока try возникнет ошибка, воспроизведётся код из блока except.\n",
    "Заведомо напишем код с ошибкой:\n",
    "a = 1\n",
    "b = 0\n",
    "print(a / b) #распечатаем на экране результат деления на ноль\n",
    "print ('Кстати, хорошего дня') #заодно пожелаем хорошего дня \n",
    "# ZeroDivisionError: division by zero #ошибка, делить на ноль нельзя \n",
    "\n",
    "Python вернул ошибку ZeroDivisionError: division by zero. Код упал, и пожелание хорошего дня после строки с ошибкой не напечаталось.\n",
    "Проделаем то же самое, но уже с конструкцией try-except:\n",
    "a = 1\n",
    "b = 0\n",
    "try:\n",
    "    print(a / b)\n",
    "except:\n",
    "    print('Проверьте значения параметров a и b')\n",
    "print('Кстати, хорошего дня') \n",
    "Проверьте значения параметров a и b\n",
    "\n",
    "Кстати, хорошего дня \n",
    "Не в силах выполнить команду в блоке try, код не падает с ошибкой. Вместо этого выполняется команда из блока except, а следом за ней и оставшиеся команды. Как ни в чём не бывало.\n"
   ]
  },
  {
   "cell_type": "markdown",
   "metadata": {},
   "source": [
    "1.\n",
    "Формат выгрузки часто согласуют заранее: это помогает избежать проблем с некорректными данными. Вот и вам разработчики прислали формат на согласование: позиция сайта в выдаче на конкретную дату.\n",
    "Напишите цикл, подсчитывающий количество строк в данных. Результат выведите на экран."
   ]
  },
  {
   "cell_type": "code",
   "execution_count": 166,
   "metadata": {},
   "outputs": [
    {
     "name": "stdout",
     "output_type": "stream",
     "text": [
      "10\n"
     ]
    }
   ],
   "source": [
    "position = [\n",
    "    ['2019-05-01', '6'],\n",
    "    ['2019-05-02', '5'],\n",
    "    ['2019-05-03', '5'],\n",
    "    ['2019-05-04', '4'],\n",
    "    ['2019-05-05', '5'],\n",
    "    ['2019-05-06', '5'],\n",
    "    ['2019-05-07', '4'],\n",
    "    ['2019-05-08', '4'],\n",
    "    ['2019-05-09', '3'],\n",
    "    ['2019-05-10', '3'],\n",
    "]\n",
    "count_lines = 0\n",
    "for row in position:\n",
    "    count_lines += 1\n",
    "print(count_lines)"
   ]
  },
  {
   "cell_type": "markdown",
   "metadata": {},
   "source": [
    "2.\n",
    "Найдите среднюю позицию в выдаче за прошедший период. Результат выведите на экран."
   ]
  },
  {
   "cell_type": "code",
   "execution_count": 167,
   "metadata": {},
   "outputs": [
    {
     "name": "stdout",
     "output_type": "stream",
     "text": [
      "4.4\n"
     ]
    }
   ],
   "source": [
    "count_lines = 0\n",
    "total_position = 0\n",
    "\n",
    "for row in position:\n",
    "    count_lines += 1\n",
    "    level = int(row[1])\n",
    "    total_position += level\n",
    "print(total_position/count_lines)"
   ]
  },
  {
   "cell_type": "markdown",
   "metadata": {},
   "source": [
    "3.\n",
    "Формат поставки статистики согласован. Разработчики прислали финальную выгрузку, где в данных появились проблемы: отрицательные значения, пробелы и даже ошибки.\n",
    "Посчитайте среднюю позицию в выдаче и нажмите «Выполнить код»."
   ]
  },
  {
   "cell_type": "code",
   "execution_count": 168,
   "metadata": {},
   "outputs": [
    {
     "name": "stdout",
     "output_type": "stream",
     "text": [
      "4.4\n"
     ]
    }
   ],
   "source": [
    "count_lines = 0\n",
    "total_position = 0\n",
    "\n",
    "for row in position:\n",
    "    count_lines += 1\n",
    "    level = int(row[1])\n",
    "    total_position += level\n",
    "print(total_position/count_lines)"
   ]
  },
  {
   "cell_type": "markdown",
   "metadata": {},
   "source": [
    "4.\n",
    "Примените конструкцию try-except и обработайте ошибки, мешающие решению задачи. Создайте переменную wrong_lines для подсчета некорректных строк и в except посчитайте их количество. Выведите на экран общее количество строк и количество некорректных строк в формате:\n",
    "Количество измерений ...\n",
    "Количество некорректных строк ... "
   ]
  },
  {
   "cell_type": "code",
   "execution_count": 171,
   "metadata": {},
   "outputs": [
    {
     "name": "stdout",
     "output_type": "stream",
     "text": [
      "Количество измерений 10\n",
      "Количество некорректных строк 2\n"
     ]
    }
   ],
   "source": [
    "position = [\n",
    "    ['2019-05-01', '- 6'],\n",
    "    ['2019-05-02', '+5'],\n",
    "    ['2019-05-03', ' 5'],\n",
    "    ['2019-05-04', '4'],\n",
    "    ['2019-05-05', '5'],\n",
    "    ['2019-05-06', '5'],\n",
    "    ['2019-05-07', '4'],\n",
    "    ['2019-05-08', 'Error 5'],\n",
    "    ['2019-05-09', '3'],\n",
    "    ['2019-05-10', '3']]\n",
    "    \n",
    "count_lines = 0\n",
    "total_position = 0\n",
    "wrong_lines = 0\n",
    "for row in position:\n",
    "    count_lines += 1\n",
    "    try:         \n",
    "        level = int(row[1])\n",
    "        total_position += level\n",
    "    except:\n",
    "        wrong_lines += 1\n",
    "        \n",
    "print('Количество измерений', count_lines)\n",
    "print('Количество некорректных строк', wrong_lines)"
   ]
  },
  {
   "cell_type": "markdown",
   "metadata": {},
   "source": [
    "5.\n",
    "Полезно знать не только сколько ошибок, но и где они. Добавьте возможность записывать строки с ошибками в список. Выведите на экран общее количество строк и список некорректных строк в формате:\n",
    "Количество измерений ...\n",
    "Некорректные строки ..."
   ]
  },
  {
   "cell_type": "code",
   "execution_count": 172,
   "metadata": {},
   "outputs": [
    {
     "name": "stdout",
     "output_type": "stream",
     "text": [
      "Количество измерений 10\n",
      "Некорректные строки [['2019-05-01', '- 6'], ['2019-05-08', 'Error 5']]\n"
     ]
    }
   ],
   "source": [
    "total_position = 0\n",
    "count_lines = 0\n",
    "wrong_lines_content = []\n",
    "\n",
    "for row in position:\n",
    "    try:\n",
    "        count_lines += 1\n",
    "        level = int(row[1])\n",
    "        total_position += level\n",
    "    except:\n",
    "        wrong_lines_content.append(row)\n",
    "print('Количество измерений', count_lines)\n",
    "print('Некорректные строки', wrong_lines_content)"
   ]
  },
  {
   "cell_type": "markdown",
   "metadata": {},
   "source": [
    "# Метод merge()"
   ]
  },
  {
   "cell_type": "markdown",
   "metadata": {},
   "source": [
    "Данные хранят в Excel-таблице из нескольких листов. Как смотреть на категории, подкатегории и трафик в одном месте? Идея — склеить таблицы!\n",
    "Объединим несколько таблиц в одну методом merge()).\n",
    "merge() применяют к таблице, к которой присоединяют другую. У метода следующие аргументы:\n",
    "right — имя DataFrame или Series, присоединяемого к исходной таблице\n",
    "on — название общего списка в двух соединяемых таблицах: по нему происходит слияние\n",
    "how — чьи id включать в итоговую таблицу. Аргумент how может принять значение left: тогда в итоговую таблицу будут включены id из левой таблицы. Аргумент right включает id из правой таблицы."
   ]
  },
  {
   "cell_type": "markdown",
   "metadata": {},
   "source": [
    "1.\n",
    "Объедините самостоятельно таблицы subcategory_dict и data. Результат сохраните в переменной data_subcategory и выведите на экран первые 10 строк новой таблицы."
   ]
  },
  {
   "cell_type": "code",
   "execution_count": 173,
   "metadata": {},
   "outputs": [
    {
     "name": "stdout",
     "output_type": "stream",
     "text": [
      "  subcategory_id  source   visits                subcategory_name category_id\n",
      "0     cf2e61c7af  direct   501166              Мобильные телефоны  09f279a643\n",
      "1     0cd903d1cc  direct   126342                        Ноутбуки  3509869a61\n",
      "2     ef35bc88a7  direct  95626.3                      Телевизоры  09f279a643\n",
      "3     6ff9f4014c  direct  75680.7                        Планшеты  3509869a61\n",
      "4     72bc238e4d  direct  64435.9  Наушники и Bluetooth-гарнитуры  09f279a643\n",
      "5     88c78ea685  direct  39638.2                            Шины  65922fa39c\n",
      "6     179bfacf4a  direct  31007.5           Умные часы и браслеты  09f279a643\n",
      "7     b0fb8f259a  direct  30324.1                        Мониторы  3509869a61\n",
      "8     3c67eb2d90  direct  25878.8                   Наручные часы  6074ad29ac\n",
      "9     24e6c815c6  direct  25276.4  Лекарственные препараты и БАДы  10a493e03b\n"
     ]
    }
   ],
   "source": [
    "data = pd.read_excel('seo_data.xlsx', sheet_name='traffic_data')\n",
    "subcategory_dict = pd.read_excel('seo_data.xlsx', sheet_name='subcategory_ids')\n",
    "data_subcategory = data.merge(subcategory_dict, on='subcategory_id', how='left')\n",
    "print(data_subcategory.head(10))"
   ]
  },
  {
   "cell_type": "markdown",
   "metadata": {},
   "source": [
    "2.\n",
    "Объедините таблицы data_subcategory и category_dict. Результат сохраните в переменной data_final и выведите на экран первые 10 строк новой таблицы."
   ]
  },
  {
   "cell_type": "code",
   "execution_count": 174,
   "metadata": {},
   "outputs": [
    {
     "name": "stdout",
     "output_type": "stream",
     "text": [
      "  subcategory_id  source  visits    subcategory_name category_id category_name\n",
      "0     cf2e61c7af  direct  501166  Мобильные телефоны  09f279a643   Электроника\n",
      "1     cf2e61c7af  direct  501166  Мобильные телефоны  09f279a643   Электроника\n",
      "2     cf2e61c7af  direct  501166  Мобильные телефоны  09f279a643   Электроника\n",
      "3     cf2e61c7af  direct  501166  Мобильные телефоны  09f279a643   Электроника\n",
      "4     cf2e61c7af  direct  501166  Мобильные телефоны  09f279a643   Электроника\n",
      "5     cf2e61c7af  direct  501166  Мобильные телефоны  09f279a643   Электроника\n",
      "6     cf2e61c7af  direct  501166  Мобильные телефоны  09f279a643   Электроника\n",
      "7     cf2e61c7af  direct  501166  Мобильные телефоны  09f279a643   Электроника\n",
      "8     cf2e61c7af  direct  501166  Мобильные телефоны  09f279a643   Электроника\n",
      "9     cf2e61c7af  direct  501166  Мобильные телефоны  09f279a643   Электроника\n"
     ]
    }
   ],
   "source": [
    "data = pd.read_excel('seo_data.xlsx', sheet_name='traffic_data')\n",
    "subcategory_dict = pd.read_excel('seo_data.xlsx', sheet_name='subcategory_ids')\n",
    "category_dict = pd.read_excel('seo_data.xlsx', sheet_name='category_ids')\n",
    "data_subcategory = data.merge(subcategory_dict, on='subcategory_id', how='left')\n",
    "\n",
    "data_final = data_subcategory.merge(category_dict, on='category_id', how='left')\n",
    "print(data_final.head(10))"
   ]
  },
  {
   "cell_type": "markdown",
   "metadata": {},
   "source": [
    "# Сводные таблицы\n",
    "\n",
    "Сводная таблица — ваш помощник для обобщения данных и их наглядного представления.\n",
    "\n",
    "В Pandas для подготовки сводных таблиц вызывают метод pivot_table().\n",
    "Аргументы метода:\n",
    "index — столбец или столбцы, по которым группируют данные (название товара)\n",
    "columns — столбец, по значениям которого происходит группировка (даты)\n",
    "values — значения, по которым мы хотим увидеть сводную таблицу (количество проданного товара)\n",
    "aggfunc — функция, применяемая к значениям (сумма товаров)\n",
    "\n",
    "Сделаем по ней сводную таблицу методом pivot_table():\n",
    "data_pivot = data_final.pivot_table(index=['category_name', 'subcategory_name'], columns='source', values='visits', aggfunc='sum')\n",
    "print(data_pivot.head(10)) \n",
    "\n",
    "Как видно, основная категория включает в себя подкатегорию и это представлено в структуре датафрейма: категория отображена иерархически главной над подкатегорией. Такие датафреймы содержат в себе мультииндекс. Часто при работе с такими датафреймами мультииндекс убирают, чтобы категория была отображена на каждой строчке датафрейма:\n",
    "data_pivot_with_reset_index = data_pivot.reset_index()\n",
    "print(data_pivot_with_reset_index.head(10)) "
   ]
  },
  {
   "cell_type": "markdown",
   "metadata": {},
   "source": [
    "1.\n",
    "Самостоятельно создайте сводную таблицу для набора data_final. Результат сохраните в переменной data_pivot и выведите первых 10 значений на экран.\n"
   ]
  },
  {
   "cell_type": "code",
   "execution_count": 175,
   "metadata": {},
   "outputs": [
    {
     "name": "stdout",
     "output_type": "stream",
     "text": [
      "source                                    direct  organic\n",
      "category_name subcategory_name                           \n",
      "Авто          Автоакустика                  5915    15433\n",
      "              Автомагнитолы                 7783    18690\n",
      "              Автомобильные инверторы        145      150\n",
      "              Автомобильные компрессоры      407      790\n",
      "              Автомобильные телевизоры       975     2246\n",
      "              Автомобильные холодильники     204      285\n",
      "              Автосигнализации               494     1026\n",
      "              Аккумуляторные батареи        1175     2657\n",
      "              Антифризы                      736     1568\n",
      "              Багажники, рейлинги            342      664\n"
     ]
    }
   ],
   "source": [
    "data_final = pd.read_csv('data_final.csv')\n",
    "data_pivot = data_final.pivot_table(index=['category_name', 'subcategory_name'], columns='source', values='visits', aggfunc='sum')\n",
    "print(data_pivot.head(10))"
   ]
  },
  {
   "cell_type": "markdown",
   "metadata": {},
   "source": [
    "\n",
    "2.\n",
    "Создайте в таблице data_pivot новый столбец 'ratio' и сохраните в нём значение отношения органического трафика 'organic' к прямому 'direct'. Выведите первые 10 строк таблицы на экран."
   ]
  },
  {
   "cell_type": "code",
   "execution_count": 176,
   "metadata": {},
   "outputs": [
    {
     "name": "stdout",
     "output_type": "stream",
     "text": [
      "source                                    direct  organic     ratio\n",
      "category_name subcategory_name                                     \n",
      "Авто          Автоакустика                  5915    15433  2.609129\n",
      "              Автомагнитолы                 7783    18690  2.401388\n",
      "              Автомобильные инверторы        145      150  1.034483\n",
      "              Автомобильные компрессоры      407      790  1.941032\n",
      "              Автомобильные телевизоры       975     2246  2.303590\n",
      "              Автомобильные холодильники     204      285  1.397059\n",
      "              Автосигнализации               494     1026  2.076923\n",
      "              Аккумуляторные батареи        1175     2657  2.261277\n",
      "              Антифризы                      736     1568  2.130435\n",
      "              Багажники, рейлинги            342      664  1.941520\n"
     ]
    }
   ],
   "source": [
    "data_pivot = data_final.pivot_table(index=['category_name', 'subcategory_name'], columns='source', values='visits', aggfunc='sum')\n",
    "data_pivot['ratio'] = data_pivot['organic']/data_pivot['direct']\n",
    "print(data_pivot.head(10)) "
   ]
  },
  {
   "cell_type": "markdown",
   "metadata": {},
   "source": [
    "3.\n",
    "Отсортируйте таблицу по столбцу 'ratio' в порядке убывания. Выведите первые 10 строк.\n",
    "Отсортированную таблицу сохранять не нужно."
   ]
  },
  {
   "cell_type": "code",
   "execution_count": 177,
   "metadata": {},
   "outputs": [
    {
     "name": "stdout",
     "output_type": "stream",
     "text": [
      "source                                                     direct  organic  \\\n",
      "category_name          subcategory_name                                      \n",
      "Авто                   Шины                                 39638   153859   \n",
      "Бытовая техника        Стиральные машины                    22064    64570   \n",
      "Спорт и отдых          Велосипеды                           16009    46087   \n",
      "Детские товары         Коляски                              18079    52005   \n",
      "Строительство и ремонт Сварочные аппараты                    6175    17325   \n",
      "Товары для дома        Компьютерные кресла                   6208    17407   \n",
      "Компьютерная техника   Клавиатуры                            6224    17417   \n",
      "Электроника            Универсальные внешние аккумуляторы    6146    17115   \n",
      "                       TV-тюнеры                             6275    17427   \n",
      "Бытовая техника        Холодильники                         20920    57985   \n",
      "\n",
      "source                                                        ratio  \n",
      "category_name          subcategory_name                              \n",
      "Авто                   Шины                                3.881604  \n",
      "Бытовая техника        Стиральные машины                   2.926487  \n",
      "Спорт и отдых          Велосипеды                          2.878818  \n",
      "Детские товары         Коляски                             2.876542  \n",
      "Строительство и ремонт Сварочные аппараты                  2.805668  \n",
      "Товары для дома        Компьютерные кресла                 2.803963  \n",
      "Компьютерная техника   Клавиатуры                          2.798361  \n",
      "Электроника            Универсальные внешние аккумуляторы  2.784738  \n",
      "                       TV-тюнеры                           2.777211  \n",
      "Бытовая техника        Холодильники                        2.771750  \n"
     ]
    }
   ],
   "source": [
    "data_pivot = data_final.pivot_table(index=['category_name', 'subcategory_name'], columns='source', values='visits', aggfunc='sum')\n",
    "data_pivot['ratio'] = data_pivot['organic'] / data_pivot['direct']\n",
    "print(data_pivot.sort_values( by = 'ratio', ascending=False).head(10))"
   ]
  },
  {
   "cell_type": "markdown",
   "metadata": {},
   "source": [
    "4.\n",
    "Отсортируйте таблицу по столбцу 'ratio' в порядке убывания. Выведите последние 10 значений.\n",
    "Отсортированную таблицу сохранять не нужно."
   ]
  },
  {
   "cell_type": "code",
   "execution_count": 178,
   "metadata": {},
   "outputs": [
    {
     "name": "stdout",
     "output_type": "stream",
     "text": [
      "source                                                  direct  organic  \\\n",
      "category_name              subcategory_name                               \n",
      "Строительство и ремонт     Душевые поддоны                  90       26   \n",
      "Товары для красоты         Кисти, спонжи и аппликаторы      96       27   \n",
      "Продукты                   Макароны                         86       24   \n",
      "Детские товары             Играем в салон красоты           88       24   \n",
      "Спорт и отдых              Гребные тренажеры                89       24   \n",
      "Детские товары             Блокноты                         79       21   \n",
      "Строительство и ремонт     Проволока                        76       15   \n",
      "Одежда, обувь и аксессуары Термобелье                       67       13   \n",
      "Авто                       Наклейки, шильдики и значки      50        9   \n",
      "Детские товары             Гигиена полости рта              27        4   \n",
      "\n",
      "source                                                     ratio  \n",
      "category_name              subcategory_name                       \n",
      "Строительство и ремонт     Душевые поддоны              0.288889  \n",
      "Товары для красоты         Кисти, спонжи и аппликаторы  0.281250  \n",
      "Продукты                   Макароны                     0.279070  \n",
      "Детские товары             Играем в салон красоты       0.272727  \n",
      "Спорт и отдых              Гребные тренажеры            0.269663  \n",
      "Детские товары             Блокноты                     0.265823  \n",
      "Строительство и ремонт     Проволока                    0.197368  \n",
      "Одежда, обувь и аксессуары Термобелье                   0.194030  \n",
      "Авто                       Наклейки, шильдики и значки  0.180000  \n",
      "Детские товары             Гигиена полости рта          0.148148  \n"
     ]
    }
   ],
   "source": [
    "data_pivot = data_final.pivot_table(index=['category_name', 'subcategory_name'], columns='source', values='visits', aggfunc='sum')\n",
    "data_pivot['ratio'] = data_pivot['organic'] / data_pivot['direct']\n",
    "print(data_pivot.sort_values( by = 'ratio', ascending=False).tail(10))"
   ]
  },
  {
   "cell_type": "markdown",
   "metadata": {},
   "source": [
    "5.\n",
    "Отсортируйте таблицу по столбцу 'ratio' в порядке убывания и выведите последние 10 записей, где прямой трафик больше 1000. Выражение напишите в скобках функции print(), чтобы результат напечатался на экран."
   ]
  },
  {
   "cell_type": "code",
   "execution_count": 179,
   "metadata": {},
   "outputs": [
    {
     "name": "stdout",
     "output_type": "stream",
     "text": [
      "source                                                       direct  organic  \\\n",
      "category_name              subcategory_name                                    \n",
      "Бытовая техника            Оверлоки и распошивальные машины    1536     3215   \n",
      "Товары для дома            Компьютерные и письменные столы     1999     4177   \n",
      "                           Люстры                              2016     4209   \n",
      "Строительство и ремонт     Дисковые пилы                       2040     4255   \n",
      "                           Воздушные компрессоры               1690     3520   \n",
      "Товары для здоровья        Бандажи и ортезы                    1659     3453   \n",
      "Строительство и ремонт     Нивелиры и лазерные уровни          1651     3436   \n",
      "Электроника                Защитные пленки и стекла            1560     3246   \n",
      "Одежда, обувь и аксессуары Туфли                               1035     2096   \n",
      "                           Сапоги                              1008     2021   \n",
      "\n",
      "source                                                          ratio  \n",
      "category_name              subcategory_name                            \n",
      "Бытовая техника            Оверлоки и распошивальные машины  2.093099  \n",
      "Товары для дома            Компьютерные и письменные столы   2.089545  \n",
      "                           Люстры                            2.087798  \n",
      "Строительство и ремонт     Дисковые пилы                     2.085784  \n",
      "                           Воздушные компрессоры             2.082840  \n",
      "Товары для здоровья        Бандажи и ортезы                  2.081374  \n",
      "Строительство и ремонт     Нивелиры и лазерные уровни        2.081163  \n",
      "Электроника                Защитные пленки и стекла          2.080769  \n",
      "Одежда, обувь и аксессуары Туфли                             2.025121  \n",
      "                           Сапоги                            2.004960  \n"
     ]
    }
   ],
   "source": [
    "data_pivot = data_final.pivot_table(index=['category_name', 'subcategory_name'], columns='source', values='visits', aggfunc='sum')\n",
    "data_pivot['ratio'] = data_pivot['organic'] / data_pivot['direct']\n",
    "print(data_pivot[data_pivot['direct'] > 1000].sort_values( by = 'ratio', ascending=False).tail(10))"
   ]
  },
  {
   "cell_type": "markdown",
   "metadata": {},
   "source": [
    "# Ручной поиск дубликатов\n",
    "Дубликаты можно искать двумя способами.\n",
    "- Способ 1. Во вводном курсе вы уже изучали метод duplicated(). В сочетании с методом sum() он возвращает количество дубликатов. Напомним, что если выполнить метод duplicated() без подсчёта суммы, на экране будут отображены все строки. Там, где есть дубликаты, будет значение True, где дубликата нет — False.\n",
    "- Способ 2. Вызвать метод value_counts(), который анализирует столбец, выбирает каждое уникальное значение и подсчитывает частоту его встречаемости в списке. Применяют метод к объекту Series. Результат его работы – список пар «значение-частота», отсортированные по убыванию. Все дубликаты, которые встречаются чаще других, оказываются в начале списка.\n"
   ]
  },
  {
   "cell_type": "markdown",
   "metadata": {},
   "source": [
    "1. Посчитайте количество дубликатов в столбце 'item', вызвав методы duplicated() и sum().\n",
    "Распечатайте на экране результаты вычислений в следующем виде:\n",
    "Дубликатов в таблице: ... "
   ]
  },
  {
   "cell_type": "code",
   "execution_count": 180,
   "metadata": {},
   "outputs": [
    {
     "name": "stdout",
     "output_type": "stream",
     "text": [
      "Дубликатов в таблице: 3\n"
     ]
    }
   ],
   "source": [
    "stock = pd.read_excel('stock.xlsx', sheet_name='storehouse')\n",
    "print ('Дубликатов в таблице:', stock['item'].duplicated().sum())"
   ]
  },
  {
   "cell_type": "markdown",
   "metadata": {},
   "source": [
    "2.\n",
    "Примените метод value_counts() к столбцу 'item'. Результат выведите на экран."
   ]
  },
  {
   "cell_type": "markdown",
   "metadata": {},
   "source": []
  },
  {
   "cell_type": "code",
   "execution_count": 182,
   "metadata": {},
   "outputs": [
    {
     "name": "stdout",
     "output_type": "stream",
     "text": [
      "Смартфон Xiaomi Redmi 6A 16GB       3\n",
      "Смартфон HUAWEI P30 lite            2\n",
      "Смартфон Samsung Galaxy A30 32GB    1\n",
      "Смартфон Apple iPhone Xr 64gb       1\n",
      "Смартфон Apple iPhone Xr 64GB       1\n",
      "смартфон Samsung Galaxy A30 32gb    1\n",
      "Смартфон Honor 8X 64GB              1\n",
      "Name: item, dtype: int64\n"
     ]
    }
   ],
   "source": [
    "print(stock['item'].value_counts())"
   ]
  },
  {
   "cell_type": "markdown",
   "metadata": {},
   "source": [
    "3. Начните собирать данные для новой таблицы уже без дубликатов. Посчитайте количество телефонов марки Xiaomi Redmi на складе и сохраните его в переменной xiaomi. Результат выведите на экран."
   ]
  },
  {
   "cell_type": "code",
   "execution_count": 183,
   "metadata": {},
   "outputs": [
    {
     "name": "stdout",
     "output_type": "stream",
     "text": [
      "44\n"
     ]
    }
   ],
   "source": [
    "xiaomi = stock[stock['item'] == 'Смартфон Xiaomi Redmi 6A 16GB']['count'].sum()\n",
    "print(xiaomi)"
   ]
  },
  {
   "cell_type": "markdown",
   "metadata": {},
   "source": [
    "4. \n",
    "Найдите количество смартфонов HUAWEI и сохраните его в переменной huawei. Закомментируйте вывод предыдущей задачи и выведите результат на экран."
   ]
  },
  {
   "cell_type": "code",
   "execution_count": 184,
   "metadata": {},
   "outputs": [
    {
     "name": "stdout",
     "output_type": "stream",
     "text": [
      "38\n"
     ]
    }
   ],
   "source": [
    "huawei = stock[stock['item'] == 'Смартфон HUAWEI P30 lite']['count'].sum()\n",
    "print(huawei)"
   ]
  },
  {
   "cell_type": "markdown",
   "metadata": {},
   "source": [
    "5.\n",
    "Удалите дубликаты из столбца item, «перезаписав» его.\n",
    "Выведите на экран всю таблицу. Закомментируйте вывод из предыдущей задачи."
   ]
  },
  {
   "cell_type": "code",
   "execution_count": 185,
   "metadata": {},
   "outputs": [
    {
     "name": "stdout",
     "output_type": "stream",
     "text": [
      "          id                              item  count\n",
      "0  100480924     Смартфон Xiaomi Redmi 6A 16GB     32\n",
      "1  100480929                               NaN     10\n",
      "2  100480938  Смартфон Samsung Galaxy A30 32GB     49\n",
      "3  100480952  смартфон Samsung Galaxy A30 32gb     11\n",
      "4  100480959          Смартфон HUAWEI P30 lite      5\n",
      "5  100480975     Смартфон Apple iPhone Xr 64gb     10\n",
      "6  100480988            Смартфон Honor 8X 64GB     64\n",
      "7  100480998                               NaN     33\n",
      "8  100481008                               NaN      2\n",
      "9  100481020     Смартфон Apple iPhone Xr 64GB     19\n"
     ]
    }
   ],
   "source": [
    "stock['item'] = stock['item'].drop_duplicates()\n",
    "print(stock)\n"
   ]
  },
  {
   "cell_type": "markdown",
   "metadata": {},
   "source": [
    "6.\n",
    "Удалите пропуски из таблицы методом dropna() и восстановите индексы методом reset_index() c параметром drop, равным True. Выведите на экран таблицу."
   ]
  },
  {
   "cell_type": "code",
   "execution_count": 186,
   "metadata": {},
   "outputs": [
    {
     "name": "stdout",
     "output_type": "stream",
     "text": [
      "          id                              item  count\n",
      "0  100480924     Смартфон Xiaomi Redmi 6A 16GB     32\n",
      "1  100480938  Смартфон Samsung Galaxy A30 32GB     49\n",
      "2  100480952  смартфон Samsung Galaxy A30 32gb     11\n",
      "3  100480959          Смартфон HUAWEI P30 lite      5\n",
      "4  100480975     Смартфон Apple iPhone Xr 64gb     10\n",
      "5  100480988            Смартфон Honor 8X 64GB     64\n",
      "6  100481020     Смартфон Apple iPhone Xr 64GB     19\n"
     ]
    }
   ],
   "source": [
    "stock['item'] = stock['item'].drop_duplicates()\n",
    "stock = stock.dropna().reset_index(drop = True)\n",
    "print(stock)"
   ]
  },
  {
   "cell_type": "markdown",
   "metadata": {},
   "source": [
    "7. \n",
    "Замените количество телефонов Xiaomi — значение в столбце 'count' — на переменную xiaomi. Напомним, что в этой переменной вы сохранили число смартфонов Xiaomi. Выведите таблицу на экран и изучите результат."
   ]
  },
  {
   "cell_type": "code",
   "execution_count": 187,
   "metadata": {},
   "outputs": [
    {
     "name": "stdout",
     "output_type": "stream",
     "text": [
      "          id                              item  count\n",
      "0  100480924     Смартфон Xiaomi Redmi 6A 16GB     44\n",
      "1  100480938  Смартфон Samsung Galaxy A30 32GB     49\n",
      "2  100480952  смартфон Samsung Galaxy A30 32gb     11\n",
      "3  100480959          Смартфон HUAWEI P30 lite      5\n",
      "4  100480975     Смартфон Apple iPhone Xr 64gb     10\n",
      "5  100480988            Смартфон Honor 8X 64GB     64\n",
      "6  100481020     Смартфон Apple iPhone Xr 64GB     19\n"
     ]
    }
   ],
   "source": [
    "xiaomi = stock.loc[0, 'count'] = xiaomi\n",
    "print(stock)"
   ]
  },
  {
   "cell_type": "markdown",
   "metadata": {},
   "source": [
    "8.\n",
    "Замените количество телефонов Huawei в таблице — значение в столбце 'count' — на переменную huawei. Распечатайте таблицу stock на экране."
   ]
  },
  {
   "cell_type": "code",
   "execution_count": 189,
   "metadata": {},
   "outputs": [
    {
     "name": "stdout",
     "output_type": "stream",
     "text": [
      "          id                              item  count\n",
      "0  100480924     Смартфон Xiaomi Redmi 6A 16GB     44\n",
      "1  100480938  Смартфон Samsung Galaxy A30 32GB     49\n",
      "2  100480952  смартфон Samsung Galaxy A30 32gb     11\n",
      "3  100480959          Смартфон HUAWEI P30 lite     38\n",
      "4  100480975     Смартфон Apple iPhone Xr 64gb     10\n",
      "5  100480988            Смартфон Honor 8X 64GB     64\n",
      "6  100481020     Смартфон Apple iPhone Xr 64GB     19\n"
     ]
    }
   ],
   "source": [
    "huawei = stock.loc[3, 'count'] = huawei\n",
    "print(stock)"
   ]
  },
  {
   "cell_type": "markdown",
   "metadata": {},
   "source": [
    "# Стемминг\n",
    " Процесс нахождения основы для заданного слова называется стемминг. В Python для стемминга есть специальная библиотека NLTK.\n",
    "Импортируем стеммер для русского языка:\n",
    "# Передаём стеммеру как аргумент значение 'russian', чтобы включить лингвистический анализ именно русского языка\n",
    "from nltk.stem import SnowballStemmer \n",
    "russian_stemmer = SnowballStemmer('russian')  \n",
    "Исходный список слов с комбинацией букв «мух» сохраним в переменной words:\n",
    "words = [\"муха\", \"мухи\", \"муху\", \"мух\", \"мухами\", \"мухаммед\"] \n",
    "Для каждого элемента списка напечатаем исходное слово и его основу, выявленную стеммингом:\n",
    "#обратите внимание на оформление запятой во второй части предложения\n",
    "for word in words:\n",
    "    print ('Исходное слово - ' + word + ', после стемминга - ' + russian_stemmer.stem(word)) \n",
    "Исходное слово - муха, после стемминга - мух\n",
    "Исходное слово - мухи, после стемминга - мух\n",
    "Исходное слово - муху, после стемминга - мух\n",
    "Исходное слово - мух, после стемминга - мух\n",
    "Исходное слово - мухами, после стемминга - мух\n",
    "Исходное слово - мухаммед, после стемминга - мухаммед "
   ]
  },
  {
   "cell_type": "markdown",
   "metadata": {},
   "source": [
    "1.\n",
    "Вернитесь к смартфонам и проанализируйте поисковые запросы пользователей.\n",
    "Напишите цикл, который выводит только запросы, содержащие набор букв «эпл». Внимательно просмотрите полученный список и найдите лишние слова."
   ]
  },
  {
   "cell_type": "code",
   "execution_count": 191,
   "metadata": {},
   "outputs": [
    {
     "ename": "ModuleNotFoundError",
     "evalue": "No module named 'nltk'",
     "output_type": "error",
     "traceback": [
      "\u001b[0;31m---------------------------------------------------------------------------\u001b[0m",
      "\u001b[0;31mModuleNotFoundError\u001b[0m                       Traceback (most recent call last)",
      "\u001b[0;32m<ipython-input-191-d57f1b77a6cf>\u001b[0m in \u001b[0;36m<module>\u001b[0;34m\u001b[0m\n\u001b[0;32m----> 1\u001b[0;31m \u001b[0;32mfrom\u001b[0m \u001b[0mnltk\u001b[0m\u001b[0;34m.\u001b[0m\u001b[0mstem\u001b[0m \u001b[0;32mimport\u001b[0m \u001b[0mSnowballStemmer\u001b[0m\u001b[0;34m\u001b[0m\u001b[0;34m\u001b[0m\u001b[0m\n\u001b[0m\u001b[1;32m      2\u001b[0m \u001b[0mrussian_stemmer\u001b[0m \u001b[0;34m=\u001b[0m \u001b[0mSnowballStemmer\u001b[0m\u001b[0;34m(\u001b[0m\u001b[0;34m'russian'\u001b[0m\u001b[0;34m)\u001b[0m\u001b[0;34m\u001b[0m\u001b[0;34m\u001b[0m\u001b[0m\n\u001b[1;32m      3\u001b[0m \u001b[0;34m\u001b[0m\u001b[0m\n\u001b[1;32m      4\u001b[0m queries = [\"эпл айфоны\", \n\u001b[1;32m      5\u001b[0m            \u001b[0;34m\"купить эпл телефон\"\u001b[0m\u001b[0;34m,\u001b[0m\u001b[0;34m\u001b[0m\u001b[0;34m\u001b[0m\u001b[0m\n",
      "\u001b[0;31mModuleNotFoundError\u001b[0m: No module named 'nltk'"
     ]
    }
   ],
   "source": [
    "from nltk.stem import SnowballStemmer\n",
    "russian_stemmer = SnowballStemmer('russian')\n",
    "\n",
    "queries = [\"эпл айфоны\", \n",
    "           \"купить эпл телефон\", \n",
    "           \"лучшие смартфоны\", \n",
    "           \"барон фон\", \n",
    "           \"смартфон эпл айфон\", \n",
    "           \"смартфоны 2019\", \n",
    "           \"эплан\", \n",
    "           \"фоновая музыка\", \n",
    "           \"эпл айфоны икс\", \n",
    "           \"эпл айфон 64гб\",\n",
    "           \"фон для фото\",\n",
    "           \"купить эпл\",\n",
    "           \"эпл айфон купить\",\n",
    "           \"эплеренон купить\", \n",
    "           \"смартфон где купить\", \n",
    "           \"эплан показания\", \n",
    "           \"смартфон huawei\",\n",
    "           \"эпл\"]\n",
    "for query in queries:\n",
    "    if 'эпл' in query:\n",
    "        print(query) "
   ]
  },
  {
   "cell_type": "markdown",
   "metadata": {},
   "source": [
    "\n",
    "2. Проведите стемминг в списке words. Результат выведите на экран в следующем виде:\n",
    "Исходное слово - ..., после стемминга - ..."
   ]
  },
  {
   "cell_type": "code",
   "execution_count": 192,
   "metadata": {},
   "outputs": [
    {
     "ename": "ModuleNotFoundError",
     "evalue": "No module named 'nltk'",
     "output_type": "error",
     "traceback": [
      "\u001b[0;31m---------------------------------------------------------------------------\u001b[0m",
      "\u001b[0;31mModuleNotFoundError\u001b[0m                       Traceback (most recent call last)",
      "\u001b[0;32m<ipython-input-192-40575be50944>\u001b[0m in \u001b[0;36m<module>\u001b[0;34m\u001b[0m\n\u001b[0;32m----> 1\u001b[0;31m \u001b[0;32mfrom\u001b[0m \u001b[0mnltk\u001b[0m\u001b[0;34m.\u001b[0m\u001b[0mstem\u001b[0m \u001b[0;32mimport\u001b[0m \u001b[0mSnowballStemmer\u001b[0m\u001b[0;34m\u001b[0m\u001b[0;34m\u001b[0m\u001b[0m\n\u001b[0m\u001b[1;32m      2\u001b[0m \u001b[0mrussian_stemmer\u001b[0m \u001b[0;34m=\u001b[0m \u001b[0mSnowballStemmer\u001b[0m\u001b[0;34m(\u001b[0m\u001b[0;34m'russian'\u001b[0m\u001b[0;34m)\u001b[0m\u001b[0;34m\u001b[0m\u001b[0;34m\u001b[0m\u001b[0m\n\u001b[1;32m      3\u001b[0m \u001b[0mwords\u001b[0m \u001b[0;34m=\u001b[0m \u001b[0;34m[\u001b[0m\u001b[0;34m\"эпл\"\u001b[0m\u001b[0;34m,\u001b[0m \u001b[0;34m\"эплан\"\u001b[0m\u001b[0;34m,\u001b[0m \u001b[0;34m\"эплеренон\"\u001b[0m\u001b[0;34m]\u001b[0m\u001b[0;34m\u001b[0m\u001b[0;34m\u001b[0m\u001b[0m\n\u001b[1;32m      4\u001b[0m \u001b[0;31m#обратите внимание на оформление запятой во второй части предложения\u001b[0m\u001b[0;34m\u001b[0m\u001b[0;34m\u001b[0m\u001b[0;34m\u001b[0m\u001b[0m\n\u001b[1;32m      5\u001b[0m \u001b[0;32mfor\u001b[0m \u001b[0mword\u001b[0m \u001b[0;32min\u001b[0m \u001b[0mwords\u001b[0m\u001b[0;34m:\u001b[0m\u001b[0;34m\u001b[0m\u001b[0;34m\u001b[0m\u001b[0m\n",
      "\u001b[0;31mModuleNotFoundError\u001b[0m: No module named 'nltk'"
     ]
    }
   ],
   "source": [
    "from nltk.stem import SnowballStemmer \n",
    "russian_stemmer = SnowballStemmer('russian')\n",
    "words = [\"эпл\", \"эплан\", \"эплеренон\"]\n",
    "#обратите внимание на оформление запятой во второй части предложения\n",
    "for word in words:\n",
    "    print ('Исходное слово - ' + word + ', после стемминга - ' + russian_stemmer.stem(word))"
   ]
  },
  {
   "cell_type": "markdown",
   "metadata": {},
   "source": [
    "3. Сформируйте список запросов с «эпл»."
   ]
  },
  {
   "cell_type": "code",
   "execution_count": 194,
   "metadata": {},
   "outputs": [
    {
     "ename": "ModuleNotFoundError",
     "evalue": "No module named 'nltk'",
     "output_type": "error",
     "traceback": [
      "\u001b[0;31m---------------------------------------------------------------------------\u001b[0m",
      "\u001b[0;31mModuleNotFoundError\u001b[0m                       Traceback (most recent call last)",
      "\u001b[0;32m<ipython-input-194-fffcddc32795>\u001b[0m in \u001b[0;36m<module>\u001b[0;34m\u001b[0m\n\u001b[0;32m----> 1\u001b[0;31m \u001b[0;32mfrom\u001b[0m \u001b[0mnltk\u001b[0m\u001b[0;34m.\u001b[0m\u001b[0mstem\u001b[0m \u001b[0;32mimport\u001b[0m \u001b[0mSnowballStemmer\u001b[0m\u001b[0;34m\u001b[0m\u001b[0;34m\u001b[0m\u001b[0m\n\u001b[0m\u001b[1;32m      2\u001b[0m \u001b[0mrussian_stemmer\u001b[0m \u001b[0;34m=\u001b[0m \u001b[0mSnowballStemmer\u001b[0m\u001b[0;34m(\u001b[0m\u001b[0;34m'russian'\u001b[0m\u001b[0;34m)\u001b[0m\u001b[0;34m\u001b[0m\u001b[0;34m\u001b[0m\u001b[0m\n\u001b[1;32m      3\u001b[0m \u001b[0;34m\u001b[0m\u001b[0m\n\u001b[1;32m      4\u001b[0m queries = [\"эпл айфоны\", \n\u001b[1;32m      5\u001b[0m            \u001b[0;34m\"купить эпл телефон\"\u001b[0m\u001b[0;34m,\u001b[0m\u001b[0;34m\u001b[0m\u001b[0;34m\u001b[0m\u001b[0m\n",
      "\u001b[0;31mModuleNotFoundError\u001b[0m: No module named 'nltk'"
     ]
    }
   ],
   "source": [
    "from nltk.stem import SnowballStemmer \n",
    "russian_stemmer = SnowballStemmer('russian')\n",
    "\n",
    "queries = [\"эпл айфоны\", \n",
    "           \"купить эпл телефон\", \n",
    "           \"лучшие смартфоны\", \n",
    "           \"барон фон\", \n",
    "           \"смартфон эпл айфон\", \n",
    "           \"смартфоны 2019\", \n",
    "           \"эплан\", \n",
    "           \"фоновая музыка\", \n",
    "           \"эпл айфоны икс\", \n",
    "           \"эпл айфон 64гб\",\n",
    "           \"фон для фото\",\n",
    "           \"купить эпл\",\n",
    "           \"эпл айфон купить\",\n",
    "           \"эплеренон купить\", \n",
    "           \"смартфон где купить\", \n",
    "           \"эплан показания\", \n",
    "           \"смартфон huawei\",\n",
    "           \"эпл\"]\n",
    "for query in queries:\n",
    "    for word in query.split(' '):\n",
    "        stemmed_word = russian_stemmer.stem(word)\n",
    "        if stemmed_word == 'эпл':\n",
    "            print(query) \n",
    "        "
   ]
  },
  {
   "cell_type": "markdown",
   "metadata": {},
   "source": [
    "# Лемматизация. Библиотека PyMystem.\n",
    "Более продвинутый процесс — лемматизация, или приведение слова к его словарной форме (лемме).\n",
    "Одна из библиотек с функцией лемматизации на русском языке — pymystem3, разработана сотрудниками Яндекса. Посмотрим, как она работает:\n",
    "# pymystem3 импортируется так:\n",
    "from pymystem3 import Mystem\n",
    "m = Mystem() \n",
    "Лемматизируем стихотворение Даниила Хармса:\n",
    "text = \"\"\"\n",
    "Легкомысленные речи за столом произносив, \n",
    "я сидел, раскинув плечи, неподвижен и красив.\n",
    "\"\"\"\n",
    "\n",
    "lemmas = m.lemmatize(text)\n",
    "print(lemmas) "
   ]
  },
  {
   "cell_type": "markdown",
   "metadata": {},
   "source": [
    "1. Прочитайте файл с отзывами, расположенный по адресу: /datasets/feedback.csv. Сохраните таблицу в переменной feedback и выведите её на экран."
   ]
  },
  {
   "cell_type": "code",
   "execution_count": 196,
   "metadata": {},
   "outputs": [
    {
     "name": "stdout",
     "output_type": "stream",
     "text": [
      "                                                text\n",
      "0  Супер экран Супер звук, он реально очень хорош...\n",
      "1  - Огромный качественный экран Запаса производи...\n",
      "2  - Face ID - бесит, хоть и работает достаточно ...\n"
     ]
    }
   ],
   "source": [
    "feedback = pd.read_csv('feedback.csv')\n",
    "print(feedback)"
   ]
  },
  {
   "cell_type": "markdown",
   "metadata": {},
   "source": [
    "2.\n",
    "Лемматизируйте слова во втором отзыве и сохраните результат в переменной lemmas. Выведите слова на экран.\n",
    "Не забудьте импортировать библиотеку pymystem3."
   ]
  },
  {
   "cell_type": "code",
   "execution_count": 197,
   "metadata": {},
   "outputs": [
    {
     "ename": "ModuleNotFoundError",
     "evalue": "No module named 'pymystem3'",
     "output_type": "error",
     "traceback": [
      "\u001b[0;31m---------------------------------------------------------------------------\u001b[0m",
      "\u001b[0;31mModuleNotFoundError\u001b[0m                       Traceback (most recent call last)",
      "\u001b[0;32m<ipython-input-197-9221c617e5b3>\u001b[0m in \u001b[0;36m<module>\u001b[0;34m\u001b[0m\n\u001b[0;32m----> 1\u001b[0;31m \u001b[0;32mfrom\u001b[0m \u001b[0mpymystem3\u001b[0m \u001b[0;32mimport\u001b[0m \u001b[0mMystem\u001b[0m\u001b[0;34m\u001b[0m\u001b[0;34m\u001b[0m\u001b[0m\n\u001b[0m\u001b[1;32m      2\u001b[0m \u001b[0mm\u001b[0m \u001b[0;34m=\u001b[0m \u001b[0mMystem\u001b[0m\u001b[0;34m(\u001b[0m\u001b[0;34m)\u001b[0m\u001b[0;34m\u001b[0m\u001b[0;34m\u001b[0m\u001b[0m\n\u001b[1;32m      3\u001b[0m \u001b[0mlemmas\u001b[0m \u001b[0;34m=\u001b[0m \u001b[0mm\u001b[0m\u001b[0;34m.\u001b[0m\u001b[0mlemmatize\u001b[0m\u001b[0;34m(\u001b[0m\u001b[0mfeedback\u001b[0m\u001b[0;34m[\u001b[0m\u001b[0;34m'text'\u001b[0m\u001b[0;34m]\u001b[0m\u001b[0;34m[\u001b[0m\u001b[0;36m1\u001b[0m\u001b[0;34m]\u001b[0m\u001b[0;34m)\u001b[0m\u001b[0;34m\u001b[0m\u001b[0;34m\u001b[0m\u001b[0m\n\u001b[1;32m      4\u001b[0m \u001b[0mprint\u001b[0m\u001b[0;34m(\u001b[0m\u001b[0mlemmas\u001b[0m\u001b[0;34m)\u001b[0m\u001b[0;34m\u001b[0m\u001b[0;34m\u001b[0m\u001b[0m\n",
      "\u001b[0;31mModuleNotFoundError\u001b[0m: No module named 'pymystem3'"
     ]
    }
   ],
   "source": [
    "from pymystem3 import Mystem\n",
    "m = Mystem() \n",
    "lemmas = m.lemmatize(feedback['text'][1])\n",
    "print(lemmas)"
   ]
  },
  {
   "cell_type": "markdown",
   "metadata": {},
   "source": [
    "3.\n",
    "Посчитайте, сколько раз каждое слово употребляется во втором отзыве. Закомментируйте вывод предыдущей задачи и выведите результат на экран."
   ]
  },
  {
   "cell_type": "code",
   "execution_count": 198,
   "metadata": {},
   "outputs": [
    {
     "ename": "NameError",
     "evalue": "name 'm' is not defined",
     "output_type": "error",
     "traceback": [
      "\u001b[0;31m---------------------------------------------------------------------------\u001b[0m",
      "\u001b[0;31mNameError\u001b[0m                                 Traceback (most recent call last)",
      "\u001b[0;32m<ipython-input-198-cb89aa0e28e6>\u001b[0m in \u001b[0;36m<module>\u001b[0;34m\u001b[0m\n\u001b[0;32m----> 1\u001b[0;31m \u001b[0mlemmas\u001b[0m \u001b[0;34m=\u001b[0m \u001b[0mm\u001b[0m\u001b[0;34m.\u001b[0m\u001b[0mlemmatize\u001b[0m\u001b[0;34m(\u001b[0m\u001b[0mfeedback\u001b[0m\u001b[0;34m[\u001b[0m\u001b[0;34m'text'\u001b[0m\u001b[0;34m]\u001b[0m\u001b[0;34m[\u001b[0m\u001b[0;36m1\u001b[0m\u001b[0;34m]\u001b[0m\u001b[0;34m)\u001b[0m\u001b[0;34m\u001b[0m\u001b[0;34m\u001b[0m\u001b[0m\n\u001b[0m\u001b[1;32m      2\u001b[0m \u001b[0mprint\u001b[0m\u001b[0;34m(\u001b[0m\u001b[0mCounter\u001b[0m\u001b[0;34m(\u001b[0m\u001b[0mlemmas\u001b[0m\u001b[0;34m)\u001b[0m\u001b[0;34m)\u001b[0m\u001b[0;34m\u001b[0m\u001b[0;34m\u001b[0m\u001b[0m\n",
      "\u001b[0;31mNameError\u001b[0m: name 'm' is not defined"
     ]
    }
   ],
   "source": [
    "lemmas = m.lemmatize(feedback['text'][1])\n",
    "print(Counter(lemmas)) "
   ]
  },
  {
   "cell_type": "markdown",
   "metadata": {},
   "source": [
    "4.\n",
    "Лемматизируйте слова третьего отзыва и сохраните результат в переменной lemmas. Выведите слова на экран.\n",
    "Не забудьте импортировать библиотеку pymystem3."
   ]
  },
  {
   "cell_type": "code",
   "execution_count": 199,
   "metadata": {},
   "outputs": [
    {
     "ename": "NameError",
     "evalue": "name 'm' is not defined",
     "output_type": "error",
     "traceback": [
      "\u001b[0;31m---------------------------------------------------------------------------\u001b[0m",
      "\u001b[0;31mNameError\u001b[0m                                 Traceback (most recent call last)",
      "\u001b[0;32m<ipython-input-199-0c33b86e6c0b>\u001b[0m in \u001b[0;36m<module>\u001b[0;34m\u001b[0m\n\u001b[0;32m----> 1\u001b[0;31m \u001b[0mlemmas\u001b[0m \u001b[0;34m=\u001b[0m \u001b[0mm\u001b[0m\u001b[0;34m.\u001b[0m\u001b[0mlemmatize\u001b[0m\u001b[0;34m(\u001b[0m\u001b[0mfeedback\u001b[0m\u001b[0;34m[\u001b[0m\u001b[0;34m'text'\u001b[0m\u001b[0;34m]\u001b[0m\u001b[0;34m[\u001b[0m\u001b[0;36m2\u001b[0m\u001b[0;34m]\u001b[0m\u001b[0;34m)\u001b[0m\u001b[0;34m\u001b[0m\u001b[0;34m\u001b[0m\u001b[0m\n\u001b[0m\u001b[1;32m      2\u001b[0m \u001b[0mprint\u001b[0m\u001b[0;34m(\u001b[0m\u001b[0mlemmas\u001b[0m\u001b[0;34m)\u001b[0m\u001b[0;34m\u001b[0m\u001b[0;34m\u001b[0m\u001b[0m\n",
      "\u001b[0;31mNameError\u001b[0m: name 'm' is not defined"
     ]
    }
   ],
   "source": [
    "lemmas = m.lemmatize(feedback['text'][2])\n",
    "print(lemmas)"
   ]
  },
  {
   "cell_type": "markdown",
   "metadata": {},
   "source": [
    "5.\n",
    "Посчитайте, сколько раз каждое слово употребляется в третьем отзыве. Закомментируйте вывод предыдущей задачи и выведите результат на экран."
   ]
  },
  {
   "cell_type": "code",
   "execution_count": 200,
   "metadata": {},
   "outputs": [
    {
     "ename": "NameError",
     "evalue": "name 'm' is not defined",
     "output_type": "error",
     "traceback": [
      "\u001b[0;31m---------------------------------------------------------------------------\u001b[0m",
      "\u001b[0;31mNameError\u001b[0m                                 Traceback (most recent call last)",
      "\u001b[0;32m<ipython-input-200-991bfa7ff175>\u001b[0m in \u001b[0;36m<module>\u001b[0;34m\u001b[0m\n\u001b[0;32m----> 1\u001b[0;31m \u001b[0mlemmas\u001b[0m \u001b[0;34m=\u001b[0m \u001b[0mm\u001b[0m\u001b[0;34m.\u001b[0m\u001b[0mlemmatize\u001b[0m\u001b[0;34m(\u001b[0m\u001b[0mfeedback\u001b[0m\u001b[0;34m[\u001b[0m\u001b[0;34m'text'\u001b[0m\u001b[0;34m]\u001b[0m\u001b[0;34m[\u001b[0m\u001b[0;36m2\u001b[0m\u001b[0;34m]\u001b[0m\u001b[0;34m)\u001b[0m\u001b[0;34m\u001b[0m\u001b[0;34m\u001b[0m\u001b[0m\n\u001b[0m\u001b[1;32m      2\u001b[0m \u001b[0;31m#print(lemmas)\u001b[0m\u001b[0;34m\u001b[0m\u001b[0;34m\u001b[0m\u001b[0;34m\u001b[0m\u001b[0m\n\u001b[1;32m      3\u001b[0m \u001b[0mprint\u001b[0m\u001b[0;34m(\u001b[0m\u001b[0mCounter\u001b[0m\u001b[0;34m(\u001b[0m\u001b[0mlemmas\u001b[0m\u001b[0;34m)\u001b[0m\u001b[0;34m)\u001b[0m\u001b[0;34m\u001b[0m\u001b[0;34m\u001b[0m\u001b[0m\n",
      "\u001b[0;31mNameError\u001b[0m: name 'm' is not defined"
     ]
    }
   ],
   "source": [
    "lemmas = m.lemmatize(feedback['text'][2])\n",
    "#print(lemmas)\n",
    "print(Counter(lemmas))"
   ]
  },
  {
   "cell_type": "markdown",
   "metadata": {},
   "source": [
    "# Знакомство с данными\n",
    "Важно уметь не только привлекать клиентов, но и удерживать их.\n",
    "Вы уже анализировали поисковую выдачу товаров Яндекс.Маркета, сравнивали источники трафика и избавлялись от дубликатов в ассортименте — всё это направлено на улучшение маркетинга. Однако не менее важны усилия по поддержке пользователей.\n",
    "Вам передали статистику обращений в службу поддержки Яндекс.Маркета: id каждого пользователя с темой и временем обращения.\n",
    "Ваша задача — настроить приоритизацию задач по каждому виду обращений. Сейчас непонятно, за решение каких проблем браться в первую очередь, а какие могут подождать. Такой формат загрузки службы поддержки не повышает качество сервиса."
   ]
  },
  {
   "cell_type": "markdown",
   "metadata": {},
   "source": [
    "1.\n",
    "Прочитайте файл с отзывами, размещённый по адресу: /datasets/support.csv\n",
    "Сохраните таблицу в переменной support. Выведите первые 10 строк.\n",
    "Путь к файлу: /datasets/support.csv"
   ]
  },
  {
   "cell_type": "code",
   "execution_count": 201,
   "metadata": {},
   "outputs": [
    {
     "name": "stdout",
     "output_type": "stream",
     "text": [
      "    user_id                Тип обращения  type_id      Время обращения\n",
      "0  DNcd8dnS   Жалоба на товар в магазине        3  2019-03-28 13:58:24\n",
      "1  0e9MvwGs                Мошенничество        5  2019-03-08 17:11:59\n",
      "2  boyDUG4C                Мошенничество        5  2019-03-03 17:52:34\n",
      "3  5jMA27s1   Жалоба на товар в магазине        3  2019-03-16 15:18:21\n",
      "4  wvtyctOK             Накрутка отзывов        2  2019-03-13 14:43:14\n",
      "5  zvN8W1tc         Жалоба на видеообзор        8  2019-03-29 20:32:17\n",
      "6  bBmybSbr             Не работает сайт        1  2019-04-08 21:37:15\n",
      "7  5JX1P5G8  Продажа запрещенных товаров        6  2019-04-06 12:15:20\n",
      "8  pbbG3xWx             Не работает сайт        1  2019-04-09 17:30:43\n",
      "9  vZWtTovT   Жалоба на товар в магазине        3  2019-04-16 12:26:16\n"
     ]
    }
   ],
   "source": [
    "support = pd.read_csv('support.csv')\n",
    "print(support.head(10))"
   ]
  },
  {
   "cell_type": "markdown",
   "metadata": {},
   "source": [
    "2.\n",
    "Просмотрите общую информацию о наборе данных."
   ]
  },
  {
   "cell_type": "code",
   "execution_count": 202,
   "metadata": {},
   "outputs": [
    {
     "name": "stdout",
     "output_type": "stream",
     "text": [
      "<class 'pandas.core.frame.DataFrame'>\n",
      "RangeIndex: 3000 entries, 0 to 2999\n",
      "Data columns (total 4 columns):\n",
      " #   Column           Non-Null Count  Dtype \n",
      "---  ------           --------------  ----- \n",
      " 0   user_id          3000 non-null   object\n",
      " 1   Тип обращения    3000 non-null   object\n",
      " 2   type_id          3000 non-null   int64 \n",
      " 3   Время обращения  3000 non-null   object\n",
      "dtypes: int64(1), object(3)\n",
      "memory usage: 93.9+ KB\n"
     ]
    }
   ],
   "source": [
    "support.info()"
   ]
  },
  {
   "cell_type": "markdown",
   "metadata": {},
   "source": [
    "3.\n",
    "Замените названия столбцов методом set_axis():\n",
    "- Тип обращения поменяйте на type_message;\n",
    "- Время обращения — на timestamp.\n",
    "- Столбцы user_id и type_id оставьте без изменений.\n",
    "Проверьте успешность замены методом info()."
   ]
  },
  {
   "cell_type": "code",
   "execution_count": 203,
   "metadata": {},
   "outputs": [
    {
     "name": "stdout",
     "output_type": "stream",
     "text": [
      "<class 'pandas.core.frame.DataFrame'>\n",
      "RangeIndex: 3000 entries, 0 to 2999\n",
      "Data columns (total 4 columns):\n",
      " #   Column        Non-Null Count  Dtype \n",
      "---  ------        --------------  ----- \n",
      " 0   user_id       3000 non-null   object\n",
      " 1   type_message  3000 non-null   object\n",
      " 2   type_id       3000 non-null   int64 \n",
      " 3   timestamp     3000 non-null   object\n",
      "dtypes: int64(1), object(3)\n",
      "memory usage: 93.9+ KB\n"
     ]
    }
   ],
   "source": [
    "support.set_axis(['user_id', 'type_message',  'type_id', 'timestamp'], axis='columns', inplace=True)\n",
    "support.info()"
   ]
  },
  {
   "cell_type": "markdown",
   "metadata": {},
   "source": [
    "# Классификация по типу\n",
    "Типы обращений в поддержку хранятся в виде строк разной длины. К чему приводит такой способ хранения?\n",
    "- Усложняется визуальная работа с таблицей;\n",
    "- Увеличивается размер файла и время обработки данных;\n",
    "- Чтобы отфильтровать данные по типу обращения, приходится набирать его полное название (а в нём можно допустить ошибки);\n",
    "- Создание новых категорий и изменение старых отнимает много времени.\n",
    "Предупредить появление этих проблем можно. Создадим отдельный «словарь», где названию категории будет соответствовать номер. И в будущих таблицах будем обращаться уже не к длинной строке, а к её числовому обозначению."
   ]
  },
  {
   "cell_type": "markdown",
   "metadata": {},
   "source": [
    "1.\n",
    "Уточните, сколько раз встречается каждый тип обращений. Результат выведите на экран."
   ]
  },
  {
   "cell_type": "code",
   "execution_count": 205,
   "metadata": {},
   "outputs": [
    {
     "name": "stdout",
     "output_type": "stream",
     "text": [
      "Жалоба на товар в магазине      606\n",
      "Мошенничество                   586\n",
      "Продажа поддельной продукции    312\n",
      "Не работает сайт                311\n",
      "Продажа запрещенных товаров     303\n",
      "Накрутка отзывов                302\n",
      "Жалоба на видеообзор            297\n",
      "Отзыв удалён                    283\n",
      "Name: type_message, dtype: int64\n"
     ]
    }
   ],
   "source": [
    "print(support['type_message'].value_counts())"
   ]
  },
  {
   "cell_type": "markdown",
   "metadata": {},
   "source": [
    "2. Создайте новую таблицу support_log.\n",
    "Из таблицы support перенесите следующие столбцы: 'user_id', 'type_id', 'timestamp'. \n",
    "    Первые 10 строк support_log напечатайте на экране."
   ]
  },
  {
   "cell_type": "code",
   "execution_count": 206,
   "metadata": {},
   "outputs": [
    {
     "name": "stdout",
     "output_type": "stream",
     "text": [
      "    user_id  type_id            timestamp\n",
      "0  DNcd8dnS        3  2019-03-28 13:58:24\n",
      "1  0e9MvwGs        5  2019-03-08 17:11:59\n",
      "2  boyDUG4C        5  2019-03-03 17:52:34\n",
      "3  5jMA27s1        3  2019-03-16 15:18:21\n",
      "4  wvtyctOK        2  2019-03-13 14:43:14\n",
      "5  zvN8W1tc        8  2019-03-29 20:32:17\n",
      "6  bBmybSbr        1  2019-04-08 21:37:15\n",
      "7  5JX1P5G8        6  2019-04-06 12:15:20\n",
      "8  pbbG3xWx        1  2019-04-09 17:30:43\n",
      "9  vZWtTovT        3  2019-04-16 12:26:16\n"
     ]
    }
   ],
   "source": [
    "support_log = support[['user_id', 'type_id', 'timestamp']]\n",
    "print(support_log.head(10))"
   ]
  },
  {
   "cell_type": "markdown",
   "metadata": {},
   "source": [
    "3.\n",
    "Создайте новую таблицу support_dict. Из таблицы support перенесите следующие столбцы: 'type_message', 'type_id'. Первые 10 строк support_dict выведите на экран."
   ]
  },
  {
   "cell_type": "code",
   "execution_count": 207,
   "metadata": {},
   "outputs": [
    {
     "name": "stdout",
     "output_type": "stream",
     "text": [
      "                  type_message  type_id\n",
      "0   Жалоба на товар в магазине        3\n",
      "1                Мошенничество        5\n",
      "2                Мошенничество        5\n",
      "3   Жалоба на товар в магазине        3\n",
      "4             Накрутка отзывов        2\n",
      "5         Жалоба на видеообзор        8\n",
      "6             Не работает сайт        1\n",
      "7  Продажа запрещенных товаров        6\n",
      "8             Не работает сайт        1\n",
      "9   Жалоба на товар в магазине        3\n"
     ]
    }
   ],
   "source": [
    "support_dict = support[['type_message', 'type_id']]\n",
    "print(support_dict.head(10))"
   ]
  },
  {
   "cell_type": "markdown",
   "metadata": {},
   "source": [
    "4.\n",
    "Удалите дубликаты в таблице support_dict. Распечатайте её в порядке возрастания значений столбца 'type_id'. Вывод support_dict из предыдущего задания закомментируйте."
   ]
  },
  {
   "cell_type": "code",
   "execution_count": 208,
   "metadata": {},
   "outputs": [
    {
     "name": "stdout",
     "output_type": "stream",
     "text": [
      "                   type_message  type_id\n",
      "4              Не работает сайт        1\n",
      "2              Накрутка отзывов        2\n",
      "0    Жалоба на товар в магазине        3\n",
      "6  Продажа поддельной продукции        4\n",
      "1                 Мошенничество        5\n",
      "5   Продажа запрещенных товаров        6\n",
      "7                  Отзыв удалён        7\n",
      "3          Жалоба на видеообзор        8\n"
     ]
    }
   ],
   "source": [
    "support_dict = support_dict.drop_duplicates().reset_index(drop=True)\n",
    "print(support_dict.sort_values('type_id'))"
   ]
  },
  {
   "cell_type": "markdown",
   "metadata": {},
   "source": [
    "# Классификация по возрастным группам\n",
    "Работать с единичными отрывками и делать из них статистические выводы нельзя. Значит, нужно сгруппировать данные, чтобы численности каждой группы хватало для формулировки выводов.\n",
    "Нужна категоризация — объединение данных в категории. Распределим клиентов так:\n",
    "Клиенты младше 18 лет попадают в категорию «дети»;\n",
    "Клиенты от 19 до 64 лет — категория «взрослые»;\n",
    "Клиенты старше 65 лет принадлежат к категории «пенсионеры».\n",
    "Запишем правила классификации клиентов как функции. В отличие от стандартных методов Pandas функции гибки: в них можно закладывать более сложную логику и добавлять новые требования. Тестировать функции подстановкой разных значений удобнее, чем применять методы Pandas ко всему датафрейму."
   ]
  },
  {
   "cell_type": "markdown",
   "metadata": {},
   "source": [
    "1.\n",
    "Сгруппируйте данные по типу события и посчитайте количество событий. Сохраните группировку в переменной support_log_grouped и выведите её на экран."
   ]
  },
  {
   "cell_type": "code",
   "execution_count": 209,
   "metadata": {},
   "outputs": [
    {
     "name": "stdout",
     "output_type": "stream",
     "text": [
      "         user_id  timestamp\n",
      "type_id                    \n",
      "1            311        311\n",
      "2            302        302\n",
      "3            606        606\n",
      "4            312        312\n",
      "5            586        586\n",
      "6            303        303\n",
      "7            283        283\n",
      "8            297        297\n"
     ]
    }
   ],
   "source": [
    "support_log_grouped = support_log.groupby('type_id').count()\n",
    "print(support_log_grouped) "
   ]
  },
  {
   "cell_type": "markdown",
   "metadata": {},
   "source": [
    "2.\n",
    "Напишите функцию alert_group(messages) , которая оценивает приоритет в зависимости от количества сообщений. Если параметр не более 300, она должна возвращать строку 'средний', если значение параметра от 301 до 500 включительно, тогда строку 'высокий'. Для более высоких значений должна возвращаться строка 'критичный'.\n",
    "Проверьте, что ваша функция отвечает верно, когда ей передают числа 10, 450, 1000. Каждое значение выводите на новой строке."
   ]
  },
  {
   "cell_type": "code",
   "execution_count": 211,
   "metadata": {},
   "outputs": [
    {
     "name": "stdout",
     "output_type": "stream",
     "text": [
      "средний\n",
      "высокий\n",
      "критичный\n"
     ]
    }
   ],
   "source": [
    "support_log_grouped = support_log.groupby('type_id').count()\n",
    "\n",
    "def alert_group(messages):\n",
    "    if messages <= 300:\n",
    "        return 'средний'\n",
    "    elif 301 <= messages <= 500:\n",
    "        return 'высокий'\n",
    "    elif messages > 500 :\n",
    "        return 'критичный'\n",
    "    \n",
    "print(alert_group(10))\n",
    "print(alert_group(450))\n",
    "print(alert_group(1000))"
   ]
  },
  {
   "cell_type": "markdown",
   "metadata": {},
   "source": [
    "3.\n",
    "Добавьте таблице support_log_grouped столбец 'alert_group', где хранятся результаты применения вашей функции alert_group().\n",
    "Закомментируйте результаты предыдущего задания. Посмотрите верхние 10 строк support_log_grouped: убедитесь, что функция правильно расставила приоритеты."
   ]
  },
  {
   "cell_type": "code",
   "execution_count": 212,
   "metadata": {},
   "outputs": [
    {
     "name": "stdout",
     "output_type": "stream",
     "text": [
      "         user_id  timestamp alert_group\n",
      "type_id                                \n",
      "1            311        311     высокий\n",
      "2            302        302     высокий\n",
      "3            606        606   критичный\n",
      "4            312        312     высокий\n",
      "5            586        586   критичный\n",
      "6            303        303     высокий\n",
      "7            283        283     средний\n",
      "8            297        297     средний\n"
     ]
    }
   ],
   "source": [
    "support_log_grouped['alert_group'] = support_log_grouped['user_id'].apply(alert_group)\n",
    "print(support_log_grouped.head(10))"
   ]
  },
  {
   "cell_type": "markdown",
   "metadata": {},
   "source": [
    "4.\n",
    "Посчитайте количество обращений по каждому приоритету."
   ]
  },
  {
   "cell_type": "code",
   "execution_count": 214,
   "metadata": {},
   "outputs": [
    {
     "name": "stdout",
     "output_type": "stream",
     "text": [
      "             user_id  timestamp\n",
      "alert_group                    \n",
      "высокий         1228       1228\n",
      "критичный       1192       1192\n",
      "средний          580        580\n"
     ]
    }
   ],
   "source": [
    "print(support_log_grouped.groupby('alert_group').sum()) "
   ]
  },
  {
   "cell_type": "markdown",
   "metadata": {},
   "source": [
    "# Функция для одной строки"
   ]
  },
  {
   "cell_type": "markdown",
   "metadata": {},
   "source": [
    "1.\n",
    "Прочитайте файл с отзывами, размещённый по адресу: /datasets/support_log_grouped.csv.\n",
    "Результат выведите на экран."
   ]
  },
  {
   "cell_type": "code",
   "execution_count": 216,
   "metadata": {},
   "outputs": [
    {
     "name": "stdout",
     "output_type": "stream",
     "text": [
      "   type_id  user_id  timestamp alert_group  importance\n",
      "0        1      311        311     высокий           1\n",
      "1        2      302        302     высокий           0\n",
      "2        3      606        606   критичный           0\n",
      "3        4      312        312     высокий           1\n",
      "4        5      586        586   критичный           1\n",
      "5        6      303        303     высокий           1\n",
      "6        7      283        283     средний           1\n",
      "7        8      297        297     средний           0\n"
     ]
    }
   ],
   "source": [
    "support_log_grouped = pd.read_csv('support_log_grouped.csv')\n",
    "print(support_log_grouped) "
   ]
  },
  {
   "cell_type": "markdown",
   "metadata": {},
   "source": [
    "2.\n",
    "Напишите функцию alert_group_importance(row), работающую в соответствии со следующей логикой:\n",
    "Если приоритет 'alert_group' средний, а важность 'importance' оценена в единицу, возвращать команду для отдела поддержки: 'обратить внимание';\n",
    "Если приоритет высокий, а важность — единица, возвращать: 'высокий риск';\n",
    "Если приоритет критичный, а важность — единица, возвращать: 'блокер';\n",
    "Во всех остальных случаях выводить: 'в порядке очереди'.\n",
    "Проверьте работоспособность функции для разных значений.\n",
    "Чтобы тренажёр принял решение, оставьте в переменной row_values значение ['высокий', 1]."
   ]
  },
  {
   "cell_type": "code",
   "execution_count": 217,
   "metadata": {},
   "outputs": [
    {
     "name": "stdout",
     "output_type": "stream",
     "text": [
      "высокий риск\n"
     ]
    }
   ],
   "source": [
    "def alert_group_importance(row):\n",
    "    if row['alert_group']  == 'средний':\n",
    "        if row['importance'] == 1:\n",
    "            return 'обратить внимание'\n",
    "        \n",
    "    if row['alert_group']  == 'высокий':\n",
    "        if row['importance'] == 1:\n",
    "            return 'высокий риск'\n",
    "        \n",
    "    if row['alert_group']  == 'критичный':\n",
    "        if row['importance'] == 1:\n",
    "            return 'блокер'\n",
    "    return 'в порядке очереди'\n",
    "\n",
    "row_values = ['высокий', 1]\n",
    "row_columns = ['alert_group', 'importance']\n",
    "row = pd.Series(data=row_values, index=row_columns) \n",
    "print(alert_group_importance(row))\n",
    "    "
   ]
  },
  {
   "cell_type": "markdown",
   "metadata": {},
   "source": [
    "3.\n",
    "Создайте новый столбец 'importance_status' и сохраните в нём результаты работы функции alert_group_importance(). Результат выведите на экран."
   ]
  },
  {
   "cell_type": "code",
   "execution_count": 218,
   "metadata": {},
   "outputs": [
    {
     "name": "stdout",
     "output_type": "stream",
     "text": [
      "   type_id  user_id  timestamp alert_group  importance  importance_status\n",
      "0        1      311        311     высокий           1       высокий риск\n",
      "1        2      302        302     высокий           0  в порядке очереди\n",
      "2        3      606        606   критичный           0  в порядке очереди\n",
      "3        4      312        312     высокий           1       высокий риск\n",
      "4        5      586        586   критичный           1             блокер\n",
      "5        6      303        303     высокий           1       высокий риск\n",
      "6        7      283        283     средний           1  обратить внимание\n",
      "7        8      297        297     средний           0  в порядке очереди\n"
     ]
    }
   ],
   "source": [
    "support_log_grouped['importance_status'] = support_log_grouped.apply(alert_group_importance, axis=1)\n",
    "print(support_log_grouped)"
   ]
  },
  {
   "cell_type": "markdown",
   "metadata": {},
   "source": [
    "4. Узнайте, сколько разных статусов в столбце 'importance_status'. Результат выведите на экран."
   ]
  },
  {
   "cell_type": "code",
   "execution_count": 219,
   "metadata": {},
   "outputs": [
    {
     "name": "stdout",
     "output_type": "stream",
     "text": [
      "высокий риск         3\n",
      "в порядке очереди    3\n",
      "блокер               1\n",
      "обратить внимание    1\n",
      "Name: importance_status, dtype: int64\n"
     ]
    }
   ],
   "source": [
    "print(support_log_grouped['importance_status'].value_counts())\n"
   ]
  },
  {
   "cell_type": "markdown",
   "metadata": {},
   "source": [
    "# Заключение\n",
    "Завершая экскурс в мир ошибок экспериментов, повторим главные тезисы:\n",
    "«Ошибка» — понятие субъективное. На деле, любой результат — это информация.\n",
    "Системное мышление помогает осознать, что в данных есть проблемы, и быстро их найти.\n",
    "Критическое мышление заставляет сомневаться, побуждая из возможных вариантов выбрать лучший.\n",
    "Три этапа обработки своей ошибки: 1. признать её, 2. сформулировать, в чем проблема, 3. обратиться к тому, от кого зависит решение.\n",
    "На работе это коллега или руководитель, а на нашей программе — преподаватель или куратор. Пишите преподавателю в канал #exerciser, а куратору лично. Вас не оставят в беде."
   ]
  },
  {
   "cell_type": "code",
   "execution_count": null,
   "metadata": {},
   "outputs": [],
   "source": []
  }
 ],
 "metadata": {
  "kernelspec": {
   "display_name": "Python 3",
   "language": "python",
   "name": "python3"
  },
  "language_info": {
   "codemirror_mode": {
    "name": "ipython",
    "version": 3
   },
   "file_extension": ".py",
   "mimetype": "text/x-python",
   "name": "python",
   "nbconvert_exporter": "python",
   "pygments_lexer": "ipython3",
   "version": "3.7.3"
  }
 },
 "nbformat": 4,
 "nbformat_minor": 4
}
